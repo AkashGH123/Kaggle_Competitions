{
 "cells": [
  {
   "cell_type": "code",
   "execution_count": 1,
   "metadata": {},
   "outputs": [],
   "source": [
    "import pandas as pd\n",
    "import numpy as np\n",
    "import matplotlib.pyplot as plt\n",
    "import seaborn as sns\n",
    "import json"
   ]
  },
  {
   "cell_type": "code",
   "execution_count": 2,
   "metadata": {},
   "outputs": [
    {
     "name": "stdout",
     "output_type": "stream",
     "text": [
      "Wall time: 2min 6s\n"
     ]
    }
   ],
   "source": [
    "%%time\n",
    "df=pd.read_csv(\"train.csv\",nrows=4000000,dtype={'MachineIdentifier': 'category',\n",
    " 'ProductName': 'category',\n",
    " 'EngineVersion': 'category',\n",
    " 'AppVersion': 'category',\n",
    " 'AvSigVersion': 'category',\n",
    " 'Platform': 'category',\n",
    " 'Processor': 'category',\n",
    " 'OsVer': 'category',\n",
    " 'OsPlatformSubRelease': 'category',\n",
    " 'OsBuildLab': 'category',\n",
    " 'SkuEdition': 'category',\n",
    " 'PuaMode': 'category',\n",
    " 'SmartScreen': 'category',\n",
    " 'Census_MDC2FormFactor': 'category',\n",
    " 'Census_DeviceFamily': 'category',\n",
    " 'Census_ProcessorClass': 'category',\n",
    " 'Census_PrimaryDiskTypeName': 'category',\n",
    " 'Census_ChassisTypeName': 'category',\n",
    " 'Census_PowerPlatformRoleName': 'category',\n",
    " 'Census_InternalBatteryType': 'category',\n",
    " 'Census_OSVersion': 'category',\n",
    " 'Census_OSArchitecture': 'category',\n",
    " 'Census_OSBranch': 'category',\n",
    " 'Census_OSEdition': 'category',\n",
    " 'Census_OSSkuName': 'category',\n",
    " 'Census_OSInstallTypeName': 'category',\n",
    " 'Census_OSWUAutoUpdateOptionsName': 'category',\n",
    " 'Census_GenuineStateName': 'category',\n",
    " 'Census_ActivationChannel': 'category',\n",
    " 'Census_FlightRing': 'category',\n",
    " 'RtpStateBitfield': 'float16',\n",
    " 'DefaultBrowsersIdentifier': 'float16',\n",
    " 'AVProductsInstalled': 'float16',\n",
    " 'AVProductsEnabled': 'float16',\n",
    " 'OrganizationIdentifier': 'float16',\n",
    " 'GeoNameIdentifier': 'float16',\n",
    " 'IsProtected': 'float16',\n",
    " 'SMode': 'float16',\n",
    " 'IeVerIdentifier': 'float16',\n",
    " 'Firewall': 'float16',\n",
    " 'Census_OEMNameIdentifier': 'float16',\n",
    " 'Census_ProcessorCoreCount': 'float16',\n",
    " 'Census_ProcessorManufacturerIdentifier': 'float16',\n",
    " 'Census_ProcessorModelIdentifier': 'float16',\n",
    " 'Census_InternalPrimaryDiagonalDisplaySizeInInches': 'float16',\n",
    " 'Census_InternalPrimaryDisplayResolutionHorizontal': 'float16',\n",
    " 'Census_InternalPrimaryDisplayResolutionVertical': 'float16',\n",
    " 'Census_OSInstallLanguageIdentifier': 'float16',\n",
    " 'Census_IsFlightingInternal': 'float16',\n",
    " 'Census_IsFlightsDisabled': 'float16',\n",
    " 'Census_ThresholdOptIn': 'float16',\n",
    " 'Census_FirmwareManufacturerIdentifier': 'float16',\n",
    " 'Census_IsWIMBootEnabled': 'float16',\n",
    " 'Census_IsVirtualDevice': 'float16',\n",
    " 'Census_IsAlwaysOnAlwaysConnectedCapable': 'float16',\n",
    " 'Wdft_IsGamer': 'float16',\n",
    " 'Wdft_RegionIdentifier': 'float16',\n",
    " 'AVProductStatesIdentifier': 'float32',\n",
    " 'CityIdentifier': 'float32',\n",
    " 'UacLuaenable': 'float32',\n",
    " 'Census_OEMModelIdentifier': 'float32',\n",
    " 'Census_PrimaryDiskTotalCapacity': 'float32',\n",
    " 'Census_SystemVolumeTotalCapacity': 'float32',\n",
    " 'Census_TotalPhysicalRAM': 'float32',\n",
    " 'Census_InternalBatteryNumberOfCharges': 'float32',\n",
    " 'Census_FirmwareVersionIdentifier': 'float32',\n",
    " 'IsBeta': 'int32',\n",
    " 'IsSxsPassiveMode': 'int32',\n",
    " 'HasTpm': 'int32',\n",
    " 'CountryIdentifier': 'int32',\n",
    " 'LocaleEnglishNameIdentifier': 'int32',\n",
    " 'OsBuild': 'int32',\n",
    " 'OsSuite': 'int32',\n",
    " 'AutoSampleOptIn': 'int32',\n",
    " 'Census_HasOpticalDiskDrive': 'int32',\n",
    " 'Census_OSBuildNumber': 'int32',\n",
    " 'Census_OSBuildRevision': 'int32',\n",
    " 'Census_OSUILocaleIdentifier': 'int32',\n",
    " 'Census_IsPortableOperatingSystem': 'int32',\n",
    " 'Census_IsSecureBootEnabled': 'int32',\n",
    " 'Census_IsTouchEnabled': 'int32',\n",
    " 'Census_IsPenCapable': 'int32',\n",
    " 'HasDetections': 'int32'})"
   ]
  },
  {
   "cell_type": "code",
   "execution_count": 3,
   "metadata": {},
   "outputs": [],
   "source": [
    "initial_memory=df.memory_usage().sum()"
   ]
  },
  {
   "cell_type": "code",
   "execution_count": 4,
   "metadata": {},
   "outputs": [
    {
     "data": {
      "text/plain": [
       "(4000000, 83)"
      ]
     },
     "execution_count": 4,
     "metadata": {},
     "output_type": "execute_result"
    }
   ],
   "source": [
    "df.shape"
   ]
  },
  {
   "cell_type": "code",
   "execution_count": 5,
   "metadata": {},
   "outputs": [],
   "source": [
    "for col in df.columns:\n",
    "    #print(\"Number of Unique values : \"+str(col)+\" :\"+str(df[col].dtype),df[col].nunique())\n",
    "    if df[col].nunique()==2:\n",
    "        try:\n",
    "            df[col]=df[col].astype('int8')\n",
    "        except:\n",
    "            continue\n",
    "    else:\n",
    "        continue"
   ]
  },
  {
   "cell_type": "code",
   "execution_count": 6,
   "metadata": {},
   "outputs": [
    {
     "name": "stdout",
     "output_type": "stream",
     "text": [
      "Number of Columns :  83\n",
      "Number of Rows :  4000000\n",
      "Memory Usage :  856229408\n"
     ]
    }
   ],
   "source": [
    "print(\"Number of Columns : \",len(df.columns))\n",
    "print(\"Number of Rows : \",len(df))\n",
    "print(\"Memory Usage : \",df.memory_usage().sum())"
   ]
  },
  {
   "cell_type": "code",
   "execution_count": null,
   "metadata": {},
   "outputs": [],
   "source": []
  },
  {
   "cell_type": "code",
   "execution_count": 7,
   "metadata": {},
   "outputs": [],
   "source": [
    "l=df.columns[df.isnull().any()].tolist()"
   ]
  },
  {
   "cell_type": "code",
   "execution_count": 8,
   "metadata": {},
   "outputs": [],
   "source": [
    "drop_list=[]\n",
    "delete_rows_list=[]\n",
    "treat_list=[]\n",
    "for column in l:\n",
    "    #print(\"Number of Null Values for : \"+str(column)+\" \"+str(df[column].isnull().sum())+\" \"+str(df[column].isnull().sum()*100/len(df))+\"%\")\n",
    "    if df[column].isnull().sum()*100/len(df)>=60:#dropping columns with more than 30% of missing values\n",
    "        drop_list.append(column)\n",
    "    elif df[column].isnull().sum()*100/len(df)<=30:#Deleting rows having columns upto 30% missing values\n",
    "        delete_rows_list.append(column)\n",
    "    else:#Treating null values in the remainder of the columns\n",
    "        treat_list.append(column)"
   ]
  },
  {
   "cell_type": "code",
   "execution_count": 9,
   "metadata": {},
   "outputs": [
    {
     "data": {
      "text/plain": [
       "['DefaultBrowsersIdentifier',\n",
       " 'PuaMode',\n",
       " 'Census_ProcessorClass',\n",
       " 'Census_InternalBatteryType',\n",
       " 'Census_IsFlightingInternal',\n",
       " 'Census_ThresholdOptIn',\n",
       " 'Census_IsWIMBootEnabled']"
      ]
     },
     "execution_count": 9,
     "metadata": {},
     "output_type": "execute_result"
    }
   ],
   "source": [
    "drop_list"
   ]
  },
  {
   "cell_type": "code",
   "execution_count": 10,
   "metadata": {},
   "outputs": [
    {
     "data": {
      "text/plain": [
       "['RtpStateBitfield',\n",
       " 'AVProductStatesIdentifier',\n",
       " 'AVProductsInstalled',\n",
       " 'AVProductsEnabled',\n",
       " 'CityIdentifier',\n",
       " 'GeoNameIdentifier',\n",
       " 'OsBuildLab',\n",
       " 'IsProtected',\n",
       " 'SMode',\n",
       " 'IeVerIdentifier',\n",
       " 'Firewall',\n",
       " 'UacLuaenable',\n",
       " 'Census_OEMNameIdentifier',\n",
       " 'Census_OEMModelIdentifier',\n",
       " 'Census_ProcessorCoreCount',\n",
       " 'Census_ProcessorManufacturerIdentifier',\n",
       " 'Census_ProcessorModelIdentifier',\n",
       " 'Census_PrimaryDiskTotalCapacity',\n",
       " 'Census_PrimaryDiskTypeName',\n",
       " 'Census_SystemVolumeTotalCapacity',\n",
       " 'Census_TotalPhysicalRAM',\n",
       " 'Census_ChassisTypeName',\n",
       " 'Census_InternalPrimaryDiagonalDisplaySizeInInches',\n",
       " 'Census_InternalPrimaryDisplayResolutionHorizontal',\n",
       " 'Census_InternalPrimaryDisplayResolutionVertical',\n",
       " 'Census_PowerPlatformRoleName',\n",
       " 'Census_InternalBatteryNumberOfCharges',\n",
       " 'Census_OSInstallLanguageIdentifier',\n",
       " 'Census_IsFlightsDisabled',\n",
       " 'Census_FirmwareManufacturerIdentifier',\n",
       " 'Census_FirmwareVersionIdentifier',\n",
       " 'Census_IsVirtualDevice',\n",
       " 'Census_IsAlwaysOnAlwaysConnectedCapable',\n",
       " 'Wdft_IsGamer',\n",
       " 'Wdft_RegionIdentifier']"
      ]
     },
     "execution_count": 10,
     "metadata": {},
     "output_type": "execute_result"
    }
   ],
   "source": [
    "delete_rows_list"
   ]
  },
  {
   "cell_type": "code",
   "execution_count": 11,
   "metadata": {},
   "outputs": [
    {
     "data": {
      "text/plain": [
       "['OrganizationIdentifier', 'SmartScreen']"
      ]
     },
     "execution_count": 11,
     "metadata": {},
     "output_type": "execute_result"
    }
   ],
   "source": [
    "treat_list"
   ]
  },
  {
   "cell_type": "code",
   "execution_count": 12,
   "metadata": {},
   "outputs": [],
   "source": [
    "df.drop(columns=drop_list,axis=1,inplace=True)"
   ]
  },
  {
   "cell_type": "code",
   "execution_count": 13,
   "metadata": {},
   "outputs": [
    {
     "data": {
      "text/plain": [
       "(4000000, 76)"
      ]
     },
     "execution_count": 13,
     "metadata": {},
     "output_type": "execute_result"
    }
   ],
   "source": [
    "df.shape"
   ]
  },
  {
   "cell_type": "code",
   "execution_count": 14,
   "metadata": {},
   "outputs": [],
   "source": [
    "df.dropna(subset=delete_rows_list,axis=0,inplace=True)"
   ]
  },
  {
   "cell_type": "code",
   "execution_count": 15,
   "metadata": {},
   "outputs": [],
   "source": [
    "import statistics"
   ]
  },
  {
   "cell_type": "code",
   "execution_count": 16,
   "metadata": {},
   "outputs": [],
   "source": [
    "column_value_replacements={}\n",
    "#number_of_unique={}\n",
    "#equal_col=[]\n",
    "for col in df.columns:\n",
    "    if col=='MachineIdentifier':\n",
    "        continue\n",
    "    elif col in df.select_dtypes(include=['category','object']).columns:\n",
    "        column_value_replacements[col]=statistics.mode(df[col])\n",
    "#        number_of_unique[col]=df[col].nunique()\n",
    "    else:\n",
    "        column_value_replacements[col]=np.nanmedian(df[col])"
   ]
  },
  {
   "cell_type": "code",
   "execution_count": 17,
   "metadata": {},
   "outputs": [
    {
     "data": {
      "text/plain": [
       "(3219314, 76)"
      ]
     },
     "execution_count": 17,
     "metadata": {},
     "output_type": "execute_result"
    }
   ],
   "source": [
    "df.shape"
   ]
  },
  {
   "cell_type": "code",
   "execution_count": 18,
   "metadata": {},
   "outputs": [
    {
     "data": {
      "text/plain": [
       "991610"
      ]
     },
     "execution_count": 18,
     "metadata": {},
     "output_type": "execute_result"
    }
   ],
   "source": [
    "df.OrganizationIdentifier.isnull().sum()"
   ]
  },
  {
   "cell_type": "code",
   "execution_count": 19,
   "metadata": {},
   "outputs": [
    {
     "name": "stderr",
     "output_type": "stream",
     "text": [
      "C:\\Users\\gandh\\Anaconda3\\lib\\site-packages\\scipy\\stats\\stats.py:1713: FutureWarning: Using a non-tuple sequence for multidimensional indexing is deprecated; use `arr[tuple(seq)]` instead of `arr[seq]`. In the future this will be interpreted as an array index, `arr[np.array(seq)]`, which will result either in an error or a different result.\n",
      "  return np.add.reduce(sorted[indexer] * weights, axis=axis) / sumval\n",
      "C:\\Users\\gandh\\Anaconda3\\lib\\site-packages\\matplotlib\\axes\\_axes.py:6462: UserWarning: The 'normed' kwarg is deprecated, and has been replaced by the 'density' kwarg.\n",
      "  warnings.warn(\"The 'normed' kwarg is deprecated, and has been \"\n"
     ]
    },
    {
     "data": {
      "text/plain": [
       "<matplotlib.axes._subplots.AxesSubplot at 0x1b9f72bdf98>"
      ]
     },
     "execution_count": 19,
     "metadata": {},
     "output_type": "execute_result"
    },
    {
     "data": {
      "image/png": "[encoded data removed]",
      "text/plain": [
       "<Figure size 432x288 with 1 Axes>"
      ]
     },
     "metadata": {},
     "output_type": "display_data"
    }
   ],
   "source": [
    "sns.distplot(df.OrganizationIdentifier.fillna(np.nanmedian(df['OrganizationIdentifier'])))"
   ]
  },
  {
   "cell_type": "code",
   "execution_count": 20,
   "metadata": {},
   "outputs": [
    {
     "data": {
      "text/plain": [
       "1100886"
      ]
     },
     "execution_count": 20,
     "metadata": {},
     "output_type": "execute_result"
    }
   ],
   "source": [
    "df.SmartScreen.isnull().sum()"
   ]
  },
  {
   "cell_type": "code",
   "execution_count": 21,
   "metadata": {},
   "outputs": [
    {
     "data": {
      "text/plain": [
       "'RequireAdmin'"
      ]
     },
     "execution_count": 21,
     "metadata": {},
     "output_type": "execute_result"
    }
   ],
   "source": [
    "statistics.mode(df.SmartScreen)"
   ]
  },
  {
   "cell_type": "code",
   "execution_count": 22,
   "metadata": {},
   "outputs": [],
   "source": [
    "df.SmartScreen.fillna(statistics.mode(df.SmartScreen),inplace=True)"
   ]
  },
  {
   "cell_type": "code",
   "execution_count": 23,
   "metadata": {},
   "outputs": [],
   "source": [
    "df.OrganizationIdentifier.fillna(np.nanmedian(df.OrganizationIdentifier),inplace=True)"
   ]
  },
  {
   "cell_type": "code",
   "execution_count": 24,
   "metadata": {},
   "outputs": [
    {
     "data": {
      "text/plain": [
       "(3219314, 76)"
      ]
     },
     "execution_count": 24,
     "metadata": {},
     "output_type": "execute_result"
    }
   ],
   "source": [
    "df.shape"
   ]
  },
  {
   "cell_type": "code",
   "execution_count": 25,
   "metadata": {},
   "outputs": [
    {
     "data": {
      "text/plain": [
       "Index([], dtype='object')"
      ]
     },
     "execution_count": 25,
     "metadata": {},
     "output_type": "execute_result"
    }
   ],
   "source": [
    "df.columns[df.isnull().any()]"
   ]
  },
  {
   "cell_type": "code",
   "execution_count": 26,
   "metadata": {},
   "outputs": [],
   "source": [
    "#for col in df.columns:\n",
    "#    print(\"Number of unique values for : \"+str(col)+\" :\",df[col].nunique())"
   ]
  },
  {
   "cell_type": "code",
   "execution_count": 27,
   "metadata": {},
   "outputs": [
    {
     "data": {
      "text/plain": [
       "Index([], dtype='object')"
      ]
     },
     "execution_count": 27,
     "metadata": {},
     "output_type": "execute_result"
    }
   ],
   "source": [
    "df.select_dtypes(include='object').columns"
   ]
  },
  {
   "cell_type": "code",
   "execution_count": 28,
   "metadata": {},
   "outputs": [
    {
     "data": {
      "text/plain": [
       "Index([], dtype='object')"
      ]
     },
     "execution_count": 28,
     "metadata": {},
     "output_type": "execute_result"
    }
   ],
   "source": [
    "df.select_dtypes(include='int64').columns"
   ]
  },
  {
   "cell_type": "code",
   "execution_count": 29,
   "metadata": {},
   "outputs": [
    {
     "data": {
      "text/plain": [
       "Index([], dtype='object')"
      ]
     },
     "execution_count": 29,
     "metadata": {},
     "output_type": "execute_result"
    }
   ],
   "source": [
    "df.select_dtypes(include='float64').columns"
   ]
  },
  {
   "cell_type": "code",
   "execution_count": 30,
   "metadata": {},
   "outputs": [],
   "source": [
    "from sklearn.preprocessing import LabelEncoder"
   ]
  },
  {
   "cell_type": "code",
   "execution_count": 31,
   "metadata": {},
   "outputs": [],
   "source": [
    "cols=df.columns.tolist()"
   ]
  },
  {
   "cell_type": "code",
   "execution_count": 32,
   "metadata": {},
   "outputs": [
    {
     "data": {
      "text/plain": [
       "4"
      ]
     },
     "execution_count": 32,
     "metadata": {},
     "output_type": "execute_result"
    }
   ],
   "source": [
    "df[cols[1]].nunique()"
   ]
  },
  {
   "cell_type": "code",
   "execution_count": 33,
   "metadata": {},
   "outputs": [
    {
     "data": {
      "text/plain": [
       "[win8defender, mse, mseprerelease, scep]\n",
       "Categories (4, object): [win8defender, mse, mseprerelease, scep]"
      ]
     },
     "execution_count": 33,
     "metadata": {},
     "output_type": "execute_result"
    }
   ],
   "source": [
    "df[cols[1]].unique()"
   ]
  },
  {
   "cell_type": "code",
   "execution_count": 34,
   "metadata": {},
   "outputs": [
    {
     "data": {
      "text/plain": [
       "win8defender     3217239\n",
       "mse                 2073\n",
       "scep                   1\n",
       "mseprerelease          1\n",
       "fep                    0\n",
       "windowsintune          0\n",
       "Name: ProductName, dtype: int64"
      ]
     },
     "execution_count": 34,
     "metadata": {},
     "output_type": "execute_result"
    }
   ],
   "source": [
    "df[cols[1]].value_counts()"
   ]
  },
  {
   "cell_type": "code",
   "execution_count": 35,
   "metadata": {},
   "outputs": [
    {
     "data": {
      "text/plain": [
       "<matplotlib.axes._subplots.AxesSubplot at 0x1b997cf2748>"
      ]
     },
     "execution_count": 35,
     "metadata": {},
     "output_type": "execute_result"
    },
    {
     "data": {
      "image/png": "[encoded data removed]",
      "text/plain": [
       "<Figure size 432x288 with 1 Axes>"
      ]
     },
     "metadata": {},
     "output_type": "display_data"
    }
   ],
   "source": [
    "fig,ax=plt.subplots()\n",
    "df[df.HasDetections==1].groupby(cols[1]).count()['MachineIdentifier'].plot(kind='bar',ax=ax)"
   ]
  },
  {
   "cell_type": "code",
   "execution_count": 36,
   "metadata": {},
   "outputs": [
    {
     "data": {
      "text/plain": [
       "ProductName\n",
       "mse                  706\n",
       "win8defender     1631001\n",
       "mseprerelease          0\n",
       "windowsintune          0\n",
       "fep                    0\n",
       "scep                   0\n",
       "Name: MachineIdentifier, dtype: int64"
      ]
     },
     "execution_count": 36,
     "metadata": {},
     "output_type": "execute_result"
    }
   ],
   "source": [
    "df[df.HasDetections==1].groupby(cols[1]).count()['MachineIdentifier']"
   ]
  },
  {
   "cell_type": "code",
   "execution_count": 37,
   "metadata": {},
   "outputs": [
    {
     "data": {
      "text/plain": [
       "<matplotlib.axes._subplots.AxesSubplot at 0x1b994e3b748>"
      ]
     },
     "execution_count": 37,
     "metadata": {},
     "output_type": "execute_result"
    },
    {
     "data": {
      "image/png": "[encoded data removed]",
      "text/plain": [
       "<Figure size 432x288 with 1 Axes>"
      ]
     },
     "metadata": {},
     "output_type": "display_data"
    }
   ],
   "source": [
    "fig,ax=plt.subplots()\n",
    "df[df.HasDetections==0].groupby(cols[1]).count()['MachineIdentifier'].plot(kind='bar',ax=ax)"
   ]
  },
  {
   "cell_type": "code",
   "execution_count": 38,
   "metadata": {},
   "outputs": [
    {
     "data": {
      "text/plain": [
       "ProductName\n",
       "mse                 1367\n",
       "win8defender     1586238\n",
       "mseprerelease          1\n",
       "windowsintune          0\n",
       "fep                    0\n",
       "scep                   1\n",
       "Name: MachineIdentifier, dtype: int64"
      ]
     },
     "execution_count": 38,
     "metadata": {},
     "output_type": "execute_result"
    }
   ],
   "source": [
    "df[df.HasDetections==0].groupby(cols[1]).count()['MachineIdentifier']"
   ]
  },
  {
   "cell_type": "code",
   "execution_count": null,
   "metadata": {},
   "outputs": [],
   "source": []
  },
  {
   "cell_type": "code",
   "execution_count": 39,
   "metadata": {},
   "outputs": [],
   "source": [
    "df.drop(columns=cols[1],axis=1,inplace=True)"
   ]
  },
  {
   "cell_type": "code",
   "execution_count": 40,
   "metadata": {},
   "outputs": [
    {
     "data": {
      "text/plain": [
       "58"
      ]
     },
     "execution_count": 40,
     "metadata": {},
     "output_type": "execute_result"
    }
   ],
   "source": [
    "df[cols[2]].nunique()"
   ]
  },
  {
   "cell_type": "code",
   "execution_count": 41,
   "metadata": {},
   "outputs": [
    {
     "data": {
      "text/plain": [
       "[1.1.15100.1, 1.1.14600.4, 1.1.15200.1, 1.1.15300.6, 1.1.14800.3, ..., 1.1.11903.0, 1.1.11701.0, 1.1.12002.0, 1.1.12101.0, 1.1.12706.0]\n",
       "Length: 58\n",
       "Categories (58, object): [1.1.15100.1, 1.1.14600.4, 1.1.15200.1, 1.1.15300.6, ..., 1.1.11701.0, 1.1.12002.0, 1.1.12101.0, 1.1.12706.0]"
      ]
     },
     "execution_count": 41,
     "metadata": {},
     "output_type": "execute_result"
    }
   ],
   "source": [
    "df[cols[2]].unique()"
   ]
  },
  {
   "cell_type": "code",
   "execution_count": 42,
   "metadata": {},
   "outputs": [
    {
     "data": {
      "text/plain": [
       "'EngineVersion'"
      ]
     },
     "execution_count": 42,
     "metadata": {},
     "output_type": "execute_result"
    }
   ],
   "source": [
    "cols[2]"
   ]
  },
  {
   "cell_type": "code",
   "execution_count": 43,
   "metadata": {},
   "outputs": [
    {
     "data": {
      "text/plain": [
       "<matplotlib.axes._subplots.AxesSubplot at 0x1b9907c3278>"
      ]
     },
     "execution_count": 43,
     "metadata": {},
     "output_type": "execute_result"
    },
    {
     "data": {
      "image/png": "[encoded data removed]",
      "text/plain": [
       "<Figure size 1080x720 with 1 Axes>"
      ]
     },
     "metadata": {},
     "output_type": "display_data"
    }
   ],
   "source": [
    "fig,ax=plt.subplots(figsize=(15,10))\n",
    "df[df.HasDetections==1].groupby(cols[2]).count()['MachineIdentifier'].plot(kind='bar',ax=ax)"
   ]
  },
  {
   "cell_type": "code",
   "execution_count": 44,
   "metadata": {},
   "outputs": [],
   "source": [
    "t1=df[df.HasDetections==1].groupby(cols[2]).count()['MachineIdentifier'].reset_index().sort_values(by='MachineIdentifier',ascending=False)"
   ]
  },
  {
   "cell_type": "code",
   "execution_count": 45,
   "metadata": {},
   "outputs": [
    {
     "data": {
      "text/plain": [
       "<matplotlib.axes._subplots.AxesSubplot at 0x1b9875e72e8>"
      ]
     },
     "execution_count": 45,
     "metadata": {},
     "output_type": "execute_result"
    },
    {
     "data": {
      "image/png": "[encoded data removed]",
      "text/plain": [
       "<Figure size 1080x720 with 1 Axes>"
      ]
     },
     "metadata": {},
     "output_type": "display_data"
    }
   ],
   "source": [
    "fig,ax=plt.subplots(figsize=(15,10))\n",
    "df[df.HasDetections==0].groupby(cols[2]).count()['MachineIdentifier'].plot(kind='bar',ax=ax)"
   ]
  },
  {
   "cell_type": "code",
   "execution_count": 46,
   "metadata": {},
   "outputs": [],
   "source": [
    "t2=df[df.HasDetections==0].groupby(cols[2]).count()['MachineIdentifier'].reset_index().sort_values(by='MachineIdentifier',ascending=False)"
   ]
  },
  {
   "cell_type": "code",
   "execution_count": 47,
   "metadata": {},
   "outputs": [],
   "source": [
    "t1.rename(columns={'MachineIdentifier':'NOM_affected_EngineVersion'},inplace=True)\n",
    "t2.rename(columns={'MachineIdentifier':'NOM_unaffected_EngineVersion'},inplace=True)\n",
    "t=t1.merge(t2,on='EngineVersion',how='inner')"
   ]
  },
  {
   "cell_type": "code",
   "execution_count": 48,
   "metadata": {},
   "outputs": [],
   "source": [
    "t['EngineVersion_Percent_Affected']=np.round(t['NOM_affected_EngineVersion']*100/(t['NOM_affected_EngineVersion']+t['NOM_unaffected_EngineVersion']))"
   ]
  },
  {
   "cell_type": "code",
   "execution_count": 49,
   "metadata": {},
   "outputs": [],
   "source": [
    "t.drop(columns=['NOM_affected_EngineVersion','NOM_unaffected_EngineVersion'],inplace=True)"
   ]
  },
  {
   "cell_type": "code",
   "execution_count": 50,
   "metadata": {},
   "outputs": [],
   "source": [
    "t.sort_values(by='EngineVersion_Percent_Affected',ascending=False,inplace=True)"
   ]
  },
  {
   "cell_type": "code",
   "execution_count": 51,
   "metadata": {},
   "outputs": [
    {
     "data": {
      "text/plain": [
       "Text(0,0.5,'Percentage of Affected Machines')"
      ]
     },
     "execution_count": 51,
     "metadata": {},
     "output_type": "execute_result"
    },
    {
     "data": {
      "image/png": "[encoded data removed]",
      "text/plain": [
       "<Figure size 1080x504 with 1 Axes>"
      ]
     },
     "metadata": {},
     "output_type": "display_data"
    }
   ],
   "source": [
    "fig,ax=plt.subplots(figsize=(15,7))\n",
    "t.plot(kind='bar',ax=ax)\n",
    "ax.set_xlabel(\"Engine Version\")\n",
    "ax.set_ylabel(\"Percentage of Affected Machines\")"
   ]
  },
  {
   "cell_type": "code",
   "execution_count": null,
   "metadata": {},
   "outputs": [],
   "source": []
  },
  {
   "cell_type": "code",
   "execution_count": 52,
   "metadata": {},
   "outputs": [
    {
     "data": {
      "text/plain": [
       "99"
      ]
     },
     "execution_count": 52,
     "metadata": {},
     "output_type": "execute_result"
    }
   ],
   "source": [
    "df[cols[3]].nunique()"
   ]
  },
  {
   "cell_type": "code",
   "execution_count": 53,
   "metadata": {},
   "outputs": [
    {
     "data": {
      "text/plain": [
       "[4.18.1807.18075, 4.13.17134.1, 4.18.1806.18062, 4.12.16299.15, 4.14.17639.18041, ..., 4.8.10240.17446, 4.13.17627.1000, 4.11.15063.1154, 4.8.10240.16425, 4.13.17634.1000]\n",
       "Length: 99\n",
       "Categories (99, object): [4.18.1807.18075, 4.13.17134.1, 4.18.1806.18062, 4.12.16299.15, ..., 4.13.17627.1000, 4.11.15063.1154, 4.8.10240.16425, 4.13.17634.1000]"
      ]
     },
     "execution_count": 53,
     "metadata": {},
     "output_type": "execute_result"
    }
   ],
   "source": [
    "df[cols[3]].unique()"
   ]
  },
  {
   "cell_type": "code",
   "execution_count": 54,
   "metadata": {},
   "outputs": [
    {
     "data": {
      "text/plain": [
       "4.18.1807.18075     2031647\n",
       "4.18.1806.18062      344396\n",
       "4.16.17656.18052      96838\n",
       "4.12.16299.15         96462\n",
       "4.14.17639.18041      79083\n",
       "4.8.10240.17443       77073\n",
       "4.9.10586.1106        74403\n",
       "4.13.17134.228        66123\n",
       "4.13.17134.1          65529\n",
       "4.10.209.0            42760\n",
       "4.12.17007.18022      39429\n",
       "4.14.17613.18039      21593\n",
       "4.11.15063.447        19049\n",
       "4.9.10586.0           18483\n",
       "4.12.17007.18011      17232\n",
       "4.8.10240.16384       16225\n",
       "4.11.15063.0          14506\n",
       "4.10.14393.0          13087\n",
       "4.10.14393.1794       11355\n",
       "4.11.15063.1155        9350\n",
       "4.9.10586.672          6847\n",
       "4.13.17134.191         6484\n",
       "4.10.14393.1198        5547\n",
       "4.9.10586.494          3922\n",
       "4.12.17007.17123       3777\n",
       "4.9.10586.1045         3501\n",
       "4.13.17134.112         3376\n",
       "4.10.14393.1613        3337\n",
       "4.9.10586.589          3219\n",
       "4.10.14393.1593        2294\n",
       "                     ...   \n",
       "4.11.15063.994           21\n",
       "4.17.17682.1000          15\n",
       "4.10.14393.2457          14\n",
       "4.15.17666.1000          13\n",
       "4.15.17661.1001          11\n",
       "4.8.10240.17533          10\n",
       "4.18.1806.20015          10\n",
       "4.16.17656.18051         10\n",
       "4.18.1806.20033           9\n",
       "4.18.1807.18070           7\n",
       "4.9.10586.1177            7\n",
       "4.10.205.0                6\n",
       "4.15.17650.1001           6\n",
       "4.13.17639.1000           6\n",
       "4.13.17627.1000           4\n",
       "4.11.15063.1154           4\n",
       "4.15.17643.1000           3\n",
       "4.9.10586.456             2\n",
       "4.13.17634.1000           2\n",
       "4.12.17007.17121          2\n",
       "4.15.17655.1000           2\n",
       "4.12.17007.18021          2\n",
       "4.5.218.0                 2\n",
       "4.4.306.0                 2\n",
       "4.8.10240.17446           2\n",
       "4.4.304.0                 1\n",
       "4.8.10240.16425           1\n",
       "4.9.219.0                 0\n",
       "4.8.203.0                 0\n",
       "4.5.216.0                 0\n",
       "Name: AppVersion, Length: 102, dtype: int64"
      ]
     },
     "execution_count": 54,
     "metadata": {},
     "output_type": "execute_result"
    }
   ],
   "source": [
    "df[cols[3]].value_counts()"
   ]
  },
  {
   "cell_type": "code",
   "execution_count": 55,
   "metadata": {},
   "outputs": [
    {
     "data": {
      "image/png": "[encoded data removed]",
      "text/plain": [
       "<Figure size 720x1440 with 1 Axes>"
      ]
     },
     "metadata": {},
     "output_type": "display_data"
    }
   ],
   "source": [
    "fig,ax=plt.subplots(figsize=(10,20))\n",
    "df[df.HasDetections==1].groupby(cols[3]).count()['MachineIdentifier'].plot(kind='barh',ax=ax)\n",
    "ax.set_title(\"App Versions with Detected malwares\",fontsize=15)\n",
    "ax.set_xlabel(\"Number of Machines with Malwares\",fontsize=15)\n",
    "ax.set_ylabel(\"App Versions\",fontsize=15)\n",
    "fig.savefig(str(cols[3])+\"_HasDetections_1\"+\".jpg\")"
   ]
  },
  {
   "cell_type": "code",
   "execution_count": 56,
   "metadata": {},
   "outputs": [
    {
     "data": {
      "image/png": "[encoded data removed]",
      "text/plain": [
       "<Figure size 720x1440 with 1 Axes>"
      ]
     },
     "metadata": {},
     "output_type": "display_data"
    }
   ],
   "source": [
    "fig,ax=plt.subplots(figsize=(10,20))\n",
    "df[df.HasDetections==1].groupby(cols[3]).count()['MachineIdentifier'].plot(kind='barh',ax=ax)\n",
    "ax.set_title(\"App Versions without Detected malwares\",fontsize=15)\n",
    "ax.set_xlabel(\"Number of Machines without Malwares\",fontsize=15)\n",
    "ax.set_ylabel(\"App Versions\",fontsize=15)\n",
    "fig.savefig(str(cols[3])+\"_HasDetections_0\"+\".jpg\")"
   ]
  },
  {
   "cell_type": "code",
   "execution_count": 57,
   "metadata": {},
   "outputs": [],
   "source": [
    "u1=df[df.HasDetections==1].groupby(cols[3]).count()['MachineIdentifier'].reset_index().sort_values(by='MachineIdentifier',ascending=False)\n",
    "u2=df[df.HasDetections==0].groupby(cols[3]).count()['MachineIdentifier'].reset_index().sort_values(by='MachineIdentifier',ascending=False)"
   ]
  },
  {
   "cell_type": "code",
   "execution_count": 58,
   "metadata": {},
   "outputs": [],
   "source": [
    "u1.rename(columns={'MachineIdentifier':'NOM_affected_AppVersion'},inplace=True)\n",
    "u2.rename(columns={'MachineIdentifier':'NOM_unaffected_AppVersion'},inplace=True)\n",
    "u=u1.merge(u2,on='AppVersion',how='outer')"
   ]
  },
  {
   "cell_type": "code",
   "execution_count": 59,
   "metadata": {},
   "outputs": [],
   "source": [
    "u['AppVersion_Percent_Affected']=np.round(u['NOM_affected_AppVersion']*100/(u['NOM_affected_AppVersion']+u['NOM_unaffected_AppVersion']))"
   ]
  },
  {
   "cell_type": "code",
   "execution_count": 60,
   "metadata": {},
   "outputs": [],
   "source": [
    "u.drop(columns=['NOM_affected_AppVersion','NOM_unaffected_AppVersion'],inplace=True)"
   ]
  },
  {
   "cell_type": "code",
   "execution_count": 61,
   "metadata": {},
   "outputs": [],
   "source": [
    "u.sort_values(by='AppVersion_Percent_Affected',ascending=False,inplace=True)"
   ]
  },
  {
   "cell_type": "code",
   "execution_count": null,
   "metadata": {},
   "outputs": [],
   "source": []
  },
  {
   "cell_type": "code",
   "execution_count": null,
   "metadata": {},
   "outputs": [],
   "source": []
  },
  {
   "cell_type": "code",
   "execution_count": 62,
   "metadata": {},
   "outputs": [
    {
     "data": {
      "text/plain": [
       "'IsBeta'"
      ]
     },
     "execution_count": 62,
     "metadata": {},
     "output_type": "execute_result"
    }
   ],
   "source": [
    "cols[5]"
   ]
  },
  {
   "cell_type": "code",
   "execution_count": 63,
   "metadata": {},
   "outputs": [
    {
     "data": {
      "text/plain": [
       "2"
      ]
     },
     "execution_count": 63,
     "metadata": {},
     "output_type": "execute_result"
    }
   ],
   "source": [
    "df[cols[5]].nunique()"
   ]
  },
  {
   "cell_type": "code",
   "execution_count": 64,
   "metadata": {},
   "outputs": [
    {
     "data": {
      "text/plain": [
       "array([0, 1], dtype=int64)"
      ]
     },
     "execution_count": 64,
     "metadata": {},
     "output_type": "execute_result"
    }
   ],
   "source": [
    "df[cols[5]].unique()"
   ]
  },
  {
   "cell_type": "code",
   "execution_count": 65,
   "metadata": {},
   "outputs": [
    {
     "data": {
      "text/plain": [
       "0    3219309\n",
       "1          5\n",
       "Name: IsBeta, dtype: int64"
      ]
     },
     "execution_count": 65,
     "metadata": {},
     "output_type": "execute_result"
    }
   ],
   "source": [
    "df[cols[5]].value_counts()"
   ]
  },
  {
   "cell_type": "code",
   "execution_count": 66,
   "metadata": {},
   "outputs": [],
   "source": [
    "df.drop(columns=['IsBeta'],axis=1,inplace=True)"
   ]
  },
  {
   "cell_type": "code",
   "execution_count": 67,
   "metadata": {},
   "outputs": [
    {
     "data": {
      "text/plain": [
       "7"
      ]
     },
     "execution_count": 67,
     "metadata": {},
     "output_type": "execute_result"
    }
   ],
   "source": [
    "df[cols[6]].nunique()"
   ]
  },
  {
   "cell_type": "code",
   "execution_count": 68,
   "metadata": {},
   "outputs": [
    {
     "data": {
      "text/plain": [
       "array([ 7.,  0.,  3.,  5.,  8.,  1., 35.])"
      ]
     },
     "execution_count": 68,
     "metadata": {},
     "output_type": "execute_result"
    }
   ],
   "source": [
    "df[cols[6]].unique()"
   ]
  },
  {
   "cell_type": "code",
   "execution_count": 69,
   "metadata": {},
   "outputs": [
    {
     "data": {
      "text/plain": [
       "7.0     3133588\n",
       "0.0       69723\n",
       "5.0        7722\n",
       "8.0        6831\n",
       "3.0         888\n",
       "1.0         554\n",
       "35.0          8\n",
       "Name: RtpStateBitfield, dtype: int64"
      ]
     },
     "execution_count": 69,
     "metadata": {},
     "output_type": "execute_result"
    }
   ],
   "source": [
    "df[cols[6]].value_counts()"
   ]
  },
  {
   "cell_type": "code",
   "execution_count": 70,
   "metadata": {},
   "outputs": [
    {
     "data": {
      "text/plain": [
       "'RtpStateBitfield'"
      ]
     },
     "execution_count": 70,
     "metadata": {},
     "output_type": "execute_result"
    }
   ],
   "source": [
    "cols[6]"
   ]
  },
  {
   "cell_type": "code",
   "execution_count": 71,
   "metadata": {},
   "outputs": [
    {
     "data": {
      "text/plain": [
       "<matplotlib.axes._subplots.AxesSubplot at 0x1b9f3dcd748>"
      ]
     },
     "execution_count": 71,
     "metadata": {},
     "output_type": "execute_result"
    },
    {
     "data": {
      "image/png": "[encoded data removed]",
      "text/plain": [
       "<Figure size 720x720 with 1 Axes>"
      ]
     },
     "metadata": {},
     "output_type": "display_data"
    }
   ],
   "source": [
    "fig,ax=plt.subplots(figsize=(10,10))\n",
    "df[df.HasDetections==1].groupby(cols[6]).count()['MachineIdentifier'].plot(kind='barh',ax=ax)\n",
    "#df[df.HasDetections==0].groupby(cols[6]).count()['MachineIdentifier'].plot(kind='barh',ax=ax)"
   ]
  },
  {
   "cell_type": "code",
   "execution_count": 72,
   "metadata": {},
   "outputs": [
    {
     "data": {
      "text/html": [
       "<div>\n",
       "<style scoped>\n",
       "    .dataframe tbody tr th:only-of-type {\n",
       "        vertical-align: middle;\n",
       "    }\n",
       "\n",
       "    .dataframe tbody tr th {\n",
       "        vertical-align: top;\n",
       "    }\n",
       "\n",
       "    .dataframe thead th {\n",
       "        text-align: right;\n",
       "    }\n",
       "</style>\n",
       "<table border=\"1\" class=\"dataframe\">\n",
       "  <thead>\n",
       "    <tr style=\"text-align: right;\">\n",
       "      <th></th>\n",
       "      <th>MachineIdentifier</th>\n",
       "      <th>EngineVersion</th>\n",
       "      <th>AppVersion</th>\n",
       "      <th>AvSigVersion</th>\n",
       "      <th>IsSxsPassiveMode</th>\n",
       "      <th>AVProductStatesIdentifier</th>\n",
       "      <th>AVProductsInstalled</th>\n",
       "      <th>AVProductsEnabled</th>\n",
       "      <th>HasTpm</th>\n",
       "      <th>CountryIdentifier</th>\n",
       "      <th>...</th>\n",
       "      <th>Census_FirmwareManufacturerIdentifier</th>\n",
       "      <th>Census_FirmwareVersionIdentifier</th>\n",
       "      <th>Census_IsSecureBootEnabled</th>\n",
       "      <th>Census_IsVirtualDevice</th>\n",
       "      <th>Census_IsTouchEnabled</th>\n",
       "      <th>Census_IsPenCapable</th>\n",
       "      <th>Census_IsAlwaysOnAlwaysConnectedCapable</th>\n",
       "      <th>Wdft_IsGamer</th>\n",
       "      <th>Wdft_RegionIdentifier</th>\n",
       "      <th>HasDetections</th>\n",
       "    </tr>\n",
       "    <tr>\n",
       "      <th>RtpStateBitfield</th>\n",
       "      <th></th>\n",
       "      <th></th>\n",
       "      <th></th>\n",
       "      <th></th>\n",
       "      <th></th>\n",
       "      <th></th>\n",
       "      <th></th>\n",
       "      <th></th>\n",
       "      <th></th>\n",
       "      <th></th>\n",
       "      <th></th>\n",
       "      <th></th>\n",
       "      <th></th>\n",
       "      <th></th>\n",
       "      <th></th>\n",
       "      <th></th>\n",
       "      <th></th>\n",
       "      <th></th>\n",
       "      <th></th>\n",
       "      <th></th>\n",
       "      <th></th>\n",
       "    </tr>\n",
       "  </thead>\n",
       "  <tbody>\n",
       "    <tr>\n",
       "      <th>0.0</th>\n",
       "      <td>25852</td>\n",
       "      <td>25852</td>\n",
       "      <td>25852</td>\n",
       "      <td>25852</td>\n",
       "      <td>25852</td>\n",
       "      <td>25852</td>\n",
       "      <td>25852</td>\n",
       "      <td>25852</td>\n",
       "      <td>25852</td>\n",
       "      <td>25852</td>\n",
       "      <td>...</td>\n",
       "      <td>25852</td>\n",
       "      <td>25852</td>\n",
       "      <td>25852</td>\n",
       "      <td>25852</td>\n",
       "      <td>25852</td>\n",
       "      <td>25852</td>\n",
       "      <td>25852</td>\n",
       "      <td>25852</td>\n",
       "      <td>25852</td>\n",
       "      <td>25852</td>\n",
       "    </tr>\n",
       "    <tr>\n",
       "      <th>1.0</th>\n",
       "      <td>220</td>\n",
       "      <td>220</td>\n",
       "      <td>220</td>\n",
       "      <td>220</td>\n",
       "      <td>220</td>\n",
       "      <td>220</td>\n",
       "      <td>220</td>\n",
       "      <td>220</td>\n",
       "      <td>220</td>\n",
       "      <td>220</td>\n",
       "      <td>...</td>\n",
       "      <td>220</td>\n",
       "      <td>220</td>\n",
       "      <td>220</td>\n",
       "      <td>220</td>\n",
       "      <td>220</td>\n",
       "      <td>220</td>\n",
       "      <td>220</td>\n",
       "      <td>220</td>\n",
       "      <td>220</td>\n",
       "      <td>220</td>\n",
       "    </tr>\n",
       "    <tr>\n",
       "      <th>3.0</th>\n",
       "      <td>252</td>\n",
       "      <td>252</td>\n",
       "      <td>252</td>\n",
       "      <td>252</td>\n",
       "      <td>252</td>\n",
       "      <td>252</td>\n",
       "      <td>252</td>\n",
       "      <td>252</td>\n",
       "      <td>252</td>\n",
       "      <td>252</td>\n",
       "      <td>...</td>\n",
       "      <td>252</td>\n",
       "      <td>252</td>\n",
       "      <td>252</td>\n",
       "      <td>252</td>\n",
       "      <td>252</td>\n",
       "      <td>252</td>\n",
       "      <td>252</td>\n",
       "      <td>252</td>\n",
       "      <td>252</td>\n",
       "      <td>252</td>\n",
       "    </tr>\n",
       "    <tr>\n",
       "      <th>5.0</th>\n",
       "      <td>1177</td>\n",
       "      <td>1177</td>\n",
       "      <td>1177</td>\n",
       "      <td>1177</td>\n",
       "      <td>1177</td>\n",
       "      <td>1177</td>\n",
       "      <td>1177</td>\n",
       "      <td>1177</td>\n",
       "      <td>1177</td>\n",
       "      <td>1177</td>\n",
       "      <td>...</td>\n",
       "      <td>1177</td>\n",
       "      <td>1177</td>\n",
       "      <td>1177</td>\n",
       "      <td>1177</td>\n",
       "      <td>1177</td>\n",
       "      <td>1177</td>\n",
       "      <td>1177</td>\n",
       "      <td>1177</td>\n",
       "      <td>1177</td>\n",
       "      <td>1177</td>\n",
       "    </tr>\n",
       "    <tr>\n",
       "      <th>7.0</th>\n",
       "      <td>1598978</td>\n",
       "      <td>1598978</td>\n",
       "      <td>1598978</td>\n",
       "      <td>1598978</td>\n",
       "      <td>1598978</td>\n",
       "      <td>1598978</td>\n",
       "      <td>1598978</td>\n",
       "      <td>1598978</td>\n",
       "      <td>1598978</td>\n",
       "      <td>1598978</td>\n",
       "      <td>...</td>\n",
       "      <td>1598978</td>\n",
       "      <td>1598978</td>\n",
       "      <td>1598978</td>\n",
       "      <td>1598978</td>\n",
       "      <td>1598978</td>\n",
       "      <td>1598978</td>\n",
       "      <td>1598978</td>\n",
       "      <td>1598978</td>\n",
       "      <td>1598978</td>\n",
       "      <td>1598978</td>\n",
       "    </tr>\n",
       "    <tr>\n",
       "      <th>8.0</th>\n",
       "      <td>5220</td>\n",
       "      <td>5220</td>\n",
       "      <td>5220</td>\n",
       "      <td>5220</td>\n",
       "      <td>5220</td>\n",
       "      <td>5220</td>\n",
       "      <td>5220</td>\n",
       "      <td>5220</td>\n",
       "      <td>5220</td>\n",
       "      <td>5220</td>\n",
       "      <td>...</td>\n",
       "      <td>5220</td>\n",
       "      <td>5220</td>\n",
       "      <td>5220</td>\n",
       "      <td>5220</td>\n",
       "      <td>5220</td>\n",
       "      <td>5220</td>\n",
       "      <td>5220</td>\n",
       "      <td>5220</td>\n",
       "      <td>5220</td>\n",
       "      <td>5220</td>\n",
       "    </tr>\n",
       "    <tr>\n",
       "      <th>35.0</th>\n",
       "      <td>8</td>\n",
       "      <td>8</td>\n",
       "      <td>8</td>\n",
       "      <td>8</td>\n",
       "      <td>8</td>\n",
       "      <td>8</td>\n",
       "      <td>8</td>\n",
       "      <td>8</td>\n",
       "      <td>8</td>\n",
       "      <td>8</td>\n",
       "      <td>...</td>\n",
       "      <td>8</td>\n",
       "      <td>8</td>\n",
       "      <td>8</td>\n",
       "      <td>8</td>\n",
       "      <td>8</td>\n",
       "      <td>8</td>\n",
       "      <td>8</td>\n",
       "      <td>8</td>\n",
       "      <td>8</td>\n",
       "      <td>8</td>\n",
       "    </tr>\n",
       "  </tbody>\n",
       "</table>\n",
       "<p>7 rows × 73 columns</p>\n",
       "</div>"
      ],
      "text/plain": [
       "                  MachineIdentifier  EngineVersion  AppVersion  AvSigVersion  \\\n",
       "RtpStateBitfield                                                               \n",
       "0.0                           25852          25852       25852         25852   \n",
       "1.0                             220            220         220           220   \n",
       "3.0                             252            252         252           252   \n",
       "5.0                            1177           1177        1177          1177   \n",
       "7.0                         1598978        1598978     1598978       1598978   \n",
       "8.0                            5220           5220        5220          5220   \n",
       "35.0                              8              8           8             8   \n",
       "\n",
       "                  IsSxsPassiveMode  AVProductStatesIdentifier  \\\n",
       "RtpStateBitfield                                                \n",
       "0.0                          25852                      25852   \n",
       "1.0                            220                        220   \n",
       "3.0                            252                        252   \n",
       "5.0                           1177                       1177   \n",
       "7.0                        1598978                    1598978   \n",
       "8.0                           5220                       5220   \n",
       "35.0                             8                          8   \n",
       "\n",
       "                  AVProductsInstalled  AVProductsEnabled   HasTpm  \\\n",
       "RtpStateBitfield                                                    \n",
       "0.0                             25852              25852    25852   \n",
       "1.0                               220                220      220   \n",
       "3.0                               252                252      252   \n",
       "5.0                              1177               1177     1177   \n",
       "7.0                           1598978            1598978  1598978   \n",
       "8.0                              5220               5220     5220   \n",
       "35.0                                8                  8        8   \n",
       "\n",
       "                  CountryIdentifier      ...        \\\n",
       "RtpStateBitfield                         ...         \n",
       "0.0                           25852      ...         \n",
       "1.0                             220      ...         \n",
       "3.0                             252      ...         \n",
       "5.0                            1177      ...         \n",
       "7.0                         1598978      ...         \n",
       "8.0                            5220      ...         \n",
       "35.0                              8      ...         \n",
       "\n",
       "                  Census_FirmwareManufacturerIdentifier  \\\n",
       "RtpStateBitfield                                          \n",
       "0.0                                               25852   \n",
       "1.0                                                 220   \n",
       "3.0                                                 252   \n",
       "5.0                                                1177   \n",
       "7.0                                             1598978   \n",
       "8.0                                                5220   \n",
       "35.0                                                  8   \n",
       "\n",
       "                  Census_FirmwareVersionIdentifier  \\\n",
       "RtpStateBitfield                                     \n",
       "0.0                                          25852   \n",
       "1.0                                            220   \n",
       "3.0                                            252   \n",
       "5.0                                           1177   \n",
       "7.0                                        1598978   \n",
       "8.0                                           5220   \n",
       "35.0                                             8   \n",
       "\n",
       "                  Census_IsSecureBootEnabled  Census_IsVirtualDevice  \\\n",
       "RtpStateBitfield                                                       \n",
       "0.0                                    25852                   25852   \n",
       "1.0                                      220                     220   \n",
       "3.0                                      252                     252   \n",
       "5.0                                     1177                    1177   \n",
       "7.0                                  1598978                 1598978   \n",
       "8.0                                     5220                    5220   \n",
       "35.0                                       8                       8   \n",
       "\n",
       "                  Census_IsTouchEnabled  Census_IsPenCapable  \\\n",
       "RtpStateBitfield                                               \n",
       "0.0                               25852                25852   \n",
       "1.0                                 220                  220   \n",
       "3.0                                 252                  252   \n",
       "5.0                                1177                 1177   \n",
       "7.0                             1598978              1598978   \n",
       "8.0                                5220                 5220   \n",
       "35.0                                  8                    8   \n",
       "\n",
       "                  Census_IsAlwaysOnAlwaysConnectedCapable  Wdft_IsGamer  \\\n",
       "RtpStateBitfield                                                          \n",
       "0.0                                                 25852         25852   \n",
       "1.0                                                   220           220   \n",
       "3.0                                                   252           252   \n",
       "5.0                                                  1177          1177   \n",
       "7.0                                               1598978       1598978   \n",
       "8.0                                                  5220          5220   \n",
       "35.0                                                    8             8   \n",
       "\n",
       "                  Wdft_RegionIdentifier  HasDetections  \n",
       "RtpStateBitfield                                        \n",
       "0.0                               25852          25852  \n",
       "1.0                                 220            220  \n",
       "3.0                                 252            252  \n",
       "5.0                                1177           1177  \n",
       "7.0                             1598978        1598978  \n",
       "8.0                                5220           5220  \n",
       "35.0                                  8              8  \n",
       "\n",
       "[7 rows x 73 columns]"
      ]
     },
     "execution_count": 72,
     "metadata": {},
     "output_type": "execute_result"
    }
   ],
   "source": [
    "#fig,ax=plt.subplots(figsize=(10,10))\n",
    "df[df.HasDetections==1].groupby(cols[6]).count()"
   ]
  },
  {
   "cell_type": "code",
   "execution_count": 73,
   "metadata": {},
   "outputs": [
    {
     "data": {
      "text/html": [
       "<div>\n",
       "<style scoped>\n",
       "    .dataframe tbody tr th:only-of-type {\n",
       "        vertical-align: middle;\n",
       "    }\n",
       "\n",
       "    .dataframe tbody tr th {\n",
       "        vertical-align: top;\n",
       "    }\n",
       "\n",
       "    .dataframe thead th {\n",
       "        text-align: right;\n",
       "    }\n",
       "</style>\n",
       "<table border=\"1\" class=\"dataframe\">\n",
       "  <thead>\n",
       "    <tr style=\"text-align: right;\">\n",
       "      <th></th>\n",
       "      <th>MachineIdentifier</th>\n",
       "      <th>EngineVersion</th>\n",
       "      <th>AppVersion</th>\n",
       "      <th>AvSigVersion</th>\n",
       "      <th>IsSxsPassiveMode</th>\n",
       "      <th>AVProductStatesIdentifier</th>\n",
       "      <th>AVProductsInstalled</th>\n",
       "      <th>AVProductsEnabled</th>\n",
       "      <th>HasTpm</th>\n",
       "      <th>CountryIdentifier</th>\n",
       "      <th>...</th>\n",
       "      <th>Census_FirmwareManufacturerIdentifier</th>\n",
       "      <th>Census_FirmwareVersionIdentifier</th>\n",
       "      <th>Census_IsSecureBootEnabled</th>\n",
       "      <th>Census_IsVirtualDevice</th>\n",
       "      <th>Census_IsTouchEnabled</th>\n",
       "      <th>Census_IsPenCapable</th>\n",
       "      <th>Census_IsAlwaysOnAlwaysConnectedCapable</th>\n",
       "      <th>Wdft_IsGamer</th>\n",
       "      <th>Wdft_RegionIdentifier</th>\n",
       "      <th>HasDetections</th>\n",
       "    </tr>\n",
       "    <tr>\n",
       "      <th>RtpStateBitfield</th>\n",
       "      <th></th>\n",
       "      <th></th>\n",
       "      <th></th>\n",
       "      <th></th>\n",
       "      <th></th>\n",
       "      <th></th>\n",
       "      <th></th>\n",
       "      <th></th>\n",
       "      <th></th>\n",
       "      <th></th>\n",
       "      <th></th>\n",
       "      <th></th>\n",
       "      <th></th>\n",
       "      <th></th>\n",
       "      <th></th>\n",
       "      <th></th>\n",
       "      <th></th>\n",
       "      <th></th>\n",
       "      <th></th>\n",
       "      <th></th>\n",
       "      <th></th>\n",
       "    </tr>\n",
       "  </thead>\n",
       "  <tbody>\n",
       "    <tr>\n",
       "      <th>0.0</th>\n",
       "      <td>43871</td>\n",
       "      <td>43871</td>\n",
       "      <td>43871</td>\n",
       "      <td>43871</td>\n",
       "      <td>43871</td>\n",
       "      <td>43871</td>\n",
       "      <td>43871</td>\n",
       "      <td>43871</td>\n",
       "      <td>43871</td>\n",
       "      <td>43871</td>\n",
       "      <td>...</td>\n",
       "      <td>43871</td>\n",
       "      <td>43871</td>\n",
       "      <td>43871</td>\n",
       "      <td>43871</td>\n",
       "      <td>43871</td>\n",
       "      <td>43871</td>\n",
       "      <td>43871</td>\n",
       "      <td>43871</td>\n",
       "      <td>43871</td>\n",
       "      <td>43871</td>\n",
       "    </tr>\n",
       "    <tr>\n",
       "      <th>1.0</th>\n",
       "      <td>334</td>\n",
       "      <td>334</td>\n",
       "      <td>334</td>\n",
       "      <td>334</td>\n",
       "      <td>334</td>\n",
       "      <td>334</td>\n",
       "      <td>334</td>\n",
       "      <td>334</td>\n",
       "      <td>334</td>\n",
       "      <td>334</td>\n",
       "      <td>...</td>\n",
       "      <td>334</td>\n",
       "      <td>334</td>\n",
       "      <td>334</td>\n",
       "      <td>334</td>\n",
       "      <td>334</td>\n",
       "      <td>334</td>\n",
       "      <td>334</td>\n",
       "      <td>334</td>\n",
       "      <td>334</td>\n",
       "      <td>334</td>\n",
       "    </tr>\n",
       "    <tr>\n",
       "      <th>3.0</th>\n",
       "      <td>636</td>\n",
       "      <td>636</td>\n",
       "      <td>636</td>\n",
       "      <td>636</td>\n",
       "      <td>636</td>\n",
       "      <td>636</td>\n",
       "      <td>636</td>\n",
       "      <td>636</td>\n",
       "      <td>636</td>\n",
       "      <td>636</td>\n",
       "      <td>...</td>\n",
       "      <td>636</td>\n",
       "      <td>636</td>\n",
       "      <td>636</td>\n",
       "      <td>636</td>\n",
       "      <td>636</td>\n",
       "      <td>636</td>\n",
       "      <td>636</td>\n",
       "      <td>636</td>\n",
       "      <td>636</td>\n",
       "      <td>636</td>\n",
       "    </tr>\n",
       "    <tr>\n",
       "      <th>5.0</th>\n",
       "      <td>6545</td>\n",
       "      <td>6545</td>\n",
       "      <td>6545</td>\n",
       "      <td>6545</td>\n",
       "      <td>6545</td>\n",
       "      <td>6545</td>\n",
       "      <td>6545</td>\n",
       "      <td>6545</td>\n",
       "      <td>6545</td>\n",
       "      <td>6545</td>\n",
       "      <td>...</td>\n",
       "      <td>6545</td>\n",
       "      <td>6545</td>\n",
       "      <td>6545</td>\n",
       "      <td>6545</td>\n",
       "      <td>6545</td>\n",
       "      <td>6545</td>\n",
       "      <td>6545</td>\n",
       "      <td>6545</td>\n",
       "      <td>6545</td>\n",
       "      <td>6545</td>\n",
       "    </tr>\n",
       "    <tr>\n",
       "      <th>7.0</th>\n",
       "      <td>1534610</td>\n",
       "      <td>1534610</td>\n",
       "      <td>1534610</td>\n",
       "      <td>1534610</td>\n",
       "      <td>1534610</td>\n",
       "      <td>1534610</td>\n",
       "      <td>1534610</td>\n",
       "      <td>1534610</td>\n",
       "      <td>1534610</td>\n",
       "      <td>1534610</td>\n",
       "      <td>...</td>\n",
       "      <td>1534610</td>\n",
       "      <td>1534610</td>\n",
       "      <td>1534610</td>\n",
       "      <td>1534610</td>\n",
       "      <td>1534610</td>\n",
       "      <td>1534610</td>\n",
       "      <td>1534610</td>\n",
       "      <td>1534610</td>\n",
       "      <td>1534610</td>\n",
       "      <td>1534610</td>\n",
       "    </tr>\n",
       "    <tr>\n",
       "      <th>8.0</th>\n",
       "      <td>1611</td>\n",
       "      <td>1611</td>\n",
       "      <td>1611</td>\n",
       "      <td>1611</td>\n",
       "      <td>1611</td>\n",
       "      <td>1611</td>\n",
       "      <td>1611</td>\n",
       "      <td>1611</td>\n",
       "      <td>1611</td>\n",
       "      <td>1611</td>\n",
       "      <td>...</td>\n",
       "      <td>1611</td>\n",
       "      <td>1611</td>\n",
       "      <td>1611</td>\n",
       "      <td>1611</td>\n",
       "      <td>1611</td>\n",
       "      <td>1611</td>\n",
       "      <td>1611</td>\n",
       "      <td>1611</td>\n",
       "      <td>1611</td>\n",
       "      <td>1611</td>\n",
       "    </tr>\n",
       "  </tbody>\n",
       "</table>\n",
       "<p>6 rows × 73 columns</p>\n",
       "</div>"
      ],
      "text/plain": [
       "                  MachineIdentifier  EngineVersion  AppVersion  AvSigVersion  \\\n",
       "RtpStateBitfield                                                               \n",
       "0.0                           43871          43871       43871         43871   \n",
       "1.0                             334            334         334           334   \n",
       "3.0                             636            636         636           636   \n",
       "5.0                            6545           6545        6545          6545   \n",
       "7.0                         1534610        1534610     1534610       1534610   \n",
       "8.0                            1611           1611        1611          1611   \n",
       "\n",
       "                  IsSxsPassiveMode  AVProductStatesIdentifier  \\\n",
       "RtpStateBitfield                                                \n",
       "0.0                          43871                      43871   \n",
       "1.0                            334                        334   \n",
       "3.0                            636                        636   \n",
       "5.0                           6545                       6545   \n",
       "7.0                        1534610                    1534610   \n",
       "8.0                           1611                       1611   \n",
       "\n",
       "                  AVProductsInstalled  AVProductsEnabled   HasTpm  \\\n",
       "RtpStateBitfield                                                    \n",
       "0.0                             43871              43871    43871   \n",
       "1.0                               334                334      334   \n",
       "3.0                               636                636      636   \n",
       "5.0                              6545               6545     6545   \n",
       "7.0                           1534610            1534610  1534610   \n",
       "8.0                              1611               1611     1611   \n",
       "\n",
       "                  CountryIdentifier      ...        \\\n",
       "RtpStateBitfield                         ...         \n",
       "0.0                           43871      ...         \n",
       "1.0                             334      ...         \n",
       "3.0                             636      ...         \n",
       "5.0                            6545      ...         \n",
       "7.0                         1534610      ...         \n",
       "8.0                            1611      ...         \n",
       "\n",
       "                  Census_FirmwareManufacturerIdentifier  \\\n",
       "RtpStateBitfield                                          \n",
       "0.0                                               43871   \n",
       "1.0                                                 334   \n",
       "3.0                                                 636   \n",
       "5.0                                                6545   \n",
       "7.0                                             1534610   \n",
       "8.0                                                1611   \n",
       "\n",
       "                  Census_FirmwareVersionIdentifier  \\\n",
       "RtpStateBitfield                                     \n",
       "0.0                                          43871   \n",
       "1.0                                            334   \n",
       "3.0                                            636   \n",
       "5.0                                           6545   \n",
       "7.0                                        1534610   \n",
       "8.0                                           1611   \n",
       "\n",
       "                  Census_IsSecureBootEnabled  Census_IsVirtualDevice  \\\n",
       "RtpStateBitfield                                                       \n",
       "0.0                                    43871                   43871   \n",
       "1.0                                      334                     334   \n",
       "3.0                                      636                     636   \n",
       "5.0                                     6545                    6545   \n",
       "7.0                                  1534610                 1534610   \n",
       "8.0                                     1611                    1611   \n",
       "\n",
       "                  Census_IsTouchEnabled  Census_IsPenCapable  \\\n",
       "RtpStateBitfield                                               \n",
       "0.0                               43871                43871   \n",
       "1.0                                 334                  334   \n",
       "3.0                                 636                  636   \n",
       "5.0                                6545                 6545   \n",
       "7.0                             1534610              1534610   \n",
       "8.0                                1611                 1611   \n",
       "\n",
       "                  Census_IsAlwaysOnAlwaysConnectedCapable  Wdft_IsGamer  \\\n",
       "RtpStateBitfield                                                          \n",
       "0.0                                                 43871         43871   \n",
       "1.0                                                   334           334   \n",
       "3.0                                                   636           636   \n",
       "5.0                                                  6545          6545   \n",
       "7.0                                               1534610       1534610   \n",
       "8.0                                                  1611          1611   \n",
       "\n",
       "                  Wdft_RegionIdentifier  HasDetections  \n",
       "RtpStateBitfield                                        \n",
       "0.0                               43871          43871  \n",
       "1.0                                 334            334  \n",
       "3.0                                 636            636  \n",
       "5.0                                6545           6545  \n",
       "7.0                             1534610        1534610  \n",
       "8.0                                1611           1611  \n",
       "\n",
       "[6 rows x 73 columns]"
      ]
     },
     "execution_count": 73,
     "metadata": {},
     "output_type": "execute_result"
    }
   ],
   "source": [
    "df[df.HasDetections==0].groupby(cols[6]).count()"
   ]
  },
  {
   "cell_type": "code",
   "execution_count": null,
   "metadata": {},
   "outputs": [],
   "source": []
  },
  {
   "cell_type": "code",
   "execution_count": null,
   "metadata": {},
   "outputs": [],
   "source": []
  },
  {
   "cell_type": "code",
   "execution_count": 74,
   "metadata": {},
   "outputs": [
    {
     "data": {
      "text/plain": [
       "array([0, 1], dtype=int64)"
      ]
     },
     "execution_count": 74,
     "metadata": {},
     "output_type": "execute_result"
    }
   ],
   "source": [
    "df[cols[7]].unique()"
   ]
  },
  {
   "cell_type": "code",
   "execution_count": 75,
   "metadata": {},
   "outputs": [
    {
     "data": {
      "text/plain": [
       "0    3160850\n",
       "1      58464\n",
       "Name: IsSxsPassiveMode, dtype: int64"
      ]
     },
     "execution_count": 75,
     "metadata": {},
     "output_type": "execute_result"
    }
   ],
   "source": [
    "df[cols[7]].value_counts()"
   ]
  },
  {
   "cell_type": "code",
   "execution_count": 76,
   "metadata": {},
   "outputs": [
    {
     "data": {
      "text/plain": [
       "<matplotlib.axes._subplots.AxesSubplot at 0x1b9f0e38f98>"
      ]
     },
     "execution_count": 76,
     "metadata": {},
     "output_type": "execute_result"
    },
    {
     "data": {
      "image/png": "[encoded data removed]",
      "text/plain": [
       "<Figure size 432x288 with 1 Axes>"
      ]
     },
     "metadata": {},
     "output_type": "display_data"
    }
   ],
   "source": [
    "fig,ax=plt.subplots()\n",
    "df[df.HasDetections==1].groupby(cols[7]).count()['MachineIdentifier'].plot(kind='barh',ax=ax)"
   ]
  },
  {
   "cell_type": "code",
   "execution_count": 77,
   "metadata": {},
   "outputs": [
    {
     "data": {
      "text/plain": [
       "IsSxsPassiveMode\n",
       "0    1550457\n",
       "1      37150\n",
       "Name: MachineIdentifier, dtype: int64"
      ]
     },
     "execution_count": 77,
     "metadata": {},
     "output_type": "execute_result"
    }
   ],
   "source": [
    "#fig,ax=plt.subplots()\n",
    "df[df.HasDetections==0].groupby(cols[7]).count()['MachineIdentifier']#.plot(kind='barh',ax=ax)"
   ]
  },
  {
   "cell_type": "code",
   "execution_count": 78,
   "metadata": {},
   "outputs": [
    {
     "data": {
      "text/plain": [
       "IsSxsPassiveMode\n",
       "0    1610393\n",
       "1      21314\n",
       "Name: MachineIdentifier, dtype: int64"
      ]
     },
     "execution_count": 78,
     "metadata": {},
     "output_type": "execute_result"
    }
   ],
   "source": [
    "df[df.HasDetections==1].groupby(cols[7]).count()['MachineIdentifier']"
   ]
  },
  {
   "cell_type": "code",
   "execution_count": 79,
   "metadata": {},
   "outputs": [
    {
     "data": {
      "text/plain": [
       "14632"
      ]
     },
     "execution_count": 79,
     "metadata": {},
     "output_type": "execute_result"
    }
   ],
   "source": [
    "df[cols[8]].nunique()"
   ]
  },
  {
   "cell_type": "code",
   "execution_count": 80,
   "metadata": {},
   "outputs": [
    {
     "data": {
      "text/plain": [
       "array([53447., 43927., 47238., ..., 42438.,  4510.,  3689.])"
      ]
     },
     "execution_count": 80,
     "metadata": {},
     "output_type": "execute_result"
    }
   ],
   "source": [
    "df[cols[8]].unique()"
   ]
  },
  {
   "cell_type": "code",
   "execution_count": 81,
   "metadata": {},
   "outputs": [
    {
     "data": {
      "text/plain": [
       "<matplotlib.axes._subplots.AxesSubplot at 0x1b989294780>"
      ]
     },
     "execution_count": 81,
     "metadata": {},
     "output_type": "execute_result"
    },
    {
     "data": {
      "image/png": "[encoded data removed]",
      "text/plain": [
       "<Figure size 432x288 with 1 Axes>"
      ]
     },
     "metadata": {},
     "output_type": "display_data"
    }
   ],
   "source": [
    "df[df.HasDetections==1].sort_values(by=cols[8]).groupby(cols[8]).count()['MachineIdentifier'].plot()"
   ]
  },
  {
   "cell_type": "code",
   "execution_count": 82,
   "metadata": {},
   "outputs": [
    {
     "data": {
      "text/plain": [
       "<matplotlib.axes._subplots.AxesSubplot at 0x1b9ec5fca58>"
      ]
     },
     "execution_count": 82,
     "metadata": {},
     "output_type": "execute_result"
    },
    {
     "data": {
      "image/png": "[encoded data removed]",
      "text/plain": [
       "<Figure size 432x288 with 1 Axes>"
      ]
     },
     "metadata": {},
     "output_type": "display_data"
    }
   ],
   "source": [
    "df[df.HasDetections==0].sort_values(by=cols[8]).groupby(cols[8]).count()['MachineIdentifier'].plot()"
   ]
  },
  {
   "cell_type": "code",
   "execution_count": 83,
   "metadata": {},
   "outputs": [
    {
     "data": {
      "text/plain": [
       "'AVProductsInstalled'"
      ]
     },
     "execution_count": 83,
     "metadata": {},
     "output_type": "execute_result"
    }
   ],
   "source": [
    "cols[9]"
   ]
  },
  {
   "cell_type": "code",
   "execution_count": 84,
   "metadata": {},
   "outputs": [
    {
     "data": {
      "text/plain": [
       "6"
      ]
     },
     "execution_count": 84,
     "metadata": {},
     "output_type": "execute_result"
    }
   ],
   "source": [
    "df[cols[9]].nunique()"
   ]
  },
  {
   "cell_type": "code",
   "execution_count": 85,
   "metadata": {},
   "outputs": [
    {
     "data": {
      "text/plain": [
       "array([1., 2., 3., 5., 4., 6.])"
      ]
     },
     "execution_count": 85,
     "metadata": {},
     "output_type": "execute_result"
    }
   ],
   "source": [
    "df[cols[9]].unique()"
   ]
  },
  {
   "cell_type": "code",
   "execution_count": 86,
   "metadata": {},
   "outputs": [
    {
     "data": {
      "text/plain": [
       "1.0    2240680\n",
       "2.0     900504\n",
       "3.0      75011\n",
       "4.0       2952\n",
       "5.0        160\n",
       "6.0          7\n",
       "Name: AVProductsInstalled, dtype: int64"
      ]
     },
     "execution_count": 86,
     "metadata": {},
     "output_type": "execute_result"
    }
   ],
   "source": [
    "df[cols[9]].value_counts()"
   ]
  },
  {
   "cell_type": "code",
   "execution_count": 87,
   "metadata": {},
   "outputs": [
    {
     "data": {
      "text/plain": [
       "AVProductsInstalled\n",
       "1.0    1246147\n",
       "2.0     362378\n",
       "3.0      22352\n",
       "4.0        783\n",
       "5.0         47\n",
       "Name: MachineIdentifier, dtype: int64"
      ]
     },
     "execution_count": 87,
     "metadata": {},
     "output_type": "execute_result"
    }
   ],
   "source": [
    "df[df.HasDetections==1].groupby(cols[9]).count()['MachineIdentifier']"
   ]
  },
  {
   "cell_type": "code",
   "execution_count": 88,
   "metadata": {},
   "outputs": [
    {
     "data": {
      "text/plain": [
       "AVProductsInstalled\n",
       "1.0    994533\n",
       "2.0    538126\n",
       "3.0     52659\n",
       "4.0      2169\n",
       "5.0       113\n",
       "6.0         7\n",
       "Name: MachineIdentifier, dtype: int64"
      ]
     },
     "execution_count": 88,
     "metadata": {},
     "output_type": "execute_result"
    }
   ],
   "source": [
    "df[df.HasDetections==0].groupby(cols[9]).count()['MachineIdentifier']"
   ]
  },
  {
   "cell_type": "code",
   "execution_count": 89,
   "metadata": {},
   "outputs": [
    {
     "data": {
      "text/plain": [
       "'AVProductsEnabled'"
      ]
     },
     "execution_count": 89,
     "metadata": {},
     "output_type": "execute_result"
    }
   ],
   "source": [
    "cols[10]"
   ]
  },
  {
   "cell_type": "code",
   "execution_count": 90,
   "metadata": {},
   "outputs": [
    {
     "data": {
      "text/plain": [
       "array([1., 0., 2., 4., 3., 5.])"
      ]
     },
     "execution_count": 90,
     "metadata": {},
     "output_type": "execute_result"
    }
   ],
   "source": [
    "df[cols[10]].unique()"
   ]
  },
  {
   "cell_type": "code",
   "execution_count": 91,
   "metadata": {},
   "outputs": [
    {
     "data": {
      "text/plain": [
       "1.0    3148037\n",
       "2.0      61799\n",
       "0.0       7564\n",
       "3.0       1767\n",
       "4.0        141\n",
       "5.0          6\n",
       "Name: AVProductsEnabled, dtype: int64"
      ]
     },
     "execution_count": 91,
     "metadata": {},
     "output_type": "execute_result"
    }
   ],
   "source": [
    "df[cols[10]].value_counts()"
   ]
  },
  {
   "cell_type": "code",
   "execution_count": 92,
   "metadata": {},
   "outputs": [
    {
     "data": {
      "text/plain": [
       "1.0    1608510\n",
       "2.0      20092\n",
       "0.0       2519\n",
       "3.0        539\n",
       "4.0         47\n",
       "Name: AVProductsEnabled, dtype: int64"
      ]
     },
     "execution_count": 92,
     "metadata": {},
     "output_type": "execute_result"
    }
   ],
   "source": [
    "df[df.HasDetections==1][cols[10]].value_counts()"
   ]
  },
  {
   "cell_type": "code",
   "execution_count": 93,
   "metadata": {},
   "outputs": [
    {
     "data": {
      "text/plain": [
       "1.0    1539527\n",
       "2.0      41707\n",
       "0.0       5045\n",
       "3.0       1228\n",
       "4.0         94\n",
       "5.0          6\n",
       "Name: AVProductsEnabled, dtype: int64"
      ]
     },
     "execution_count": 93,
     "metadata": {},
     "output_type": "execute_result"
    }
   ],
   "source": [
    "df[df.HasDetections==0][cols[10]].value_counts()"
   ]
  },
  {
   "cell_type": "code",
   "execution_count": 94,
   "metadata": {},
   "outputs": [
    {
     "data": {
      "text/plain": [
       "'HasTpm'"
      ]
     },
     "execution_count": 94,
     "metadata": {},
     "output_type": "execute_result"
    }
   ],
   "source": [
    "cols[11]"
   ]
  },
  {
   "cell_type": "code",
   "execution_count": 95,
   "metadata": {},
   "outputs": [
    {
     "data": {
      "text/plain": [
       "array([1, 0], dtype=int64)"
      ]
     },
     "execution_count": 95,
     "metadata": {},
     "output_type": "execute_result"
    }
   ],
   "source": [
    "df[cols[11]].unique()"
   ]
  },
  {
   "cell_type": "code",
   "execution_count": 96,
   "metadata": {},
   "outputs": [
    {
     "data": {
      "text/plain": [
       "1    3214456\n",
       "0       4858\n",
       "Name: HasTpm, dtype: int64"
      ]
     },
     "execution_count": 96,
     "metadata": {},
     "output_type": "execute_result"
    }
   ],
   "source": [
    "df[cols[11]].value_counts()"
   ]
  },
  {
   "cell_type": "code",
   "execution_count": 97,
   "metadata": {},
   "outputs": [
    {
     "data": {
      "text/plain": [
       "1    1629709\n",
       "0       1998\n",
       "Name: HasTpm, dtype: int64"
      ]
     },
     "execution_count": 97,
     "metadata": {},
     "output_type": "execute_result"
    }
   ],
   "source": [
    "df[df.HasDetections==1][cols[11]].value_counts()"
   ]
  },
  {
   "cell_type": "code",
   "execution_count": 98,
   "metadata": {},
   "outputs": [
    {
     "data": {
      "text/plain": [
       "1    1584747\n",
       "0       2860\n",
       "Name: HasTpm, dtype: int64"
      ]
     },
     "execution_count": 98,
     "metadata": {},
     "output_type": "execute_result"
    }
   ],
   "source": [
    "df[df.HasDetections==0][cols[11]].value_counts()"
   ]
  },
  {
   "cell_type": "code",
   "execution_count": 99,
   "metadata": {},
   "outputs": [
    {
     "data": {
      "text/plain": [
       "'CountryIdentifier'"
      ]
     },
     "execution_count": 99,
     "metadata": {},
     "output_type": "execute_result"
    }
   ],
   "source": [
    "cols[12]"
   ]
  },
  {
   "cell_type": "code",
   "execution_count": 100,
   "metadata": {},
   "outputs": [
    {
     "data": {
      "text/plain": [
       "222"
      ]
     },
     "execution_count": 100,
     "metadata": {},
     "output_type": "execute_result"
    }
   ],
   "source": [
    "df[cols[12]].nunique()"
   ]
  },
  {
   "cell_type": "code",
   "execution_count": 101,
   "metadata": {},
   "outputs": [
    {
     "data": {
      "text/plain": [
       "array([ 29,  93,  86,  88,  18,  97,  78, 164, 107,  80, 171, 169, 157,\n",
       "       158, 147,  12, 203,  43, 205, 199,   9,  68, 141,  35, 159, 160,\n",
       "       129,  44, 207,  15, 201,   3, 195, 100,  16, 178,  53, 204,  94,\n",
       "         8, 152, 110, 184, 132, 214, 122,  39,  59,  70,  52, 149,  41,\n",
       "       179, 180,   2, 167, 101, 119, 173,  84, 155, 166,  55,  60,  56,\n",
       "        51, 150,  89,  99,  66,  24, 220,  19,  91, 108,  81, 142,  50,\n",
       "       162,  21,  95, 154,  45, 137,   7, 139, 123,  37, 177,  33, 104,\n",
       "       188, 202, 112, 118,  57, 144, 221, 115,  98, 208,  40,  58, 120,\n",
       "       170, 102, 145, 168,  85, 211, 215,  62, 163,  48, 222, 131, 148,\n",
       "       156, 124,  90, 106,  28,  73,  30,  63,  11, 151,  26,  22, 117,\n",
       "       183,  49,  96,  61, 185, 138,  27, 172, 133, 127,  87, 190,  46,\n",
       "        42,   5,  71,  32, 198, 197,  17, 143, 113,  83,  36, 121, 135,\n",
       "       153, 206,  25,  38, 219, 140,   6,  67,  23, 136, 130,  13, 111,\n",
       "        74, 103,  47, 192, 210, 146,  76, 191, 125,  34, 176, 209,   4,\n",
       "       218, 182,  92, 194,  77, 134, 196,  10, 186,  69,  82,   1, 181,\n",
       "        31,  54,  20, 175, 109, 116,  65, 126, 189, 174,  75, 165, 114,\n",
       "        79, 128,  72, 213, 217, 187,  14, 200, 216, 212,  64, 193, 105,\n",
       "       161], dtype=int64)"
      ]
     },
     "execution_count": 101,
     "metadata": {},
     "output_type": "execute_result"
    }
   ],
   "source": [
    "df[cols[12]].unique()"
   ]
  },
  {
   "cell_type": "code",
   "execution_count": 102,
   "metadata": {},
   "outputs": [],
   "source": [
    "v1=df[df.HasDetections==1].groupby(cols[12]).count()['MachineIdentifier'].reset_index()\n",
    "\n",
    "v2=df[df.HasDetections==0].groupby(cols[12]).count()['MachineIdentifier'].reset_index()\n",
    "\n",
    "v1.rename(columns={'MachineIdentifier':'NOM_affected_CountryIdentfier'},inplace=True)\n",
    "v2.rename(columns={'MachineIdentifier':'NOM_unaffected_CountryIdentfier'},inplace=True)\n",
    "\n",
    "v=v1.merge(v2,on='CountryIdentifier',how='outer')\n",
    "\n",
    "v['Percent_affected_CountryIdentifier']=np.round(v['NOM_affected_CountryIdentfier']*100/(v['NOM_affected_CountryIdentfier']+v['NOM_unaffected_CountryIdentfier']))\n",
    "\n",
    "v.drop(columns=['NOM_affected_CountryIdentfier','NOM_unaffected_CountryIdentfier'],inplace=True)\n",
    "\n",
    "v.sort_values(by='Percent_affected_CountryIdentifier',ascending=False,inplace=True)"
   ]
  },
  {
   "cell_type": "code",
   "execution_count": null,
   "metadata": {},
   "outputs": [],
   "source": []
  },
  {
   "cell_type": "code",
   "execution_count": null,
   "metadata": {},
   "outputs": [],
   "source": []
  },
  {
   "cell_type": "code",
   "execution_count": null,
   "metadata": {},
   "outputs": [],
   "source": []
  },
  {
   "cell_type": "code",
   "execution_count": 103,
   "metadata": {},
   "outputs": [
    {
     "data": {
      "text/plain": [
       "'CityIdentifier'"
      ]
     },
     "execution_count": 103,
     "metadata": {},
     "output_type": "execute_result"
    }
   ],
   "source": [
    "cols[13]"
   ]
  },
  {
   "cell_type": "code",
   "execution_count": 104,
   "metadata": {},
   "outputs": [],
   "source": [
    "w1=df[df.HasDetections==1].groupby(cols[13]).count()['MachineIdentifier'].reset_index()\n",
    "\n",
    "w2=df[df.HasDetections==0].groupby(cols[13]).count()['MachineIdentifier'].reset_index()\n",
    "\n",
    "w1.rename(columns={'MachineIdentifier':'NOM_affected_CityIdentfier'},inplace=True)\n",
    "w2.rename(columns={'MachineIdentifier':'NOM_unaffected_CityIdentfier'},inplace=True)\n",
    "\n",
    "w=w1.merge(w2,on=cols[13],how='outer')\n",
    "\n",
    "w['Percent_affected_CityIdentifier']=np.round(w['NOM_affected_CityIdentfier']*100/(w['NOM_affected_CityIdentfier']+w['NOM_unaffected_CityIdentfier']))\n",
    "\n",
    "w.drop(columns=['NOM_affected_CityIdentfier','NOM_unaffected_CityIdentfier'],inplace=True)\n",
    "\n",
    "w.sort_values(by='Percent_affected_CityIdentifier',ascending=False,inplace=True)"
   ]
  },
  {
   "cell_type": "code",
   "execution_count": 105,
   "metadata": {},
   "outputs": [
    {
     "data": {
      "text/plain": [
       "'OrganizationIdentifier'"
      ]
     },
     "execution_count": 105,
     "metadata": {},
     "output_type": "execute_result"
    }
   ],
   "source": [
    "cols[14]"
   ]
  },
  {
   "cell_type": "code",
   "execution_count": 106,
   "metadata": {},
   "outputs": [
    {
     "data": {
      "text/plain": [
       "47"
      ]
     },
     "execution_count": 106,
     "metadata": {},
     "output_type": "execute_result"
    }
   ],
   "source": [
    "df[cols[14]].nunique()"
   ]
  },
  {
   "cell_type": "code",
   "execution_count": 107,
   "metadata": {},
   "outputs": [],
   "source": [
    "z1=df[df.HasDetections==1].groupby(cols[14]).count()['MachineIdentifier'].reset_index()\n",
    "\n",
    "z2=df[df.HasDetections==0].groupby(cols[14]).count()['MachineIdentifier'].reset_index()\n",
    "\n",
    "z1.rename(columns={'MachineIdentifier':'NOM_affected_OrganizationIdentfier'},inplace=True)\n",
    "z2.rename(columns={'MachineIdentifier':'NOM_unaffected_OrganizationIdentfier'},inplace=True)\n",
    "\n",
    "z=z1.merge(z2,on=cols[14],how='outer')\n",
    "\n",
    "z['Percent_affected_OrganizationIdentifier']=np.round(z['NOM_affected_OrganizationIdentfier']*100/(z['NOM_affected_OrganizationIdentfier']+z['NOM_unaffected_OrganizationIdentfier']))\n",
    "\n",
    "z.drop(columns=['NOM_affected_OrganizationIdentfier','NOM_unaffected_OrganizationIdentfier'],inplace=True)\n",
    "\n",
    "z.sort_values(by='Percent_affected_OrganizationIdentifier',ascending=False,inplace=True)"
   ]
  },
  {
   "cell_type": "code",
   "execution_count": null,
   "metadata": {},
   "outputs": [],
   "source": []
  },
  {
   "cell_type": "code",
   "execution_count": 108,
   "metadata": {},
   "outputs": [
    {
     "data": {
      "text/plain": [
       "'GeoNameIdentifier'"
      ]
     },
     "execution_count": 108,
     "metadata": {},
     "output_type": "execute_result"
    }
   ],
   "source": [
    "cols[15]"
   ]
  },
  {
   "cell_type": "code",
   "execution_count": 109,
   "metadata": {},
   "outputs": [
    {
     "data": {
      "text/plain": [
       "284"
      ]
     },
     "execution_count": 109,
     "metadata": {},
     "output_type": "execute_result"
    }
   ],
   "source": [
    "df[cols[15]].nunique()"
   ]
  },
  {
   "cell_type": "code",
   "execution_count": 110,
   "metadata": {},
   "outputs": [],
   "source": [
    "a1=df[df.HasDetections==1].groupby(cols[15]).count()['MachineIdentifier'].reset_index()\n",
    "\n",
    "a2=df[df.HasDetections==0].groupby(cols[15]).count()['MachineIdentifier'].reset_index()\n",
    "\n",
    "a1.rename(columns={'MachineIdentifier':'NOM_affected_GeoNameIdentfier'},inplace=True)\n",
    "a2.rename(columns={'MachineIdentifier':'NOM_unaffected_GeoNameIdentfier'},inplace=True)\n",
    "\n",
    "a=a1.merge(a2,on=cols[15],how='outer')\n",
    "\n",
    "a['Percent_affected_GeoNameIdentifier']=np.round(a['NOM_affected_GeoNameIdentfier']*100/(a['NOM_affected_GeoNameIdentfier']+a['NOM_unaffected_GeoNameIdentfier']))\n",
    "\n",
    "a.drop(columns=['NOM_affected_GeoNameIdentfier','NOM_unaffected_GeoNameIdentfier'],inplace=True)\n",
    "\n",
    "a.sort_values(by='Percent_affected_GeoNameIdentifier',ascending=False,inplace=True)"
   ]
  },
  {
   "cell_type": "code",
   "execution_count": 111,
   "metadata": {},
   "outputs": [
    {
     "data": {
      "text/plain": [
       "windows10      3176047\n",
       "windows8         41256\n",
       "windows7          2011\n",
       "windows2016          0\n",
       "Name: Platform, dtype: int64"
      ]
     },
     "execution_count": 111,
     "metadata": {},
     "output_type": "execute_result"
    }
   ],
   "source": [
    "df[cols[17]].value_counts()"
   ]
  },
  {
   "cell_type": "code",
   "execution_count": 112,
   "metadata": {},
   "outputs": [],
   "source": [
    "b1=df[df.HasDetections==1].groupby(cols[17]).count()['MachineIdentifier'].reset_index()\n",
    "\n",
    "b2=df[df.HasDetections==0].groupby(cols[17]).count()['MachineIdentifier'].reset_index()\n",
    "\n",
    "b1.rename(columns={'MachineIdentifier':'NOM_affected_Platform'},inplace=True)\n",
    "b2.rename(columns={'MachineIdentifier':'NOM_unaffected_Platform'},inplace=True)\n",
    "\n",
    "b=b1.merge(b2,on=cols[17],how='outer')\n",
    "\n",
    "b['Percent_affected_Platform']=np.round(b['NOM_affected_Platform']*100/(b['NOM_affected_Platform']+b['NOM_unaffected_Platform']))\n",
    "\n",
    "b.drop(columns=['NOM_affected_Platform','NOM_unaffected_Platform'],inplace=True)\n",
    "\n",
    "b.sort_values(by='Percent_affected_Platform',ascending=False,inplace=True)"
   ]
  },
  {
   "cell_type": "code",
   "execution_count": 113,
   "metadata": {},
   "outputs": [
    {
     "data": {
      "text/plain": [
       "'Processor'"
      ]
     },
     "execution_count": 113,
     "metadata": {},
     "output_type": "execute_result"
    }
   ],
   "source": [
    "cols[18]"
   ]
  },
  {
   "cell_type": "code",
   "execution_count": 114,
   "metadata": {},
   "outputs": [],
   "source": [
    "c1=df[df.HasDetections==1].groupby(cols[18]).count()['MachineIdentifier'].reset_index()\n",
    "\n",
    "c2=df[df.HasDetections==0].groupby(cols[18]).count()['MachineIdentifier'].reset_index()\n",
    "\n",
    "c1.rename(columns={'MachineIdentifier':'NOM_affected_Processor'},inplace=True)\n",
    "c2.rename(columns={'MachineIdentifier':'NOM_unaffected_Processor'},inplace=True)\n",
    "\n",
    "c=c1.merge(c2,on=cols[18],how='outer')\n",
    "\n",
    "c['Percent_affected_Processor']=np.round(c['NOM_affected_Processor']*100/(c['NOM_affected_Processor']+c['NOM_unaffected_Processor']))\n",
    "\n",
    "c.drop(columns=['NOM_affected_Processor','NOM_unaffected_Processor'],inplace=True)\n",
    "\n",
    "c.sort_values(by='Percent_affected_Processor',ascending=False,inplace=True)"
   ]
  },
  {
   "cell_type": "code",
   "execution_count": 115,
   "metadata": {},
   "outputs": [
    {
     "data": {
      "text/plain": [
       "<matplotlib.axes._subplots.AxesSubplot at 0x1b9f4075ac8>"
      ]
     },
     "execution_count": 115,
     "metadata": {},
     "output_type": "execute_result"
    },
    {
     "data": {
      "image/png": "[encoded data removed]",
      "text/plain": [
       "<Figure size 432x288 with 1 Axes>"
      ]
     },
     "metadata": {},
     "output_type": "display_data"
    }
   ],
   "source": [
    "c.sort_index().plot()"
   ]
  },
  {
   "cell_type": "code",
   "execution_count": 116,
   "metadata": {},
   "outputs": [
    {
     "data": {
      "text/plain": [
       "[10.0.0.0, 6.3.0.0, 6.1.1.0, 10.0.1.44, 6.3.1.0, ..., 6.1.3.0, 10.0.8.0, 10.0.2.86, 10.0.23.0, 10.0.0.1]\n",
       "Length: 36\n",
       "Categories (36, object): [10.0.0.0, 6.3.0.0, 6.1.1.0, 10.0.1.44, ..., 10.0.8.0, 10.0.2.86, 10.0.23.0, 10.0.0.1]"
      ]
     },
     "execution_count": 116,
     "metadata": {},
     "output_type": "execute_result"
    }
   ],
   "source": [
    "df[cols[19]].unique()"
   ]
  },
  {
   "cell_type": "code",
   "execution_count": 117,
   "metadata": {},
   "outputs": [],
   "source": [
    "d1=df[df.HasDetections==1].groupby(cols[19]).count()['MachineIdentifier'].reset_index()\n",
    "\n",
    "d2=df[df.HasDetections==0].groupby(cols[19]).count()['MachineIdentifier'].reset_index()\n",
    "\n",
    "d1.rename(columns={'MachineIdentifier':'NOM_affected_OsVer'},inplace=True)\n",
    "d2.rename(columns={'MachineIdentifier':'NOM_unaffected_OsVer'},inplace=True)\n",
    "\n",
    "d=d1.merge(d2,on=cols[19],how='outer')\n",
    "\n",
    "d['Percent_affected_OsVer']=np.round(d['NOM_affected_OsVer']*100/(d['NOM_affected_OsVer']+d['NOM_unaffected_OsVer']))\n",
    "\n",
    "d.drop(columns=['NOM_affected_OsVer','NOM_unaffected_OsVer'],inplace=True)\n",
    "\n",
    "d.sort_values(by='Percent_affected_OsVer',ascending=False,inplace=True)"
   ]
  },
  {
   "cell_type": "code",
   "execution_count": 118,
   "metadata": {},
   "outputs": [
    {
     "data": {
      "text/plain": [
       "'OsBuild'"
      ]
     },
     "execution_count": 118,
     "metadata": {},
     "output_type": "execute_result"
    }
   ],
   "source": [
    "cols[20]"
   ]
  },
  {
   "cell_type": "code",
   "execution_count": 119,
   "metadata": {},
   "outputs": [],
   "source": [
    "e1=df[df.HasDetections==1].groupby(cols[20]).count()['MachineIdentifier'].reset_index()\n",
    "\n",
    "e2=df[df.HasDetections==0].groupby(cols[20]).count()['MachineIdentifier'].reset_index()\n",
    "\n",
    "e1.rename(columns={'MachineIdentifier':'NOM_affected_OsBuild'},inplace=True)\n",
    "e2.rename(columns={'MachineIdentifier':'NOM_unaffected_OsBuild'},inplace=True)\n",
    "\n",
    "e=e1.merge(e2,on=cols[20],how='outer')\n",
    "\n",
    "e['Percent_affected_OsBuild']=np.round(e['NOM_affected_OsBuild']*100/(e['NOM_affected_OsBuild']+e['NOM_unaffected_OsBuild']))\n",
    "\n",
    "e.drop(columns=['NOM_affected_OsBuild','NOM_unaffected_OsBuild'],inplace=True)\n",
    "\n",
    "e.sort_values(by='Percent_affected_OsBuild',ascending=False,inplace=True)"
   ]
  },
  {
   "cell_type": "code",
   "execution_count": 120,
   "metadata": {},
   "outputs": [],
   "source": [
    "for temp in [t,u,v,w,z,a,b,c,d,e]:\n",
    "    temp.iloc[:,1].fillna(0,inplace=True)"
   ]
  },
  {
   "cell_type": "code",
   "execution_count": 121,
   "metadata": {},
   "outputs": [
    {
     "data": {
      "text/plain": [
       "(3219314, 74)"
      ]
     },
     "execution_count": 121,
     "metadata": {},
     "output_type": "execute_result"
    }
   ],
   "source": [
    "df.shape"
   ]
  },
  {
   "cell_type": "code",
   "execution_count": 122,
   "metadata": {},
   "outputs": [
    {
     "name": "stdout",
     "output_type": "stream",
     "text": [
      "Wall time: 0 ns\n"
     ]
    }
   ],
   "source": [
    "%%time\n",
    "def expand_df(df):\n",
    "    df=pd.get_dummies(data=df,columns=['RtpStateBitfield'])\n",
    "    df=df.merge(t,on='EngineVersion',how='left')\n",
    "    df=df.merge(u,on='AppVersion',how='left')\n",
    "    df=df.merge(v,on='CountryIdentifier',how='left')\n",
    "    df=df.merge(w,on='CityIdentifier',how='left')\n",
    "    df=df.merge(z,on='OrganizationIdentifier',how='left')\n",
    "    df=df.merge(a,on='GeoNameIdentifier',how='left')\n",
    "    df=df.merge(b,on='Platform',how='left')\n",
    "    df=df.merge(c,on='Processor',how='left')\n",
    "    df=df.merge(d,on='OsVer',how='left')\n",
    "    df=df.merge(e,on='OsBuild',how='left')\n",
    "    return df"
   ]
  },
  {
   "cell_type": "code",
   "execution_count": 123,
   "metadata": {},
   "outputs": [],
   "source": [
    "temp1=df.AppVersion.str.split(\".\",expand=True,)"
   ]
  },
  {
   "cell_type": "code",
   "execution_count": 124,
   "metadata": {},
   "outputs": [],
   "source": [
    "temp1.drop(columns=[0],inplace=True)"
   ]
  },
  {
   "cell_type": "code",
   "execution_count": 125,
   "metadata": {},
   "outputs": [],
   "source": [
    "temp1.rename(columns={1:'AppVersion_1',2:'AppVersion_2',3:'AppVersion_3'},inplace=True)"
   ]
  },
  {
   "cell_type": "code",
   "execution_count": 126,
   "metadata": {},
   "outputs": [],
   "source": [
    "df=df.merge(temp1,left_index=True,right_index=True)"
   ]
  },
  {
   "cell_type": "code",
   "execution_count": 127,
   "metadata": {},
   "outputs": [],
   "source": [
    "temp1=df.EngineVersion.str.split(\".\",expand=True,)"
   ]
  },
  {
   "cell_type": "code",
   "execution_count": 128,
   "metadata": {},
   "outputs": [
    {
     "data": {
      "text/plain": [
       "1    2909166\n",
       "2     105687\n",
       "4      93973\n",
       "3      54039\n",
       "5      25268\n",
       "6      15967\n",
       "0      15214\n",
       "Name: 3, dtype: int64"
      ]
     },
     "execution_count": 128,
     "metadata": {},
     "output_type": "execute_result"
    }
   ],
   "source": [
    "temp1[3].value_counts()"
   ]
  },
  {
   "cell_type": "code",
   "execution_count": 129,
   "metadata": {},
   "outputs": [],
   "source": [
    "temp1.drop(columns=[0,1],inplace=True)"
   ]
  },
  {
   "cell_type": "code",
   "execution_count": 130,
   "metadata": {},
   "outputs": [
    {
     "data": {
      "text/html": [
       "<div>\n",
       "<style scoped>\n",
       "    .dataframe tbody tr th:only-of-type {\n",
       "        vertical-align: middle;\n",
       "    }\n",
       "\n",
       "    .dataframe tbody tr th {\n",
       "        vertical-align: top;\n",
       "    }\n",
       "\n",
       "    .dataframe thead th {\n",
       "        text-align: right;\n",
       "    }\n",
       "</style>\n",
       "<table border=\"1\" class=\"dataframe\">\n",
       "  <thead>\n",
       "    <tr style=\"text-align: right;\">\n",
       "      <th></th>\n",
       "      <th>2</th>\n",
       "      <th>3</th>\n",
       "    </tr>\n",
       "  </thead>\n",
       "  <tbody>\n",
       "    <tr>\n",
       "      <th>0</th>\n",
       "      <td>15100</td>\n",
       "      <td>1</td>\n",
       "    </tr>\n",
       "    <tr>\n",
       "      <th>1</th>\n",
       "      <td>14600</td>\n",
       "      <td>4</td>\n",
       "    </tr>\n",
       "    <tr>\n",
       "      <th>2</th>\n",
       "      <td>15100</td>\n",
       "      <td>1</td>\n",
       "    </tr>\n",
       "    <tr>\n",
       "      <th>3</th>\n",
       "      <td>15100</td>\n",
       "      <td>1</td>\n",
       "    </tr>\n",
       "    <tr>\n",
       "      <th>4</th>\n",
       "      <td>15100</td>\n",
       "      <td>1</td>\n",
       "    </tr>\n",
       "  </tbody>\n",
       "</table>\n",
       "</div>"
      ],
      "text/plain": [
       "       2  3\n",
       "0  15100  1\n",
       "1  14600  4\n",
       "2  15100  1\n",
       "3  15100  1\n",
       "4  15100  1"
      ]
     },
     "execution_count": 130,
     "metadata": {},
     "output_type": "execute_result"
    }
   ],
   "source": [
    "temp1.head()"
   ]
  },
  {
   "cell_type": "code",
   "execution_count": 131,
   "metadata": {},
   "outputs": [],
   "source": [
    "temp1.rename(columns={2:'EngineVersion_2',3:'EngineVersion_3'},inplace=True)"
   ]
  },
  {
   "cell_type": "code",
   "execution_count": 132,
   "metadata": {},
   "outputs": [],
   "source": [
    "df=df.merge(temp1,left_index=True,right_index=True)"
   ]
  },
  {
   "cell_type": "code",
   "execution_count": 133,
   "metadata": {},
   "outputs": [
    {
     "data": {
      "text/html": [
       "<div>\n",
       "<style scoped>\n",
       "    .dataframe tbody tr th:only-of-type {\n",
       "        vertical-align: middle;\n",
       "    }\n",
       "\n",
       "    .dataframe tbody tr th {\n",
       "        vertical-align: top;\n",
       "    }\n",
       "\n",
       "    .dataframe thead th {\n",
       "        text-align: right;\n",
       "    }\n",
       "</style>\n",
       "<table border=\"1\" class=\"dataframe\">\n",
       "  <thead>\n",
       "    <tr style=\"text-align: right;\">\n",
       "      <th></th>\n",
       "      <th>MachineIdentifier</th>\n",
       "      <th>EngineVersion</th>\n",
       "      <th>AppVersion</th>\n",
       "      <th>AvSigVersion</th>\n",
       "      <th>RtpStateBitfield</th>\n",
       "      <th>IsSxsPassiveMode</th>\n",
       "      <th>AVProductStatesIdentifier</th>\n",
       "      <th>AVProductsInstalled</th>\n",
       "      <th>AVProductsEnabled</th>\n",
       "      <th>HasTpm</th>\n",
       "      <th>...</th>\n",
       "      <th>Census_IsPenCapable</th>\n",
       "      <th>Census_IsAlwaysOnAlwaysConnectedCapable</th>\n",
       "      <th>Wdft_IsGamer</th>\n",
       "      <th>Wdft_RegionIdentifier</th>\n",
       "      <th>HasDetections</th>\n",
       "      <th>AppVersion_1</th>\n",
       "      <th>AppVersion_2</th>\n",
       "      <th>AppVersion_3</th>\n",
       "      <th>EngineVersion_2</th>\n",
       "      <th>EngineVersion_3</th>\n",
       "    </tr>\n",
       "  </thead>\n",
       "  <tbody>\n",
       "    <tr>\n",
       "      <th>0</th>\n",
       "      <td>0000028988387b115f69f31a3bf04f09</td>\n",
       "      <td>1.1.15100.1</td>\n",
       "      <td>4.18.1807.18075</td>\n",
       "      <td>1.273.1735.0</td>\n",
       "      <td>7.0</td>\n",
       "      <td>0</td>\n",
       "      <td>53447.0</td>\n",
       "      <td>1.0</td>\n",
       "      <td>1.0</td>\n",
       "      <td>1</td>\n",
       "      <td>...</td>\n",
       "      <td>0</td>\n",
       "      <td>0.0</td>\n",
       "      <td>0.0</td>\n",
       "      <td>10.0</td>\n",
       "      <td>0</td>\n",
       "      <td>18</td>\n",
       "      <td>1807</td>\n",
       "      <td>18075</td>\n",
       "      <td>15100</td>\n",
       "      <td>1</td>\n",
       "    </tr>\n",
       "    <tr>\n",
       "      <th>1</th>\n",
       "      <td>000007535c3f730efa9ea0b7ef1bd645</td>\n",
       "      <td>1.1.14600.4</td>\n",
       "      <td>4.13.17134.1</td>\n",
       "      <td>1.263.48.0</td>\n",
       "      <td>7.0</td>\n",
       "      <td>0</td>\n",
       "      <td>53447.0</td>\n",
       "      <td>1.0</td>\n",
       "      <td>1.0</td>\n",
       "      <td>1</td>\n",
       "      <td>...</td>\n",
       "      <td>0</td>\n",
       "      <td>0.0</td>\n",
       "      <td>0.0</td>\n",
       "      <td>8.0</td>\n",
       "      <td>0</td>\n",
       "      <td>13</td>\n",
       "      <td>17134</td>\n",
       "      <td>1</td>\n",
       "      <td>14600</td>\n",
       "      <td>4</td>\n",
       "    </tr>\n",
       "    <tr>\n",
       "      <th>2</th>\n",
       "      <td>000007905a28d863f6d0d597892cd692</td>\n",
       "      <td>1.1.15100.1</td>\n",
       "      <td>4.18.1807.18075</td>\n",
       "      <td>1.273.1341.0</td>\n",
       "      <td>7.0</td>\n",
       "      <td>0</td>\n",
       "      <td>53447.0</td>\n",
       "      <td>1.0</td>\n",
       "      <td>1.0</td>\n",
       "      <td>1</td>\n",
       "      <td>...</td>\n",
       "      <td>0</td>\n",
       "      <td>0.0</td>\n",
       "      <td>0.0</td>\n",
       "      <td>3.0</td>\n",
       "      <td>0</td>\n",
       "      <td>18</td>\n",
       "      <td>1807</td>\n",
       "      <td>18075</td>\n",
       "      <td>15100</td>\n",
       "      <td>1</td>\n",
       "    </tr>\n",
       "    <tr>\n",
       "      <th>3</th>\n",
       "      <td>00000b11598a75ea8ba1beea8459149f</td>\n",
       "      <td>1.1.15100.1</td>\n",
       "      <td>4.18.1807.18075</td>\n",
       "      <td>1.273.1527.0</td>\n",
       "      <td>7.0</td>\n",
       "      <td>0</td>\n",
       "      <td>53447.0</td>\n",
       "      <td>1.0</td>\n",
       "      <td>1.0</td>\n",
       "      <td>1</td>\n",
       "      <td>...</td>\n",
       "      <td>0</td>\n",
       "      <td>0.0</td>\n",
       "      <td>0.0</td>\n",
       "      <td>3.0</td>\n",
       "      <td>1</td>\n",
       "      <td>18</td>\n",
       "      <td>1807</td>\n",
       "      <td>18075</td>\n",
       "      <td>15100</td>\n",
       "      <td>1</td>\n",
       "    </tr>\n",
       "    <tr>\n",
       "      <th>4</th>\n",
       "      <td>000014a5f00daa18e76b81417eeb99fc</td>\n",
       "      <td>1.1.15100.1</td>\n",
       "      <td>4.18.1807.18075</td>\n",
       "      <td>1.273.1379.0</td>\n",
       "      <td>7.0</td>\n",
       "      <td>0</td>\n",
       "      <td>53447.0</td>\n",
       "      <td>1.0</td>\n",
       "      <td>1.0</td>\n",
       "      <td>1</td>\n",
       "      <td>...</td>\n",
       "      <td>0</td>\n",
       "      <td>0.0</td>\n",
       "      <td>0.0</td>\n",
       "      <td>1.0</td>\n",
       "      <td>1</td>\n",
       "      <td>18</td>\n",
       "      <td>1807</td>\n",
       "      <td>18075</td>\n",
       "      <td>15100</td>\n",
       "      <td>1</td>\n",
       "    </tr>\n",
       "  </tbody>\n",
       "</table>\n",
       "<p>5 rows × 79 columns</p>\n",
       "</div>"
      ],
      "text/plain": [
       "                  MachineIdentifier EngineVersion       AppVersion  \\\n",
       "0  0000028988387b115f69f31a3bf04f09   1.1.15100.1  4.18.1807.18075   \n",
       "1  000007535c3f730efa9ea0b7ef1bd645   1.1.14600.4     4.13.17134.1   \n",
       "2  000007905a28d863f6d0d597892cd692   1.1.15100.1  4.18.1807.18075   \n",
       "3  00000b11598a75ea8ba1beea8459149f   1.1.15100.1  4.18.1807.18075   \n",
       "4  000014a5f00daa18e76b81417eeb99fc   1.1.15100.1  4.18.1807.18075   \n",
       "\n",
       "   AvSigVersion  RtpStateBitfield  IsSxsPassiveMode  \\\n",
       "0  1.273.1735.0               7.0                 0   \n",
       "1    1.263.48.0               7.0                 0   \n",
       "2  1.273.1341.0               7.0                 0   \n",
       "3  1.273.1527.0               7.0                 0   \n",
       "4  1.273.1379.0               7.0                 0   \n",
       "\n",
       "   AVProductStatesIdentifier  AVProductsInstalled  AVProductsEnabled  HasTpm  \\\n",
       "0                    53447.0                  1.0                1.0       1   \n",
       "1                    53447.0                  1.0                1.0       1   \n",
       "2                    53447.0                  1.0                1.0       1   \n",
       "3                    53447.0                  1.0                1.0       1   \n",
       "4                    53447.0                  1.0                1.0       1   \n",
       "\n",
       "        ...         Census_IsPenCapable  \\\n",
       "0       ...                           0   \n",
       "1       ...                           0   \n",
       "2       ...                           0   \n",
       "3       ...                           0   \n",
       "4       ...                           0   \n",
       "\n",
       "   Census_IsAlwaysOnAlwaysConnectedCapable  Wdft_IsGamer  \\\n",
       "0                                      0.0           0.0   \n",
       "1                                      0.0           0.0   \n",
       "2                                      0.0           0.0   \n",
       "3                                      0.0           0.0   \n",
       "4                                      0.0           0.0   \n",
       "\n",
       "   Wdft_RegionIdentifier  HasDetections AppVersion_1 AppVersion_2  \\\n",
       "0                   10.0              0           18         1807   \n",
       "1                    8.0              0           13        17134   \n",
       "2                    3.0              0           18         1807   \n",
       "3                    3.0              1           18         1807   \n",
       "4                    1.0              1           18         1807   \n",
       "\n",
       "  AppVersion_3  EngineVersion_2  EngineVersion_3  \n",
       "0        18075            15100                1  \n",
       "1            1            14600                4  \n",
       "2        18075            15100                1  \n",
       "3        18075            15100                1  \n",
       "4        18075            15100                1  \n",
       "\n",
       "[5 rows x 79 columns]"
      ]
     },
     "execution_count": 133,
     "metadata": {},
     "output_type": "execute_result"
    }
   ],
   "source": [
    "df.head()"
   ]
  },
  {
   "cell_type": "code",
   "execution_count": 134,
   "metadata": {},
   "outputs": [],
   "source": [
    "temp1=df.AvSigVersion.str.split(\".\",expand=True,)"
   ]
  },
  {
   "cell_type": "code",
   "execution_count": 135,
   "metadata": {},
   "outputs": [
    {
     "data": {
      "text/plain": [
       "1    3219294\n",
       "0         20\n",
       "Name: 0, dtype: int64"
      ]
     },
     "execution_count": 135,
     "metadata": {},
     "output_type": "execute_result"
    }
   ],
   "source": [
    "temp1[0].value_counts()"
   ]
  },
  {
   "cell_type": "code",
   "execution_count": 136,
   "metadata": {},
   "outputs": [
    {
     "data": {
      "text/plain": [
       "0    3219314\n",
       "Name: 3, dtype: int64"
      ]
     },
     "execution_count": 136,
     "metadata": {},
     "output_type": "execute_result"
    }
   ],
   "source": [
    "temp1[3].value_counts()"
   ]
  },
  {
   "cell_type": "code",
   "execution_count": 137,
   "metadata": {},
   "outputs": [],
   "source": [
    "temp1.drop(columns=[0,3],inplace=True)"
   ]
  },
  {
   "cell_type": "code",
   "execution_count": 138,
   "metadata": {},
   "outputs": [
    {
     "data": {
      "text/html": [
       "<div>\n",
       "<style scoped>\n",
       "    .dataframe tbody tr th:only-of-type {\n",
       "        vertical-align: middle;\n",
       "    }\n",
       "\n",
       "    .dataframe tbody tr th {\n",
       "        vertical-align: top;\n",
       "    }\n",
       "\n",
       "    .dataframe thead th {\n",
       "        text-align: right;\n",
       "    }\n",
       "</style>\n",
       "<table border=\"1\" class=\"dataframe\">\n",
       "  <thead>\n",
       "    <tr style=\"text-align: right;\">\n",
       "      <th></th>\n",
       "      <th>1</th>\n",
       "      <th>2</th>\n",
       "    </tr>\n",
       "  </thead>\n",
       "  <tbody>\n",
       "    <tr>\n",
       "      <th>0</th>\n",
       "      <td>273</td>\n",
       "      <td>1735</td>\n",
       "    </tr>\n",
       "    <tr>\n",
       "      <th>1</th>\n",
       "      <td>263</td>\n",
       "      <td>48</td>\n",
       "    </tr>\n",
       "    <tr>\n",
       "      <th>2</th>\n",
       "      <td>273</td>\n",
       "      <td>1341</td>\n",
       "    </tr>\n",
       "    <tr>\n",
       "      <th>3</th>\n",
       "      <td>273</td>\n",
       "      <td>1527</td>\n",
       "    </tr>\n",
       "    <tr>\n",
       "      <th>4</th>\n",
       "      <td>273</td>\n",
       "      <td>1379</td>\n",
       "    </tr>\n",
       "  </tbody>\n",
       "</table>\n",
       "</div>"
      ],
      "text/plain": [
       "     1     2\n",
       "0  273  1735\n",
       "1  263    48\n",
       "2  273  1341\n",
       "3  273  1527\n",
       "4  273  1379"
      ]
     },
     "execution_count": 138,
     "metadata": {},
     "output_type": "execute_result"
    }
   ],
   "source": [
    "temp1.head()"
   ]
  },
  {
   "cell_type": "code",
   "execution_count": 139,
   "metadata": {},
   "outputs": [],
   "source": [
    "temp1.rename(columns={1:'AvSigVersion_1',2:'AvSigVersion_2'},inplace=True)"
   ]
  },
  {
   "cell_type": "code",
   "execution_count": 140,
   "metadata": {},
   "outputs": [],
   "source": [
    "df=df.merge(temp1,left_index=True,right_index=True)"
   ]
  },
  {
   "cell_type": "code",
   "execution_count": null,
   "metadata": {},
   "outputs": [],
   "source": []
  },
  {
   "cell_type": "code",
   "execution_count": 141,
   "metadata": {},
   "outputs": [],
   "source": [
    "df.drop(columns=['EngineVersion','AppVersion','AvSigVersion'],inplace=True)"
   ]
  },
  {
   "cell_type": "code",
   "execution_count": 142,
   "metadata": {},
   "outputs": [
    {
     "data": {
      "text/plain": [
       "Index(['MachineIdentifier', 'RtpStateBitfield', 'IsSxsPassiveMode',\n",
       "       'AVProductStatesIdentifier', 'AVProductsInstalled', 'AVProductsEnabled',\n",
       "       'HasTpm', 'CountryIdentifier', 'CityIdentifier',\n",
       "       'OrganizationIdentifier', 'GeoNameIdentifier',\n",
       "       'LocaleEnglishNameIdentifier', 'Platform', 'Processor', 'OsVer',\n",
       "       'OsBuild', 'OsSuite', 'OsPlatformSubRelease', 'OsBuildLab',\n",
       "       'SkuEdition', 'IsProtected', 'AutoSampleOptIn', 'SMode',\n",
       "       'IeVerIdentifier', 'SmartScreen', 'Firewall', 'UacLuaenable',\n",
       "       'Census_MDC2FormFactor', 'Census_DeviceFamily',\n",
       "       'Census_OEMNameIdentifier', 'Census_OEMModelIdentifier',\n",
       "       'Census_ProcessorCoreCount', 'Census_ProcessorManufacturerIdentifier',\n",
       "       'Census_ProcessorModelIdentifier', 'Census_PrimaryDiskTotalCapacity',\n",
       "       'Census_PrimaryDiskTypeName', 'Census_SystemVolumeTotalCapacity',\n",
       "       'Census_HasOpticalDiskDrive', 'Census_TotalPhysicalRAM',\n",
       "       'Census_ChassisTypeName',\n",
       "       'Census_InternalPrimaryDiagonalDisplaySizeInInches',\n",
       "       'Census_InternalPrimaryDisplayResolutionHorizontal',\n",
       "       'Census_InternalPrimaryDisplayResolutionVertical',\n",
       "       'Census_PowerPlatformRoleName', 'Census_InternalBatteryNumberOfCharges',\n",
       "       'Census_OSVersion', 'Census_OSArchitecture', 'Census_OSBranch',\n",
       "       'Census_OSBuildNumber', 'Census_OSBuildRevision', 'Census_OSEdition',\n",
       "       'Census_OSSkuName', 'Census_OSInstallTypeName',\n",
       "       'Census_OSInstallLanguageIdentifier', 'Census_OSUILocaleIdentifier',\n",
       "       'Census_OSWUAutoUpdateOptionsName', 'Census_IsPortableOperatingSystem',\n",
       "       'Census_GenuineStateName', 'Census_ActivationChannel',\n",
       "       'Census_IsFlightsDisabled', 'Census_FlightRing',\n",
       "       'Census_FirmwareManufacturerIdentifier',\n",
       "       'Census_FirmwareVersionIdentifier', 'Census_IsSecureBootEnabled',\n",
       "       'Census_IsVirtualDevice', 'Census_IsTouchEnabled',\n",
       "       'Census_IsPenCapable', 'Census_IsAlwaysOnAlwaysConnectedCapable',\n",
       "       'Wdft_IsGamer', 'Wdft_RegionIdentifier', 'HasDetections',\n",
       "       'AppVersion_1', 'AppVersion_2', 'AppVersion_3', 'EngineVersion_2',\n",
       "       'EngineVersion_3', 'AvSigVersion_1', 'AvSigVersion_2'],\n",
       "      dtype='object')"
      ]
     },
     "execution_count": 142,
     "metadata": {},
     "output_type": "execute_result"
    }
   ],
   "source": [
    "df.columns"
   ]
  },
  {
   "cell_type": "code",
   "execution_count": 143,
   "metadata": {},
   "outputs": [],
   "source": [
    "temp1=df.Census_OSVersion.str.split(\".\",expand=True,)"
   ]
  },
  {
   "cell_type": "code",
   "execution_count": 144,
   "metadata": {},
   "outputs": [
    {
     "data": {
      "text/plain": [
       "10    3219314\n",
       "Name: 0, dtype: int64"
      ]
     },
     "execution_count": 144,
     "metadata": {},
     "output_type": "execute_result"
    }
   ],
   "source": [
    "temp1[0].value_counts()"
   ]
  },
  {
   "cell_type": "code",
   "execution_count": 145,
   "metadata": {},
   "outputs": [
    {
     "data": {
      "text/plain": [
       "0    3219314\n",
       "Name: 1, dtype: int64"
      ]
     },
     "execution_count": 145,
     "metadata": {},
     "output_type": "execute_result"
    }
   ],
   "source": [
    "temp1[1].value_counts()"
   ]
  },
  {
   "cell_type": "code",
   "execution_count": 146,
   "metadata": {},
   "outputs": [],
   "source": [
    "temp1.drop(columns=[0,1],inplace=True)"
   ]
  },
  {
   "cell_type": "code",
   "execution_count": 147,
   "metadata": {},
   "outputs": [],
   "source": [
    "temp1.rename(columns={2:'Census_OSVersion_2',3:'Census_OSVersion_3'},inplace=True)"
   ]
  },
  {
   "cell_type": "code",
   "execution_count": 148,
   "metadata": {},
   "outputs": [],
   "source": [
    "df=df.merge(temp1,left_index=True,right_index=True)"
   ]
  },
  {
   "cell_type": "code",
   "execution_count": 149,
   "metadata": {},
   "outputs": [
    {
     "data": {
      "text/html": [
       "<div>\n",
       "<style scoped>\n",
       "    .dataframe tbody tr th:only-of-type {\n",
       "        vertical-align: middle;\n",
       "    }\n",
       "\n",
       "    .dataframe tbody tr th {\n",
       "        vertical-align: top;\n",
       "    }\n",
       "\n",
       "    .dataframe thead th {\n",
       "        text-align: right;\n",
       "    }\n",
       "</style>\n",
       "<table border=\"1\" class=\"dataframe\">\n",
       "  <thead>\n",
       "    <tr style=\"text-align: right;\">\n",
       "      <th></th>\n",
       "      <th>Census_OSBuildRevision</th>\n",
       "    </tr>\n",
       "  </thead>\n",
       "  <tbody>\n",
       "    <tr>\n",
       "      <th>Census_OSBuildRevision</th>\n",
       "      <td>1.0</td>\n",
       "    </tr>\n",
       "  </tbody>\n",
       "</table>\n",
       "</div>"
      ],
      "text/plain": [
       "                        Census_OSBuildRevision\n",
       "Census_OSBuildRevision                     1.0"
      ]
     },
     "execution_count": 149,
     "metadata": {},
     "output_type": "execute_result"
    }
   ],
   "source": [
    "df[['Census_OSBuildRevision','Census_OSVersion_3']].corr()"
   ]
  },
  {
   "cell_type": "code",
   "execution_count": 150,
   "metadata": {},
   "outputs": [],
   "source": [
    "df.drop(columns=['Census_OSVersion_3'],inplace=True)"
   ]
  },
  {
   "cell_type": "code",
   "execution_count": 151,
   "metadata": {},
   "outputs": [
    {
     "data": {
      "text/html": [
       "<div>\n",
       "<style scoped>\n",
       "    .dataframe tbody tr th:only-of-type {\n",
       "        vertical-align: middle;\n",
       "    }\n",
       "\n",
       "    .dataframe tbody tr th {\n",
       "        vertical-align: top;\n",
       "    }\n",
       "\n",
       "    .dataframe thead th {\n",
       "        text-align: right;\n",
       "    }\n",
       "</style>\n",
       "<table border=\"1\" class=\"dataframe\">\n",
       "  <thead>\n",
       "    <tr style=\"text-align: right;\">\n",
       "      <th></th>\n",
       "      <th>OsBuild</th>\n",
       "    </tr>\n",
       "  </thead>\n",
       "  <tbody>\n",
       "    <tr>\n",
       "      <th>OsBuild</th>\n",
       "      <td>1.0</td>\n",
       "    </tr>\n",
       "  </tbody>\n",
       "</table>\n",
       "</div>"
      ],
      "text/plain": [
       "         OsBuild\n",
       "OsBuild      1.0"
      ]
     },
     "execution_count": 151,
     "metadata": {},
     "output_type": "execute_result"
    }
   ],
   "source": [
    "df[['OsBuild','Census_OSVersion_2']].corr()"
   ]
  },
  {
   "cell_type": "code",
   "execution_count": 152,
   "metadata": {},
   "outputs": [],
   "source": [
    "df.drop(columns=['Census_OSVersion','Census_OSVersion_2'],inplace=True)"
   ]
  },
  {
   "cell_type": "code",
   "execution_count": 153,
   "metadata": {},
   "outputs": [
    {
     "data": {
      "text/html": [
       "<div>\n",
       "<style scoped>\n",
       "    .dataframe tbody tr th:only-of-type {\n",
       "        vertical-align: middle;\n",
       "    }\n",
       "\n",
       "    .dataframe tbody tr th {\n",
       "        vertical-align: top;\n",
       "    }\n",
       "\n",
       "    .dataframe thead th {\n",
       "        text-align: right;\n",
       "    }\n",
       "</style>\n",
       "<table border=\"1\" class=\"dataframe\">\n",
       "  <thead>\n",
       "    <tr style=\"text-align: right;\">\n",
       "      <th></th>\n",
       "      <th>OsBuild</th>\n",
       "      <th>Census_OSBuildNumber</th>\n",
       "    </tr>\n",
       "  </thead>\n",
       "  <tbody>\n",
       "    <tr>\n",
       "      <th>OsBuild</th>\n",
       "      <td>1.000000</td>\n",
       "      <td>0.949837</td>\n",
       "    </tr>\n",
       "    <tr>\n",
       "      <th>Census_OSBuildNumber</th>\n",
       "      <td>0.949837</td>\n",
       "      <td>1.000000</td>\n",
       "    </tr>\n",
       "  </tbody>\n",
       "</table>\n",
       "</div>"
      ],
      "text/plain": [
       "                       OsBuild  Census_OSBuildNumber\n",
       "OsBuild               1.000000              0.949837\n",
       "Census_OSBuildNumber  0.949837              1.000000"
      ]
     },
     "execution_count": 153,
     "metadata": {},
     "output_type": "execute_result"
    }
   ],
   "source": [
    "df[['OsBuild','Census_OSBuildNumber']].corr()"
   ]
  },
  {
   "cell_type": "code",
   "execution_count": 154,
   "metadata": {},
   "outputs": [],
   "source": [
    "df.drop(columns=['Census_OSBuildNumber'],inplace=True)"
   ]
  },
  {
   "cell_type": "code",
   "execution_count": 155,
   "metadata": {},
   "outputs": [],
   "source": [
    "numeric_cols=df.select_dtypes(include=['float16','float32','float64','int8','int16','int32']).columns.tolist()"
   ]
  },
  {
   "cell_type": "code",
   "execution_count": 156,
   "metadata": {},
   "outputs": [
    {
     "data": {
      "text/plain": [
       "Index([], dtype='object')"
      ]
     },
     "execution_count": 156,
     "metadata": {},
     "output_type": "execute_result"
    }
   ],
   "source": [
    "df.columns[df.isnull().any()]"
   ]
  },
  {
   "cell_type": "code",
   "execution_count": 157,
   "metadata": {},
   "outputs": [
    {
     "data": {
      "text/plain": [
       "(3219314, 76)"
      ]
     },
     "execution_count": 157,
     "metadata": {},
     "output_type": "execute_result"
    }
   ],
   "source": [
    "df.shape"
   ]
  },
  {
   "cell_type": "code",
   "execution_count": 158,
   "metadata": {},
   "outputs": [],
   "source": [
    "temp1=df.AVProductStatesIdentifier.value_counts().reset_index()\n",
    "\n",
    "temp1_list=temp1[temp1.AVProductStatesIdentifier>5000]['index'].tolist()\n",
    "\n",
    "df['AVProductStatesIdentifier']=[1 if x in temp1_list else 0 for x in df['AVProductStatesIdentifier']]"
   ]
  },
  {
   "cell_type": "code",
   "execution_count": 161,
   "metadata": {},
   "outputs": [
    {
     "data": {
      "text/plain": [
       "1    2897639\n",
       "0     321675\n",
       "Name: AVProductStatesIdentifier, dtype: int64"
      ]
     },
     "execution_count": 161,
     "metadata": {},
     "output_type": "execute_result"
    }
   ],
   "source": [
    "df.AVProductStatesIdentifier.value_counts()"
   ]
  },
  {
   "cell_type": "code",
   "execution_count": 162,
   "metadata": {},
   "outputs": [],
   "source": [
    "temp1=df.CountryIdentifier.value_counts().reset_index()"
   ]
  },
  {
   "cell_type": "code",
   "execution_count": 163,
   "metadata": {},
   "outputs": [],
   "source": [
    "df=pd.get_dummies(data=df,columns=['CountryIdentifier'],dtype='int8')"
   ]
  },
  {
   "cell_type": "code",
   "execution_count": 164,
   "metadata": {},
   "outputs": [
    {
     "data": {
      "text/plain": [
       "47"
      ]
     },
     "execution_count": 164,
     "metadata": {},
     "output_type": "execute_result"
    }
   ],
   "source": [
    "df.OrganizationIdentifier.nunique()"
   ]
  },
  {
   "cell_type": "code",
   "execution_count": 165,
   "metadata": {},
   "outputs": [],
   "source": [
    "df=pd.get_dummies(data=df,columns=['OrganizationIdentifier'],dtype='int8')"
   ]
  },
  {
   "cell_type": "code",
   "execution_count": 166,
   "metadata": {},
   "outputs": [],
   "source": [
    "import gc"
   ]
  },
  {
   "cell_type": "code",
   "execution_count": 167,
   "metadata": {},
   "outputs": [
    {
     "data": {
      "text/plain": [
       "137"
      ]
     },
     "execution_count": 167,
     "metadata": {},
     "output_type": "execute_result"
    }
   ],
   "source": [
    "gc.collect()"
   ]
  },
  {
   "cell_type": "code",
   "execution_count": 168,
   "metadata": {},
   "outputs": [],
   "source": [
    "temp1=df.OsVer.str.split(\".\",expand=True)"
   ]
  },
  {
   "cell_type": "code",
   "execution_count": 169,
   "metadata": {},
   "outputs": [],
   "source": [
    "temp1.rename(columns={0:'OsVer_0',1:'OsVer_1',2:'OsVer_2',3:'OsVer_3'},inplace=True)"
   ]
  },
  {
   "cell_type": "code",
   "execution_count": 170,
   "metadata": {},
   "outputs": [],
   "source": [
    "df=df.merge(temp1,left_index=True,right_index=True)"
   ]
  },
  {
   "cell_type": "code",
   "execution_count": 171,
   "metadata": {},
   "outputs": [
    {
     "data": {
      "text/plain": [
       "Windows.Desktop    3219311\n",
       "Windows.Server           3\n",
       "Windows                  0\n",
       "Name: Census_DeviceFamily, dtype: int64"
      ]
     },
     "execution_count": 171,
     "metadata": {},
     "output_type": "execute_result"
    }
   ],
   "source": [
    "df.Census_DeviceFamily.value_counts()"
   ]
  },
  {
   "cell_type": "code",
   "execution_count": 172,
   "metadata": {},
   "outputs": [],
   "source": [
    "df.drop(columns='Census_DeviceFamily',inplace=True)"
   ]
  },
  {
   "cell_type": "code",
   "execution_count": 173,
   "metadata": {},
   "outputs": [
    {
     "data": {
      "text/plain": [
       "Retail      3030932\n",
       "NOT_SET       96788\n",
       "Unknown       78999\n",
       "WIS            3878\n",
       "RP             3707\n",
       "WIF            3674\n",
       "Disabled       1332\n",
       "OSG               3\n",
       "Canary            1\n",
       "Name: Census_FlightRing, dtype: int64"
      ]
     },
     "execution_count": 173,
     "metadata": {},
     "output_type": "execute_result"
    }
   ],
   "source": [
    "df.Census_FlightRing.value_counts()"
   ]
  },
  {
   "cell_type": "code",
   "execution_count": 174,
   "metadata": {},
   "outputs": [],
   "source": [
    "df=pd.get_dummies(data=df,columns=['Census_FlightRing'],dtype='int8')"
   ]
  },
  {
   "cell_type": "code",
   "execution_count": 175,
   "metadata": {},
   "outputs": [
    {
     "data": {
      "text/plain": [
       "IS_GENUINE         2907475\n",
       "INVALID_LICENSE     265120\n",
       "OFFLINE              43730\n",
       "UNKNOWN               2989\n",
       "Name: Census_GenuineStateName, dtype: int64"
      ]
     },
     "execution_count": 175,
     "metadata": {},
     "output_type": "execute_result"
    }
   ],
   "source": [
    "df.Census_GenuineStateName.value_counts()"
   ]
  },
  {
   "cell_type": "code",
   "execution_count": null,
   "metadata": {},
   "outputs": [],
   "source": []
  },
  {
   "cell_type": "code",
   "execution_count": 176,
   "metadata": {},
   "outputs": [
    {
     "data": {
      "text/plain": [
       "Index(['AVProductStatesIdentifier'], dtype='object')"
      ]
     },
     "execution_count": 176,
     "metadata": {},
     "output_type": "execute_result"
    }
   ],
   "source": [
    "df.select_dtypes(include='int64').columns"
   ]
  },
  {
   "cell_type": "code",
   "execution_count": 177,
   "metadata": {},
   "outputs": [],
   "source": [
    "df['AVProductStatesIdentifier']=df.AVProductStatesIdentifier.astype('int8')"
   ]
  },
  {
   "cell_type": "code",
   "execution_count": 178,
   "metadata": {},
   "outputs": [
    {
     "data": {
      "text/plain": [
       "Index([], dtype='object')"
      ]
     },
     "execution_count": 178,
     "metadata": {},
     "output_type": "execute_result"
    }
   ],
   "source": [
    "df.select_dtypes(include='int64').columns"
   ]
  },
  {
   "cell_type": "code",
   "execution_count": null,
   "metadata": {},
   "outputs": [],
   "source": []
  },
  {
   "cell_type": "code",
   "execution_count": 179,
   "metadata": {},
   "outputs": [
    {
     "name": "stdout",
     "output_type": "stream",
     "text": [
      "Wall time: 10.9 s\n"
     ]
    }
   ],
   "source": [
    "%%time\n",
    "for col in df.select_dtypes(include='object').columns:\n",
    "    df[col]=df[col].astype('int32')"
   ]
  },
  {
   "cell_type": "code",
   "execution_count": 180,
   "metadata": {},
   "outputs": [
    {
     "name": "stdout",
     "output_type": "stream",
     "text": [
      "<class 'pandas.core.frame.DataFrame'>\n",
      "Int64Index: 3219314 entries, 0 to 3999999\n",
      "Columns: 354 entries, MachineIdentifier to Census_FlightRing_Canary\n",
      "dtypes: category(20), float16(22), float32(8), int32(16), int8(288)\n",
      "memory usage: 1.6 GB\n"
     ]
    }
   ],
   "source": [
    "df.info()"
   ]
  },
  {
   "cell_type": "code",
   "execution_count": 181,
   "metadata": {},
   "outputs": [
    {
     "data": {
      "text/plain": [
       "Index(['CityIdentifier', 'UacLuaenable', 'Census_OEMModelIdentifier',\n",
       "       'Census_PrimaryDiskTotalCapacity', 'Census_SystemVolumeTotalCapacity',\n",
       "       'Census_TotalPhysicalRAM', 'Census_InternalBatteryNumberOfCharges',\n",
       "       'Census_FirmwareVersionIdentifier'],\n",
       "      dtype='object')"
      ]
     },
     "execution_count": 181,
     "metadata": {},
     "output_type": "execute_result"
    }
   ],
   "source": [
    "df.select_dtypes(include='float32').columns"
   ]
  },
  {
   "cell_type": "code",
   "execution_count": 182,
   "metadata": {},
   "outputs": [
    {
     "data": {
      "text/plain": [
       "Index(['RtpStateBitfield', 'AVProductsInstalled', 'AVProductsEnabled',\n",
       "       'GeoNameIdentifier', 'IsProtected', 'SMode', 'IeVerIdentifier',\n",
       "       'Firewall', 'Census_OEMNameIdentifier', 'Census_ProcessorCoreCount',\n",
       "       'Census_ProcessorManufacturerIdentifier',\n",
       "       'Census_ProcessorModelIdentifier',\n",
       "       'Census_InternalPrimaryDiagonalDisplaySizeInInches',\n",
       "       'Census_InternalPrimaryDisplayResolutionHorizontal',\n",
       "       'Census_InternalPrimaryDisplayResolutionVertical',\n",
       "       'Census_OSInstallLanguageIdentifier', 'Census_IsFlightsDisabled',\n",
       "       'Census_FirmwareManufacturerIdentifier', 'Census_IsVirtualDevice',\n",
       "       'Census_IsAlwaysOnAlwaysConnectedCapable', 'Wdft_IsGamer',\n",
       "       'Wdft_RegionIdentifier'],\n",
       "      dtype='object')"
      ]
     },
     "execution_count": 182,
     "metadata": {},
     "output_type": "execute_result"
    }
   ],
   "source": [
    "df.select_dtypes(include='float16').columns"
   ]
  },
  {
   "cell_type": "code",
   "execution_count": 183,
   "metadata": {},
   "outputs": [],
   "source": [
    "df['Firewall']=df.Firewall.astype('int8')"
   ]
  },
  {
   "cell_type": "code",
   "execution_count": 184,
   "metadata": {},
   "outputs": [],
   "source": [
    "df['Census_ProcessorCoreCount']=df.Census_ProcessorCoreCount.astype('int8')"
   ]
  },
  {
   "cell_type": "code",
   "execution_count": 185,
   "metadata": {},
   "outputs": [],
   "source": [
    "df['Census_ProcessorManufacturerIdentifier']=df.Census_ProcessorManufacturerIdentifier.astype('int8')"
   ]
  },
  {
   "cell_type": "code",
   "execution_count": 186,
   "metadata": {},
   "outputs": [],
   "source": [
    "df['Census_OSInstallLanguageIdentifier']=df.Census_OSInstallLanguageIdentifier.astype('int8')"
   ]
  },
  {
   "cell_type": "code",
   "execution_count": 187,
   "metadata": {},
   "outputs": [],
   "source": [
    "df['Census_IsFlightsDisabled']=df.Census_IsFlightsDisabled.astype('int8')"
   ]
  },
  {
   "cell_type": "code",
   "execution_count": 188,
   "metadata": {},
   "outputs": [],
   "source": [
    "df['Census_IsVirtualDevice']=df.Census_IsVirtualDevice.astype('int8')"
   ]
  },
  {
   "cell_type": "code",
   "execution_count": 189,
   "metadata": {},
   "outputs": [],
   "source": [
    "df['Census_IsAlwaysOnAlwaysConnectedCapable']=df.Census_IsAlwaysOnAlwaysConnectedCapable.astype('int8')"
   ]
  },
  {
   "cell_type": "code",
   "execution_count": 190,
   "metadata": {},
   "outputs": [],
   "source": [
    "df['Wdft_IsGamer']=df.Wdft_IsGamer.astype('int8')"
   ]
  },
  {
   "cell_type": "code",
   "execution_count": 191,
   "metadata": {},
   "outputs": [],
   "source": [
    "df['Wdft_RegionIdentifier']=df.Wdft_RegionIdentifier.astype('int8')"
   ]
  },
  {
   "cell_type": "code",
   "execution_count": 192,
   "metadata": {},
   "outputs": [],
   "source": [
    "df['RtpStateBitfield']=df.RtpStateBitfield.astype('int8')"
   ]
  },
  {
   "cell_type": "code",
   "execution_count": 193,
   "metadata": {},
   "outputs": [],
   "source": [
    "df['AVProductsInstalled']=df.AVProductsInstalled.astype('int8')"
   ]
  },
  {
   "cell_type": "code",
   "execution_count": 194,
   "metadata": {},
   "outputs": [],
   "source": [
    "df['AVProductsEnabled']=df.AVProductsEnabled.astype('int8')"
   ]
  },
  {
   "cell_type": "code",
   "execution_count": 195,
   "metadata": {},
   "outputs": [],
   "source": [
    "df['IsProtected']=df.IsProtected.astype('int8')"
   ]
  },
  {
   "cell_type": "code",
   "execution_count": 196,
   "metadata": {},
   "outputs": [],
   "source": [
    "df['SMode']=df.SMode.astype('int8')"
   ]
  },
  {
   "cell_type": "code",
   "execution_count": null,
   "metadata": {},
   "outputs": [],
   "source": []
  },
  {
   "cell_type": "code",
   "execution_count": null,
   "metadata": {},
   "outputs": [],
   "source": []
  },
  {
   "cell_type": "code",
   "execution_count": 197,
   "metadata": {},
   "outputs": [
    {
     "data": {
      "text/plain": [
       "1.0           3204889\n",
       "0.0             14319\n",
       "48.0               75\n",
       "2.0                12\n",
       "49.0                8\n",
       "3.0                 5\n",
       "6357062.0           4\n",
       "16777216.0          1\n",
       "5.0                 1\n",
       "Name: UacLuaenable, dtype: int64"
      ]
     },
     "execution_count": 197,
     "metadata": {},
     "output_type": "execute_result"
    }
   ],
   "source": [
    "df.UacLuaenable.value_counts()"
   ]
  },
  {
   "cell_type": "code",
   "execution_count": 198,
   "metadata": {},
   "outputs": [
    {
     "data": {
      "text/plain": [
       "Mobile               2263264\n",
       "Desktop               724256\n",
       "Slate                 182524\n",
       "Workstation            32164\n",
       "SOHOServer             12710\n",
       "UNKNOWN                 2017\n",
       "AppliancePC             1478\n",
       "EnterpriseServer         878\n",
       "PerformanceServer         23\n",
       "Unspecified                0\n",
       "Name: Census_PowerPlatformRoleName, dtype: int64"
      ]
     },
     "execution_count": 198,
     "metadata": {},
     "output_type": "execute_result"
    }
   ],
   "source": [
    "df.Census_PowerPlatformRoleName.value_counts()"
   ]
  },
  {
   "cell_type": "code",
   "execution_count": 199,
   "metadata": {},
   "outputs": [
    {
     "data": {
      "text/plain": [
       "0    3219282\n",
       "1         32\n",
       "Name: Census_IsFlightsDisabled, dtype: int64"
      ]
     },
     "execution_count": 199,
     "metadata": {},
     "output_type": "execute_result"
    }
   ],
   "source": [
    "df.Census_IsFlightsDisabled.value_counts()"
   ]
  },
  {
   "cell_type": "code",
   "execution_count": 200,
   "metadata": {},
   "outputs": [],
   "source": [
    "df.drop(columns=['Census_IsFlightsDisabled'],inplace=True)"
   ]
  },
  {
   "cell_type": "code",
   "execution_count": 201,
   "metadata": {},
   "outputs": [
    {
     "data": {
      "text/plain": [
       "0    3209504\n",
       "1       9810\n",
       "Name: Census_IsVirtualDevice, dtype: int64"
      ]
     },
     "execution_count": 201,
     "metadata": {},
     "output_type": "execute_result"
    }
   ],
   "source": [
    "df.Census_IsVirtualDevice.value_counts()"
   ]
  },
  {
   "cell_type": "code",
   "execution_count": 202,
   "metadata": {},
   "outputs": [
    {
     "data": {
      "text/plain": [
       "1    1629872\n",
       "0    1579632\n",
       "Name: HasDetections, dtype: int64"
      ]
     },
     "execution_count": 202,
     "metadata": {},
     "output_type": "execute_result"
    }
   ],
   "source": [
    "df[df.Census_IsVirtualDevice==0]['HasDetections'].value_counts()"
   ]
  },
  {
   "cell_type": "code",
   "execution_count": 203,
   "metadata": {},
   "outputs": [
    {
     "data": {
      "text/plain": [
       "0    2796535\n",
       "1     422779\n",
       "Name: Census_IsTouchEnabled, dtype: int64"
      ]
     },
     "execution_count": 203,
     "metadata": {},
     "output_type": "execute_result"
    }
   ],
   "source": [
    "df.Census_IsTouchEnabled.value_counts()"
   ]
  },
  {
   "cell_type": "code",
   "execution_count": 204,
   "metadata": {},
   "outputs": [
    {
     "data": {
      "text/plain": [
       "1    1440593\n",
       "0    1355942\n",
       "Name: HasDetections, dtype: int64"
      ]
     },
     "execution_count": 204,
     "metadata": {},
     "output_type": "execute_result"
    }
   ],
   "source": [
    "df[df.Census_IsTouchEnabled==0]['HasDetections'].value_counts()"
   ]
  },
  {
   "cell_type": "code",
   "execution_count": 205,
   "metadata": {},
   "outputs": [
    {
     "data": {
      "text/plain": [
       "1    1571739\n",
       "0    1517320\n",
       "Name: HasDetections, dtype: int64"
      ]
     },
     "execution_count": 205,
     "metadata": {},
     "output_type": "execute_result"
    }
   ],
   "source": [
    "df[df.Census_IsPenCapable==0]['HasDetections'].value_counts()"
   ]
  },
  {
   "cell_type": "code",
   "execution_count": 206,
   "metadata": {},
   "outputs": [
    {
     "data": {
      "text/plain": [
       "0    117711\n",
       "1     70802\n",
       "Name: HasDetections, dtype: int64"
      ]
     },
     "execution_count": 206,
     "metadata": {},
     "output_type": "execute_result"
    }
   ],
   "source": [
    "df[df.Census_IsAlwaysOnAlwaysConnectedCapable==1]['HasDetections'].value_counts()"
   ]
  },
  {
   "cell_type": "code",
   "execution_count": 207,
   "metadata": {},
   "outputs": [
    {
     "data": {
      "text/plain": [
       "(3219314, 353)"
      ]
     },
     "execution_count": 207,
     "metadata": {},
     "output_type": "execute_result"
    }
   ],
   "source": [
    "df.shape"
   ]
  },
  {
   "cell_type": "code",
   "execution_count": 208,
   "metadata": {},
   "outputs": [],
   "source": [
    "df=pd.get_dummies(data=df,columns=['Wdft_RegionIdentifier'],dtype='int8')"
   ]
  },
  {
   "cell_type": "code",
   "execution_count": 209,
   "metadata": {},
   "outputs": [],
   "source": [
    "df['Census_IsSecureBootEnabled']=df.Census_IsSecureBootEnabled.astype('int8')"
   ]
  },
  {
   "cell_type": "code",
   "execution_count": 210,
   "metadata": {},
   "outputs": [
    {
     "data": {
      "text/plain": [
       "<matplotlib.axes._subplots.AxesSubplot at 0x1b9d18c7668>"
      ]
     },
     "execution_count": 210,
     "metadata": {},
     "output_type": "execute_result"
    },
    {
     "data": {
      "image/png": "[encoded data removed]",
      "text/plain": [
       "<Figure size 432x288 with 1 Axes>"
      ]
     },
     "metadata": {},
     "output_type": "display_data"
    }
   ],
   "source": [
    "df[df.Firewall==0]['HasDetections'].value_counts().plot(kind='bar')"
   ]
  },
  {
   "cell_type": "code",
   "execution_count": 211,
   "metadata": {},
   "outputs": [
    {
     "data": {
      "text/plain": [
       "1    122\n",
       "0    105\n",
       "Name: HasDetections, dtype: int64"
      ]
     },
     "execution_count": 211,
     "metadata": {},
     "output_type": "execute_result"
    }
   ],
   "source": [
    "df[(df.AVProductsEnabled==0)&(df.Firewall==0)&(df.AVProductsInstalled==1)]['HasDetections'].value_counts()"
   ]
  },
  {
   "cell_type": "code",
   "execution_count": null,
   "metadata": {},
   "outputs": [],
   "source": []
  },
  {
   "cell_type": "code",
   "execution_count": 212,
   "metadata": {},
   "outputs": [],
   "source": [
    "df['AVProductsInstalled_dummy']=[1 if x==1 else 0 for x in df.AVProductsInstalled]"
   ]
  },
  {
   "cell_type": "code",
   "execution_count": 213,
   "metadata": {},
   "outputs": [
    {
     "data": {
      "text/plain": [
       "Index(['MachineIdentifier', 'Platform', 'Processor', 'OsVer',\n",
       "       'OsPlatformSubRelease', 'OsBuildLab', 'SkuEdition', 'SmartScreen',\n",
       "       'Census_MDC2FormFactor', 'Census_PrimaryDiskTypeName',\n",
       "       'Census_ChassisTypeName', 'Census_PowerPlatformRoleName',\n",
       "       'Census_OSArchitecture', 'Census_OSBranch', 'Census_OSEdition',\n",
       "       'Census_OSSkuName', 'Census_OSInstallTypeName',\n",
       "       'Census_OSWUAutoUpdateOptionsName', 'Census_GenuineStateName',\n",
       "       'Census_ActivationChannel'],\n",
       "      dtype='object')"
      ]
     },
     "execution_count": 213,
     "metadata": {},
     "output_type": "execute_result"
    }
   ],
   "source": [
    "df.select_dtypes(include='category').columns"
   ]
  },
  {
   "cell_type": "code",
   "execution_count": 214,
   "metadata": {},
   "outputs": [],
   "source": [
    "temp1=df.OsBuildLab.str.split(\".\",expand=True)"
   ]
  },
  {
   "cell_type": "code",
   "execution_count": null,
   "metadata": {},
   "outputs": [],
   "source": []
  },
  {
   "cell_type": "code",
   "execution_count": 215,
   "metadata": {},
   "outputs": [
    {
     "data": {
      "text/plain": [
       "amd64fre    2941594\n",
       "x86fre       277582\n",
       "arm64fre        138\n",
       "Name: 2, dtype: int64"
      ]
     },
     "execution_count": 215,
     "metadata": {},
     "output_type": "execute_result"
    }
   ],
   "source": [
    "#OsBuild\n",
    "temp1[2].value_counts()"
   ]
  },
  {
   "cell_type": "code",
   "execution_count": 216,
   "metadata": {},
   "outputs": [
    {
     "data": {
      "text/plain": [
       "x64      2941594\n",
       "x86       277582\n",
       "arm64        138\n",
       "Name: Processor, dtype: int64"
      ]
     },
     "execution_count": 216,
     "metadata": {},
     "output_type": "execute_result"
    }
   ],
   "source": [
    "df.Processor.value_counts()"
   ]
  },
  {
   "cell_type": "code",
   "execution_count": 217,
   "metadata": {},
   "outputs": [],
   "source": [
    "temp1.drop(columns=[2],inplace=True)"
   ]
  },
  {
   "cell_type": "code",
   "execution_count": 218,
   "metadata": {},
   "outputs": [],
   "source": [
    "temp1.rename(columns={0:'OsBuildLab_0',1:'OsBuildLab_1',3:'OsBuildLab_3',4:'OsBuildLab_4'},inplace=True)"
   ]
  },
  {
   "cell_type": "code",
   "execution_count": 219,
   "metadata": {},
   "outputs": [],
   "source": [
    "df=df.merge(temp1,left_index=True,right_index=True)"
   ]
  },
  {
   "cell_type": "code",
   "execution_count": 220,
   "metadata": {},
   "outputs": [
    {
     "data": {
      "text/html": [
       "<div>\n",
       "<style scoped>\n",
       "    .dataframe tbody tr th:only-of-type {\n",
       "        vertical-align: middle;\n",
       "    }\n",
       "\n",
       "    .dataframe tbody tr th {\n",
       "        vertical-align: top;\n",
       "    }\n",
       "\n",
       "    .dataframe thead th {\n",
       "        text-align: right;\n",
       "    }\n",
       "</style>\n",
       "<table border=\"1\" class=\"dataframe\">\n",
       "  <thead>\n",
       "    <tr style=\"text-align: right;\">\n",
       "      <th></th>\n",
       "      <th>OsBuild</th>\n",
       "    </tr>\n",
       "  </thead>\n",
       "  <tbody>\n",
       "    <tr>\n",
       "      <th>OsBuild</th>\n",
       "      <td>1.0</td>\n",
       "    </tr>\n",
       "  </tbody>\n",
       "</table>\n",
       "</div>"
      ],
      "text/plain": [
       "         OsBuild\n",
       "OsBuild      1.0"
      ]
     },
     "execution_count": 220,
     "metadata": {},
     "output_type": "execute_result"
    }
   ],
   "source": [
    "df[['OsBuildLab_0','OsBuild']].corr()"
   ]
  },
  {
   "cell_type": "code",
   "execution_count": 221,
   "metadata": {},
   "outputs": [],
   "source": [
    "df.drop(columns=['OsBuildLab_0'],inplace=True)"
   ]
  },
  {
   "cell_type": "code",
   "execution_count": 222,
   "metadata": {},
   "outputs": [
    {
     "data": {
      "text/plain": [
       "Notebook        2089858\n",
       "Desktop          684076\n",
       "Convertible      156611\n",
       "Detachable       116090\n",
       "AllInOne          99475\n",
       "PCOther           37827\n",
       "LargeTablet       23421\n",
       "SmallTablet       11379\n",
       "SmallServer         399\n",
       "MediumServer        177\n",
       "LargeServer           1\n",
       "ServerOther           0\n",
       "Name: Census_MDC2FormFactor, dtype: int64"
      ]
     },
     "execution_count": 222,
     "metadata": {},
     "output_type": "execute_result"
    }
   ],
   "source": [
    "df.Census_MDC2FormFactor.value_counts()"
   ]
  },
  {
   "cell_type": "code",
   "execution_count": 223,
   "metadata": {},
   "outputs": [
    {
     "data": {
      "text/plain": [
       "Index(['OsBuildLab_1', 'OsBuildLab_3', 'OsBuildLab_4'], dtype='object')"
      ]
     },
     "execution_count": 223,
     "metadata": {},
     "output_type": "execute_result"
    }
   ],
   "source": [
    "df.select_dtypes(include='object').columns"
   ]
  },
  {
   "cell_type": "code",
   "execution_count": 224,
   "metadata": {},
   "outputs": [
    {
     "name": "stdout",
     "output_type": "stream",
     "text": [
      "Wall time: 1.18 s\n"
     ]
    }
   ],
   "source": [
    "%%time\n",
    "for col in df.select_dtypes(include='object').columns:\n",
    "    df[col]=df[col].astype('category')"
   ]
  },
  {
   "cell_type": "code",
   "execution_count": 225,
   "metadata": {},
   "outputs": [],
   "source": [
    "df['OsBuildLab_1']=df['OsBuildLab_1'].astype('int32')"
   ]
  },
  {
   "cell_type": "code",
   "execution_count": 226,
   "metadata": {},
   "outputs": [],
   "source": [
    "categorical_cols=df.select_dtypes(include='category').columns"
   ]
  },
  {
   "cell_type": "code",
   "execution_count": 227,
   "metadata": {},
   "outputs": [],
   "source": [
    "categorical_cols=categorical_cols[1:]"
   ]
  },
  {
   "cell_type": "code",
   "execution_count": 228,
   "metadata": {},
   "outputs": [],
   "source": [
    "#temp_dict={}\n",
    "#number_of_unique={}\n",
    "#equal_col=[]\n",
    "#for col in df.columns:\n",
    "#    if col=='MachineIdentifier':\n",
    "#        continue\n",
    "#    elif col in categorical_cols:\n",
    "#        temp_dict[col]=statistics.mode(df[col])\n",
    "#        number_of_unique[col]=df[col].nunique()\n",
    "#    else:\n",
    "#        temp_dict[col]=np.nanmedian(df[col])"
   ]
  },
  {
   "cell_type": "code",
   "execution_count": 229,
   "metadata": {},
   "outputs": [
    {
     "name": "stdout",
     "output_type": "stream",
     "text": [
      "Wall time: 1min 11s\n"
     ]
    }
   ],
   "source": [
    "%%time\n",
    "le={}\n",
    "for col in categorical_cols:\n",
    "    le[col]=LabelEncoder()\n",
    "    df[col]=le[col].fit_transform(df[col])"
   ]
  },
  {
   "cell_type": "code",
   "execution_count": 230,
   "metadata": {},
   "outputs": [
    {
     "data": {
      "text/plain": [
       "(3219314, 371)"
      ]
     },
     "execution_count": 230,
     "metadata": {},
     "output_type": "execute_result"
    }
   ],
   "source": [
    "df.shape"
   ]
  },
  {
   "cell_type": "code",
   "execution_count": 231,
   "metadata": {},
   "outputs": [],
   "source": [
    "from xgboost import XGBClassifier\n",
    "from sklearn.model_selection import train_test_split\n",
    "from sklearn.metrics import accuracy_score,precision_recall_curve,precision_score,recall_score,f1_score,confusion_matrix,roc_auc_score,roc_curve"
   ]
  },
  {
   "cell_type": "code",
   "execution_count": 232,
   "metadata": {},
   "outputs": [],
   "source": [
    "l=[]\n",
    "for col in df.columns:\n",
    "    if col=='HasDetections':\n",
    "        continue\n",
    "    else:\n",
    "        l.append(col)\n",
    "l=l+list(['HasDetections'])\n",
    "\n",
    "df=df[l]"
   ]
  },
  {
   "cell_type": "code",
   "execution_count": 233,
   "metadata": {},
   "outputs": [
    {
     "data": {
      "text/plain": [
       "(3219314, 371)"
      ]
     },
     "execution_count": 233,
     "metadata": {},
     "output_type": "execute_result"
    }
   ],
   "source": [
    "df.shape"
   ]
  },
  {
   "cell_type": "code",
   "execution_count": 234,
   "metadata": {},
   "outputs": [],
   "source": [
    "X=df.iloc[:,1:-1]\n",
    "y=df.iloc[:,-1]"
   ]
  },
  {
   "cell_type": "code",
   "execution_count": 235,
   "metadata": {},
   "outputs": [],
   "source": [
    "import gc"
   ]
  },
  {
   "cell_type": "code",
   "execution_count": 238,
   "metadata": {},
   "outputs": [
    {
     "data": {
      "text/plain": [
       "0"
      ]
     },
     "execution_count": 238,
     "metadata": {},
     "output_type": "execute_result"
    }
   ],
   "source": [
    "gc.collect()"
   ]
  },
  {
   "cell_type": "code",
   "execution_count": 239,
   "metadata": {},
   "outputs": [],
   "source": [
    "X_train,X_test,y_train,y_test=train_test_split(X,y,test_size=0.2,random_state=42)"
   ]
  },
  {
   "cell_type": "code",
   "execution_count": 240,
   "metadata": {},
   "outputs": [],
   "source": [
    "#clf1=LogisticRegression(class_weight='balanced',fit_intercept=True,random_state=42,verbose=True)\n",
    "#clf1=LGBMClassifier(learning_rate=0.1,n_estimators=50,random_state=42,silent=False)"
   ]
  },
  {
   "cell_type": "code",
   "execution_count": 241,
   "metadata": {},
   "outputs": [],
   "source": [
    "clf=XGBClassifier(learning_rate=0.1,n_estimators=70,random_state=42,reg_alpha=0.2,reg_lambda=0.4,silent=False)"
   ]
  },
  {
   "cell_type": "code",
   "execution_count": 242,
   "metadata": {},
   "outputs": [
    {
     "name": "stdout",
     "output_type": "stream",
     "text": [
      "[21:58:30] C:\\Users\\Administrator\\Desktop\\xgboost\\src\\tree\\updater_prune.cc:74: tree pruning end, 1 roots, 14 extra nodes, 0 pruned nodes, max_depth=3\n",
      "[21:59:56] C:\\Users\\Administrator\\Desktop\\xgboost\\src\\tree\\updater_prune.cc:74: tree pruning end, 1 roots, 14 extra nodes, 0 pruned nodes, max_depth=3\n",
      "[22:01:16] C:\\Users\\Administrator\\Desktop\\xgboost\\src\\tree\\updater_prune.cc:74: tree pruning end, 1 roots, 14 extra nodes, 0 pruned nodes, max_depth=3\n",
      "[22:02:42] C:\\Users\\Administrator\\Desktop\\xgboost\\src\\tree\\updater_prune.cc:74: tree pruning end, 1 roots, 14 extra nodes, 0 pruned nodes, max_depth=3\n",
      "[22:04:19] C:\\Users\\Administrator\\Desktop\\xgboost\\src\\tree\\updater_prune.cc:74: tree pruning end, 1 roots, 14 extra nodes, 0 pruned nodes, max_depth=3\n",
      "[22:05:38] C:\\Users\\Administrator\\Desktop\\xgboost\\src\\tree\\updater_prune.cc:74: tree pruning end, 1 roots, 14 extra nodes, 0 pruned nodes, max_depth=3\n",
      "[22:07:16] C:\\Users\\Administrator\\Desktop\\xgboost\\src\\tree\\updater_prune.cc:74: tree pruning end, 1 roots, 14 extra nodes, 0 pruned nodes, max_depth=3\n",
      "[22:08:36] C:\\Users\\Administrator\\Desktop\\xgboost\\src\\tree\\updater_prune.cc:74: tree pruning end, 1 roots, 14 extra nodes, 0 pruned nodes, max_depth=3\n",
      "[22:10:11] C:\\Users\\Administrator\\Desktop\\xgboost\\src\\tree\\updater_prune.cc:74: tree pruning end, 1 roots, 14 extra nodes, 0 pruned nodes, max_depth=3\n",
      "[22:11:34] C:\\Users\\Administrator\\Desktop\\xgboost\\src\\tree\\updater_prune.cc:74: tree pruning end, 1 roots, 14 extra nodes, 0 pruned nodes, max_depth=3\n",
      "[22:13:05] C:\\Users\\Administrator\\Desktop\\xgboost\\src\\tree\\updater_prune.cc:74: tree pruning end, 1 roots, 14 extra nodes, 0 pruned nodes, max_depth=3\n",
      "[22:14:22] C:\\Users\\Administrator\\Desktop\\xgboost\\src\\tree\\updater_prune.cc:74: tree pruning end, 1 roots, 14 extra nodes, 0 pruned nodes, max_depth=3\n",
      "[22:15:57] C:\\Users\\Administrator\\Desktop\\xgboost\\src\\tree\\updater_prune.cc:74: tree pruning end, 1 roots, 14 extra nodes, 0 pruned nodes, max_depth=3\n",
      "[22:17:20] C:\\Users\\Administrator\\Desktop\\xgboost\\src\\tree\\updater_prune.cc:74: tree pruning end, 1 roots, 14 extra nodes, 0 pruned nodes, max_depth=3\n",
      "[22:18:43] C:\\Users\\Administrator\\Desktop\\xgboost\\src\\tree\\updater_prune.cc:74: tree pruning end, 1 roots, 14 extra nodes, 0 pruned nodes, max_depth=3\n",
      "[22:20:22] C:\\Users\\Administrator\\Desktop\\xgboost\\src\\tree\\updater_prune.cc:74: tree pruning end, 1 roots, 14 extra nodes, 0 pruned nodes, max_depth=3\n",
      "[22:21:42] C:\\Users\\Administrator\\Desktop\\xgboost\\src\\tree\\updater_prune.cc:74: tree pruning end, 1 roots, 14 extra nodes, 0 pruned nodes, max_depth=3\n",
      "[22:23:15] C:\\Users\\Administrator\\Desktop\\xgboost\\src\\tree\\updater_prune.cc:74: tree pruning end, 1 roots, 14 extra nodes, 0 pruned nodes, max_depth=3\n",
      "[22:24:36] C:\\Users\\Administrator\\Desktop\\xgboost\\src\\tree\\updater_prune.cc:74: tree pruning end, 1 roots, 14 extra nodes, 0 pruned nodes, max_depth=3\n",
      "[22:26:05] C:\\Users\\Administrator\\Desktop\\xgboost\\src\\tree\\updater_prune.cc:74: tree pruning end, 1 roots, 14 extra nodes, 0 pruned nodes, max_depth=3\n",
      "[22:27:36] C:\\Users\\Administrator\\Desktop\\xgboost\\src\\tree\\updater_prune.cc:74: tree pruning end, 1 roots, 14 extra nodes, 0 pruned nodes, max_depth=3\n",
      "[22:29:00] C:\\Users\\Administrator\\Desktop\\xgboost\\src\\tree\\updater_prune.cc:74: tree pruning end, 1 roots, 14 extra nodes, 0 pruned nodes, max_depth=3\n",
      "[22:30:33] C:\\Users\\Administrator\\Desktop\\xgboost\\src\\tree\\updater_prune.cc:74: tree pruning end, 1 roots, 14 extra nodes, 0 pruned nodes, max_depth=3\n",
      "[22:31:35] C:\\Users\\Administrator\\Desktop\\xgboost\\src\\tree\\updater_prune.cc:74: tree pruning end, 1 roots, 14 extra nodes, 0 pruned nodes, max_depth=3\n",
      "[22:32:34] C:\\Users\\Administrator\\Desktop\\xgboost\\src\\tree\\updater_prune.cc:74: tree pruning end, 1 roots, 14 extra nodes, 0 pruned nodes, max_depth=3\n",
      "[22:33:39] C:\\Users\\Administrator\\Desktop\\xgboost\\src\\tree\\updater_prune.cc:74: tree pruning end, 1 roots, 14 extra nodes, 0 pruned nodes, max_depth=3\n",
      "[22:34:33] C:\\Users\\Administrator\\Desktop\\xgboost\\src\\tree\\updater_prune.cc:74: tree pruning end, 1 roots, 14 extra nodes, 0 pruned nodes, max_depth=3\n",
      "[22:35:33] C:\\Users\\Administrator\\Desktop\\xgboost\\src\\tree\\updater_prune.cc:74: tree pruning end, 1 roots, 14 extra nodes, 0 pruned nodes, max_depth=3\n",
      "[22:36:38] C:\\Users\\Administrator\\Desktop\\xgboost\\src\\tree\\updater_prune.cc:74: tree pruning end, 1 roots, 14 extra nodes, 0 pruned nodes, max_depth=3\n",
      "[22:37:32] C:\\Users\\Administrator\\Desktop\\xgboost\\src\\tree\\updater_prune.cc:74: tree pruning end, 1 roots, 14 extra nodes, 0 pruned nodes, max_depth=3\n",
      "[22:38:25] C:\\Users\\Administrator\\Desktop\\xgboost\\src\\tree\\updater_prune.cc:74: tree pruning end, 1 roots, 14 extra nodes, 0 pruned nodes, max_depth=3\n",
      "[22:39:32] C:\\Users\\Administrator\\Desktop\\xgboost\\src\\tree\\updater_prune.cc:74: tree pruning end, 1 roots, 14 extra nodes, 0 pruned nodes, max_depth=3\n",
      "[22:40:25] C:\\Users\\Administrator\\Desktop\\xgboost\\src\\tree\\updater_prune.cc:74: tree pruning end, 1 roots, 14 extra nodes, 0 pruned nodes, max_depth=3\n",
      "[22:41:11] C:\\Users\\Administrator\\Desktop\\xgboost\\src\\tree\\updater_prune.cc:74: tree pruning end, 1 roots, 14 extra nodes, 0 pruned nodes, max_depth=3\n",
      "[22:42:12] C:\\Users\\Administrator\\Desktop\\xgboost\\src\\tree\\updater_prune.cc:74: tree pruning end, 1 roots, 14 extra nodes, 0 pruned nodes, max_depth=3\n",
      "[22:43:16] C:\\Users\\Administrator\\Desktop\\xgboost\\src\\tree\\updater_prune.cc:74: tree pruning end, 1 roots, 14 extra nodes, 0 pruned nodes, max_depth=3\n",
      "[22:44:09] C:\\Users\\Administrator\\Desktop\\xgboost\\src\\tree\\updater_prune.cc:74: tree pruning end, 1 roots, 14 extra nodes, 0 pruned nodes, max_depth=3\n",
      "[22:44:58] C:\\Users\\Administrator\\Desktop\\xgboost\\src\\tree\\updater_prune.cc:74: tree pruning end, 1 roots, 14 extra nodes, 0 pruned nodes, max_depth=3\n",
      "[22:46:03] C:\\Users\\Administrator\\Desktop\\xgboost\\src\\tree\\updater_prune.cc:74: tree pruning end, 1 roots, 14 extra nodes, 0 pruned nodes, max_depth=3\n",
      "[22:46:56] C:\\Users\\Administrator\\Desktop\\xgboost\\src\\tree\\updater_prune.cc:74: tree pruning end, 1 roots, 14 extra nodes, 0 pruned nodes, max_depth=3\n",
      "[22:47:49] C:\\Users\\Administrator\\Desktop\\xgboost\\src\\tree\\updater_prune.cc:74: tree pruning end, 1 roots, 14 extra nodes, 0 pruned nodes, max_depth=3\n",
      "[22:48:52] C:\\Users\\Administrator\\Desktop\\xgboost\\src\\tree\\updater_prune.cc:74: tree pruning end, 1 roots, 14 extra nodes, 0 pruned nodes, max_depth=3\n",
      "[22:49:44] C:\\Users\\Administrator\\Desktop\\xgboost\\src\\tree\\updater_prune.cc:74: tree pruning end, 1 roots, 14 extra nodes, 0 pruned nodes, max_depth=3\n",
      "[22:50:43] C:\\Users\\Administrator\\Desktop\\xgboost\\src\\tree\\updater_prune.cc:74: tree pruning end, 1 roots, 14 extra nodes, 0 pruned nodes, max_depth=3\n",
      "[22:51:42] C:\\Users\\Administrator\\Desktop\\xgboost\\src\\tree\\updater_prune.cc:74: tree pruning end, 1 roots, 14 extra nodes, 0 pruned nodes, max_depth=3\n",
      "[22:52:37] C:\\Users\\Administrator\\Desktop\\xgboost\\src\\tree\\updater_prune.cc:74: tree pruning end, 1 roots, 14 extra nodes, 0 pruned nodes, max_depth=3\n",
      "[22:53:36] C:\\Users\\Administrator\\Desktop\\xgboost\\src\\tree\\updater_prune.cc:74: tree pruning end, 1 roots, 14 extra nodes, 0 pruned nodes, max_depth=3\n",
      "[22:54:29] C:\\Users\\Administrator\\Desktop\\xgboost\\src\\tree\\updater_prune.cc:74: tree pruning end, 1 roots, 14 extra nodes, 0 pruned nodes, max_depth=3\n",
      "[22:55:35] C:\\Users\\Administrator\\Desktop\\xgboost\\src\\tree\\updater_prune.cc:74: tree pruning end, 1 roots, 14 extra nodes, 0 pruned nodes, max_depth=3\n",
      "[22:56:26] C:\\Users\\Administrator\\Desktop\\xgboost\\src\\tree\\updater_prune.cc:74: tree pruning end, 1 roots, 14 extra nodes, 0 pruned nodes, max_depth=3\n",
      "[22:57:17] C:\\Users\\Administrator\\Desktop\\xgboost\\src\\tree\\updater_prune.cc:74: tree pruning end, 1 roots, 14 extra nodes, 0 pruned nodes, max_depth=3\n",
      "[22:58:21] C:\\Users\\Administrator\\Desktop\\xgboost\\src\\tree\\updater_prune.cc:74: tree pruning end, 1 roots, 14 extra nodes, 0 pruned nodes, max_depth=3\n",
      "[22:59:11] C:\\Users\\Administrator\\Desktop\\xgboost\\src\\tree\\updater_prune.cc:74: tree pruning end, 1 roots, 14 extra nodes, 0 pruned nodes, max_depth=3\n",
      "[23:00:17] C:\\Users\\Administrator\\Desktop\\xgboost\\src\\tree\\updater_prune.cc:74: tree pruning end, 1 roots, 14 extra nodes, 0 pruned nodes, max_depth=3\n",
      "[23:01:25] C:\\Users\\Administrator\\Desktop\\xgboost\\src\\tree\\updater_prune.cc:74: tree pruning end, 1 roots, 14 extra nodes, 0 pruned nodes, max_depth=3\n"
     ]
    },
    {
     "name": "stdout",
     "output_type": "stream",
     "text": [
      "[23:02:31] C:\\Users\\Administrator\\Desktop\\xgboost\\src\\tree\\updater_prune.cc:74: tree pruning end, 1 roots, 14 extra nodes, 0 pruned nodes, max_depth=3\n",
      "[23:03:23] C:\\Users\\Administrator\\Desktop\\xgboost\\src\\tree\\updater_prune.cc:74: tree pruning end, 1 roots, 14 extra nodes, 0 pruned nodes, max_depth=3\n",
      "[23:04:23] C:\\Users\\Administrator\\Desktop\\xgboost\\src\\tree\\updater_prune.cc:74: tree pruning end, 1 roots, 14 extra nodes, 0 pruned nodes, max_depth=3\n",
      "[23:05:24] C:\\Users\\Administrator\\Desktop\\xgboost\\src\\tree\\updater_prune.cc:74: tree pruning end, 1 roots, 14 extra nodes, 0 pruned nodes, max_depth=3\n",
      "[23:06:17] C:\\Users\\Administrator\\Desktop\\xgboost\\src\\tree\\updater_prune.cc:74: tree pruning end, 1 roots, 14 extra nodes, 0 pruned nodes, max_depth=3\n",
      "[23:07:24] C:\\Users\\Administrator\\Desktop\\xgboost\\src\\tree\\updater_prune.cc:74: tree pruning end, 1 roots, 14 extra nodes, 0 pruned nodes, max_depth=3\n",
      "[23:08:18] C:\\Users\\Administrator\\Desktop\\xgboost\\src\\tree\\updater_prune.cc:74: tree pruning end, 1 roots, 14 extra nodes, 0 pruned nodes, max_depth=3\n",
      "[23:09:26] C:\\Users\\Administrator\\Desktop\\xgboost\\src\\tree\\updater_prune.cc:74: tree pruning end, 1 roots, 14 extra nodes, 0 pruned nodes, max_depth=3\n",
      "[23:10:18] C:\\Users\\Administrator\\Desktop\\xgboost\\src\\tree\\updater_prune.cc:74: tree pruning end, 1 roots, 14 extra nodes, 0 pruned nodes, max_depth=3\n",
      "[23:11:26] C:\\Users\\Administrator\\Desktop\\xgboost\\src\\tree\\updater_prune.cc:74: tree pruning end, 1 roots, 14 extra nodes, 0 pruned nodes, max_depth=3\n",
      "[23:12:14] C:\\Users\\Administrator\\Desktop\\xgboost\\src\\tree\\updater_prune.cc:74: tree pruning end, 1 roots, 14 extra nodes, 0 pruned nodes, max_depth=3\n",
      "[23:13:04] C:\\Users\\Administrator\\Desktop\\xgboost\\src\\tree\\updater_prune.cc:74: tree pruning end, 1 roots, 14 extra nodes, 0 pruned nodes, max_depth=3\n",
      "[23:14:03] C:\\Users\\Administrator\\Desktop\\xgboost\\src\\tree\\updater_prune.cc:74: tree pruning end, 1 roots, 14 extra nodes, 0 pruned nodes, max_depth=3\n",
      "[23:15:02] C:\\Users\\Administrator\\Desktop\\xgboost\\src\\tree\\updater_prune.cc:74: tree pruning end, 1 roots, 14 extra nodes, 0 pruned nodes, max_depth=3\n",
      "[23:16:05] C:\\Users\\Administrator\\Desktop\\xgboost\\src\\tree\\updater_prune.cc:74: tree pruning end, 1 roots, 14 extra nodes, 0 pruned nodes, max_depth=3\n",
      "Wall time: 1h 22min 18s\n"
     ]
    },
    {
     "data": {
      "text/plain": [
       "XGBClassifier(base_score=0.5, booster='gbtree', colsample_bylevel=1,\n",
       "       colsample_bytree=1, gamma=0, learning_rate=0.1, max_delta_step=0,\n",
       "       max_depth=3, min_child_weight=1, missing=None, n_estimators=70,\n",
       "       n_jobs=1, nthread=None, objective='binary:logistic',\n",
       "       random_state=42, reg_alpha=0.2, reg_lambda=0.4, scale_pos_weight=1,\n",
       "       seed=None, silent=False, subsample=1)"
      ]
     },
     "execution_count": 242,
     "metadata": {},
     "output_type": "execute_result"
    }
   ],
   "source": [
    "%%time\n",
    "clf.fit(X_train,y_train)"
   ]
  },
  {
   "cell_type": "code",
   "execution_count": null,
   "metadata": {},
   "outputs": [],
   "source": []
  },
  {
   "cell_type": "code",
   "execution_count": 243,
   "metadata": {},
   "outputs": [],
   "source": [
    "#vc=VotingClassifier(estimators=[('gnb',clf2),('abc',clf3),('gb',clf4)],voting='soft',weights=[2,6,2])"
   ]
  },
  {
   "cell_type": "code",
   "execution_count": 244,
   "metadata": {},
   "outputs": [
    {
     "name": "stderr",
     "output_type": "stream",
     "text": [
      "C:\\Users\\gandh\\Anaconda3\\lib\\site-packages\\sklearn\\preprocessing\\label.py:151: DeprecationWarning: The truth value of an empty array is ambiguous. Returning False, but in future this will result in an error. Use `array.size > 0` to check that an array is not empty.\n",
      "  if diff:\n"
     ]
    }
   ],
   "source": [
    "predictions=clf.predict(X_test)"
   ]
  },
  {
   "cell_type": "code",
   "execution_count": 245,
   "metadata": {},
   "outputs": [
    {
     "name": "stdout",
     "output_type": "stream",
     "text": [
      "Wall time: 10.5 s\n"
     ]
    }
   ],
   "source": [
    "%%time\n",
    "prediction_scores=clf.predict_proba(X_test)"
   ]
  },
  {
   "cell_type": "code",
   "execution_count": 246,
   "metadata": {},
   "outputs": [
    {
     "name": "stdout",
     "output_type": "stream",
     "text": [
      "Wall time: 535 ms\n"
     ]
    }
   ],
   "source": [
    "%%time\n",
    "scores=[]\n",
    "for score in prediction_scores:\n",
    "    scores.append(score[1])"
   ]
  },
  {
   "cell_type": "code",
   "execution_count": 247,
   "metadata": {},
   "outputs": [
    {
     "name": "stdout",
     "output_type": "stream",
     "text": [
      "Accuracy Score :  0.6347872140501939\n",
      "Precision :  0.6359306494830305\n",
      "Recall :  0.6537657801201128\n",
      "ROC AUC score :  0.6927587748203158\n",
      "Confusion Matrix : \n",
      " [[195353 122150]\n",
      " [112997 213363]]\n"
     ]
    }
   ],
   "source": [
    "print(\"Accuracy Score : \",accuracy_score(y_test,predictions))\n",
    "print(\"Precision : \",precision_score(y_test,predictions))\n",
    "print(\"Recall : \",recall_score(y_test,predictions))\n",
    "print(\"ROC AUC score : \",roc_auc_score(y_test,scores))\n",
    "print(\"Confusion Matrix : \"+\"\\n\",confusion_matrix(y_test,predictions))"
   ]
  },
  {
   "cell_type": "code",
   "execution_count": 248,
   "metadata": {},
   "outputs": [],
   "source": [
    "#from sklearn.preprocessing import PolynomialFeatures"
   ]
  },
  {
   "cell_type": "code",
   "execution_count": 249,
   "metadata": {},
   "outputs": [],
   "source": [
    "#p=PolynomialFeatures(degree=2,interaction_only=True,include_bias=False).fit(X1)"
   ]
  },
  {
   "cell_type": "code",
   "execution_count": 250,
   "metadata": {},
   "outputs": [],
   "source": [
    "#X1=pd.DataFrame(data=p.transform(X1),columns=p.get_feature_names(X1.columns))"
   ]
  },
  {
   "cell_type": "code",
   "execution_count": null,
   "metadata": {},
   "outputs": [],
   "source": []
  },
  {
   "cell_type": "code",
   "execution_count": 251,
   "metadata": {},
   "outputs": [],
   "source": [
    "import gc"
   ]
  },
  {
   "cell_type": "code",
   "execution_count": 252,
   "metadata": {},
   "outputs": [
    {
     "data": {
      "text/plain": [
       "0"
      ]
     },
     "execution_count": 252,
     "metadata": {},
     "output_type": "execute_result"
    }
   ],
   "source": [
    "gc.collect()"
   ]
  },
  {
   "cell_type": "code",
   "execution_count": 253,
   "metadata": {},
   "outputs": [
    {
     "data": {
      "text/plain": [
       "0"
      ]
     },
     "execution_count": 253,
     "metadata": {},
     "output_type": "execute_result"
    }
   ],
   "source": [
    "gc.collect()"
   ]
  },
  {
   "cell_type": "code",
   "execution_count": 254,
   "metadata": {},
   "outputs": [
    {
     "data": {
      "text/plain": [
       "58"
      ]
     },
     "execution_count": 254,
     "metadata": {},
     "output_type": "execute_result"
    }
   ],
   "source": [
    "len(clf.feature_importances_[clf.feature_importances_>0])"
   ]
  },
  {
   "cell_type": "code",
   "execution_count": 255,
   "metadata": {},
   "outputs": [],
   "source": [
    "important_columns=X.columns[np.argsort(clf.feature_importances_)[-100:]]"
   ]
  },
  {
   "cell_type": "code",
   "execution_count": 256,
   "metadata": {},
   "outputs": [],
   "source": [
    "X=X[important_columns]"
   ]
  },
  {
   "cell_type": "code",
   "execution_count": 257,
   "metadata": {},
   "outputs": [],
   "source": [
    "X_train,X_test,y_train,y_test=train_test_split(X,y,test_size=0.2,random_state=42)"
   ]
  },
  {
   "cell_type": "code",
   "execution_count": 260,
   "metadata": {},
   "outputs": [],
   "source": [
    "clf=XGBClassifier(learning_rate=0.1,n_estimators=150,random_state=42,reg_alpha=0.3,reg_lambda=0.4,silent=False,max_depth=4)"
   ]
  },
  {
   "cell_type": "code",
   "execution_count": 261,
   "metadata": {},
   "outputs": [
    {
     "name": "stdout",
     "output_type": "stream",
     "text": [
      "[23:49:26] C:\\Users\\Administrator\\Desktop\\xgboost\\src\\tree\\updater_prune.cc:74: tree pruning end, 1 roots, 30 extra nodes, 0 pruned nodes, max_depth=4\n",
      "[23:49:35] C:\\Users\\Administrator\\Desktop\\xgboost\\src\\tree\\updater_prune.cc:74: tree pruning end, 1 roots, 30 extra nodes, 0 pruned nodes, max_depth=4\n",
      "[23:49:45] C:\\Users\\Administrator\\Desktop\\xgboost\\src\\tree\\updater_prune.cc:74: tree pruning end, 1 roots, 30 extra nodes, 0 pruned nodes, max_depth=4\n",
      "[23:49:55] C:\\Users\\Administrator\\Desktop\\xgboost\\src\\tree\\updater_prune.cc:74: tree pruning end, 1 roots, 30 extra nodes, 0 pruned nodes, max_depth=4\n",
      "[23:50:05] C:\\Users\\Administrator\\Desktop\\xgboost\\src\\tree\\updater_prune.cc:74: tree pruning end, 1 roots, 30 extra nodes, 0 pruned nodes, max_depth=4\n",
      "[23:50:16] C:\\Users\\Administrator\\Desktop\\xgboost\\src\\tree\\updater_prune.cc:74: tree pruning end, 1 roots, 30 extra nodes, 0 pruned nodes, max_depth=4\n",
      "[23:50:26] C:\\Users\\Administrator\\Desktop\\xgboost\\src\\tree\\updater_prune.cc:74: tree pruning end, 1 roots, 30 extra nodes, 0 pruned nodes, max_depth=4\n",
      "[23:50:36] C:\\Users\\Administrator\\Desktop\\xgboost\\src\\tree\\updater_prune.cc:74: tree pruning end, 1 roots, 30 extra nodes, 0 pruned nodes, max_depth=4\n",
      "[23:50:46] C:\\Users\\Administrator\\Desktop\\xgboost\\src\\tree\\updater_prune.cc:74: tree pruning end, 1 roots, 30 extra nodes, 0 pruned nodes, max_depth=4\n",
      "[23:50:57] C:\\Users\\Administrator\\Desktop\\xgboost\\src\\tree\\updater_prune.cc:74: tree pruning end, 1 roots, 30 extra nodes, 0 pruned nodes, max_depth=4\n",
      "[23:51:07] C:\\Users\\Administrator\\Desktop\\xgboost\\src\\tree\\updater_prune.cc:74: tree pruning end, 1 roots, 30 extra nodes, 0 pruned nodes, max_depth=4\n",
      "[23:51:17] C:\\Users\\Administrator\\Desktop\\xgboost\\src\\tree\\updater_prune.cc:74: tree pruning end, 1 roots, 30 extra nodes, 0 pruned nodes, max_depth=4\n",
      "[23:51:28] C:\\Users\\Administrator\\Desktop\\xgboost\\src\\tree\\updater_prune.cc:74: tree pruning end, 1 roots, 30 extra nodes, 0 pruned nodes, max_depth=4\n",
      "[23:51:39] C:\\Users\\Administrator\\Desktop\\xgboost\\src\\tree\\updater_prune.cc:74: tree pruning end, 1 roots, 30 extra nodes, 0 pruned nodes, max_depth=4\n",
      "[23:51:49] C:\\Users\\Administrator\\Desktop\\xgboost\\src\\tree\\updater_prune.cc:74: tree pruning end, 1 roots, 30 extra nodes, 0 pruned nodes, max_depth=4\n",
      "[23:51:59] C:\\Users\\Administrator\\Desktop\\xgboost\\src\\tree\\updater_prune.cc:74: tree pruning end, 1 roots, 30 extra nodes, 0 pruned nodes, max_depth=4\n",
      "[23:52:09] C:\\Users\\Administrator\\Desktop\\xgboost\\src\\tree\\updater_prune.cc:74: tree pruning end, 1 roots, 30 extra nodes, 0 pruned nodes, max_depth=4\n",
      "[23:52:19] C:\\Users\\Administrator\\Desktop\\xgboost\\src\\tree\\updater_prune.cc:74: tree pruning end, 1 roots, 30 extra nodes, 0 pruned nodes, max_depth=4\n",
      "[23:52:29] C:\\Users\\Administrator\\Desktop\\xgboost\\src\\tree\\updater_prune.cc:74: tree pruning end, 1 roots, 30 extra nodes, 0 pruned nodes, max_depth=4\n",
      "[23:52:39] C:\\Users\\Administrator\\Desktop\\xgboost\\src\\tree\\updater_prune.cc:74: tree pruning end, 1 roots, 30 extra nodes, 0 pruned nodes, max_depth=4\n",
      "[23:52:50] C:\\Users\\Administrator\\Desktop\\xgboost\\src\\tree\\updater_prune.cc:74: tree pruning end, 1 roots, 30 extra nodes, 0 pruned nodes, max_depth=4\n",
      "[23:53:00] C:\\Users\\Administrator\\Desktop\\xgboost\\src\\tree\\updater_prune.cc:74: tree pruning end, 1 roots, 30 extra nodes, 0 pruned nodes, max_depth=4\n",
      "[23:53:10] C:\\Users\\Administrator\\Desktop\\xgboost\\src\\tree\\updater_prune.cc:74: tree pruning end, 1 roots, 30 extra nodes, 0 pruned nodes, max_depth=4\n",
      "[23:53:20] C:\\Users\\Administrator\\Desktop\\xgboost\\src\\tree\\updater_prune.cc:74: tree pruning end, 1 roots, 30 extra nodes, 0 pruned nodes, max_depth=4\n",
      "[23:53:30] C:\\Users\\Administrator\\Desktop\\xgboost\\src\\tree\\updater_prune.cc:74: tree pruning end, 1 roots, 30 extra nodes, 0 pruned nodes, max_depth=4\n",
      "[23:53:41] C:\\Users\\Administrator\\Desktop\\xgboost\\src\\tree\\updater_prune.cc:74: tree pruning end, 1 roots, 30 extra nodes, 0 pruned nodes, max_depth=4\n",
      "[23:53:51] C:\\Users\\Administrator\\Desktop\\xgboost\\src\\tree\\updater_prune.cc:74: tree pruning end, 1 roots, 30 extra nodes, 0 pruned nodes, max_depth=4\n",
      "[23:54:01] C:\\Users\\Administrator\\Desktop\\xgboost\\src\\tree\\updater_prune.cc:74: tree pruning end, 1 roots, 30 extra nodes, 0 pruned nodes, max_depth=4\n",
      "[23:54:11] C:\\Users\\Administrator\\Desktop\\xgboost\\src\\tree\\updater_prune.cc:74: tree pruning end, 1 roots, 30 extra nodes, 0 pruned nodes, max_depth=4\n",
      "[23:54:21] C:\\Users\\Administrator\\Desktop\\xgboost\\src\\tree\\updater_prune.cc:74: tree pruning end, 1 roots, 30 extra nodes, 0 pruned nodes, max_depth=4\n",
      "[23:54:31] C:\\Users\\Administrator\\Desktop\\xgboost\\src\\tree\\updater_prune.cc:74: tree pruning end, 1 roots, 30 extra nodes, 0 pruned nodes, max_depth=4\n",
      "[23:54:41] C:\\Users\\Administrator\\Desktop\\xgboost\\src\\tree\\updater_prune.cc:74: tree pruning end, 1 roots, 30 extra nodes, 0 pruned nodes, max_depth=4\n",
      "[23:54:52] C:\\Users\\Administrator\\Desktop\\xgboost\\src\\tree\\updater_prune.cc:74: tree pruning end, 1 roots, 30 extra nodes, 0 pruned nodes, max_depth=4\n",
      "[23:55:02] C:\\Users\\Administrator\\Desktop\\xgboost\\src\\tree\\updater_prune.cc:74: tree pruning end, 1 roots, 30 extra nodes, 0 pruned nodes, max_depth=4\n",
      "[23:55:12] C:\\Users\\Administrator\\Desktop\\xgboost\\src\\tree\\updater_prune.cc:74: tree pruning end, 1 roots, 30 extra nodes, 0 pruned nodes, max_depth=4\n",
      "[23:55:22] C:\\Users\\Administrator\\Desktop\\xgboost\\src\\tree\\updater_prune.cc:74: tree pruning end, 1 roots, 30 extra nodes, 0 pruned nodes, max_depth=4\n",
      "[23:55:32] C:\\Users\\Administrator\\Desktop\\xgboost\\src\\tree\\updater_prune.cc:74: tree pruning end, 1 roots, 30 extra nodes, 0 pruned nodes, max_depth=4\n",
      "[23:55:42] C:\\Users\\Administrator\\Desktop\\xgboost\\src\\tree\\updater_prune.cc:74: tree pruning end, 1 roots, 30 extra nodes, 0 pruned nodes, max_depth=4\n",
      "[23:55:52] C:\\Users\\Administrator\\Desktop\\xgboost\\src\\tree\\updater_prune.cc:74: tree pruning end, 1 roots, 30 extra nodes, 0 pruned nodes, max_depth=4\n",
      "[23:56:02] C:\\Users\\Administrator\\Desktop\\xgboost\\src\\tree\\updater_prune.cc:74: tree pruning end, 1 roots, 30 extra nodes, 0 pruned nodes, max_depth=4\n",
      "[23:56:13] C:\\Users\\Administrator\\Desktop\\xgboost\\src\\tree\\updater_prune.cc:74: tree pruning end, 1 roots, 30 extra nodes, 0 pruned nodes, max_depth=4\n",
      "[23:56:25] C:\\Users\\Administrator\\Desktop\\xgboost\\src\\tree\\updater_prune.cc:74: tree pruning end, 1 roots, 30 extra nodes, 0 pruned nodes, max_depth=4\n",
      "[23:56:35] C:\\Users\\Administrator\\Desktop\\xgboost\\src\\tree\\updater_prune.cc:74: tree pruning end, 1 roots, 30 extra nodes, 0 pruned nodes, max_depth=4\n",
      "[23:56:45] C:\\Users\\Administrator\\Desktop\\xgboost\\src\\tree\\updater_prune.cc:74: tree pruning end, 1 roots, 30 extra nodes, 0 pruned nodes, max_depth=4\n",
      "[23:56:55] C:\\Users\\Administrator\\Desktop\\xgboost\\src\\tree\\updater_prune.cc:74: tree pruning end, 1 roots, 30 extra nodes, 0 pruned nodes, max_depth=4\n",
      "[23:57:05] C:\\Users\\Administrator\\Desktop\\xgboost\\src\\tree\\updater_prune.cc:74: tree pruning end, 1 roots, 30 extra nodes, 0 pruned nodes, max_depth=4\n",
      "[23:57:15] C:\\Users\\Administrator\\Desktop\\xgboost\\src\\tree\\updater_prune.cc:74: tree pruning end, 1 roots, 30 extra nodes, 0 pruned nodes, max_depth=4\n",
      "[23:57:27] C:\\Users\\Administrator\\Desktop\\xgboost\\src\\tree\\updater_prune.cc:74: tree pruning end, 1 roots, 30 extra nodes, 0 pruned nodes, max_depth=4\n",
      "[23:57:37] C:\\Users\\Administrator\\Desktop\\xgboost\\src\\tree\\updater_prune.cc:74: tree pruning end, 1 roots, 30 extra nodes, 0 pruned nodes, max_depth=4\n",
      "[23:57:47] C:\\Users\\Administrator\\Desktop\\xgboost\\src\\tree\\updater_prune.cc:74: tree pruning end, 1 roots, 30 extra nodes, 0 pruned nodes, max_depth=4\n",
      "[23:57:57] C:\\Users\\Administrator\\Desktop\\xgboost\\src\\tree\\updater_prune.cc:74: tree pruning end, 1 roots, 30 extra nodes, 0 pruned nodes, max_depth=4\n",
      "[23:58:07] C:\\Users\\Administrator\\Desktop\\xgboost\\src\\tree\\updater_prune.cc:74: tree pruning end, 1 roots, 30 extra nodes, 0 pruned nodes, max_depth=4\n",
      "[23:58:17] C:\\Users\\Administrator\\Desktop\\xgboost\\src\\tree\\updater_prune.cc:74: tree pruning end, 1 roots, 28 extra nodes, 0 pruned nodes, max_depth=4\n",
      "[23:58:28] C:\\Users\\Administrator\\Desktop\\xgboost\\src\\tree\\updater_prune.cc:74: tree pruning end, 1 roots, 30 extra nodes, 0 pruned nodes, max_depth=4\n",
      "[23:58:38] C:\\Users\\Administrator\\Desktop\\xgboost\\src\\tree\\updater_prune.cc:74: tree pruning end, 1 roots, 30 extra nodes, 0 pruned nodes, max_depth=4\n"
     ]
    },
    {
     "name": "stdout",
     "output_type": "stream",
     "text": [
      "[23:58:48] C:\\Users\\Administrator\\Desktop\\xgboost\\src\\tree\\updater_prune.cc:74: tree pruning end, 1 roots, 30 extra nodes, 0 pruned nodes, max_depth=4\n",
      "[23:58:58] C:\\Users\\Administrator\\Desktop\\xgboost\\src\\tree\\updater_prune.cc:74: tree pruning end, 1 roots, 30 extra nodes, 0 pruned nodes, max_depth=4\n",
      "[23:59:08] C:\\Users\\Administrator\\Desktop\\xgboost\\src\\tree\\updater_prune.cc:74: tree pruning end, 1 roots, 30 extra nodes, 0 pruned nodes, max_depth=4\n",
      "[23:59:18] C:\\Users\\Administrator\\Desktop\\xgboost\\src\\tree\\updater_prune.cc:74: tree pruning end, 1 roots, 30 extra nodes, 0 pruned nodes, max_depth=4\n",
      "[23:59:28] C:\\Users\\Administrator\\Desktop\\xgboost\\src\\tree\\updater_prune.cc:74: tree pruning end, 1 roots, 30 extra nodes, 0 pruned nodes, max_depth=4\n",
      "[23:59:39] C:\\Users\\Administrator\\Desktop\\xgboost\\src\\tree\\updater_prune.cc:74: tree pruning end, 1 roots, 30 extra nodes, 0 pruned nodes, max_depth=4\n",
      "[23:59:49] C:\\Users\\Administrator\\Desktop\\xgboost\\src\\tree\\updater_prune.cc:74: tree pruning end, 1 roots, 30 extra nodes, 0 pruned nodes, max_depth=4\n",
      "[23:59:59] C:\\Users\\Administrator\\Desktop\\xgboost\\src\\tree\\updater_prune.cc:74: tree pruning end, 1 roots, 30 extra nodes, 0 pruned nodes, max_depth=4\n",
      "[00:00:09] C:\\Users\\Administrator\\Desktop\\xgboost\\src\\tree\\updater_prune.cc:74: tree pruning end, 1 roots, 30 extra nodes, 0 pruned nodes, max_depth=4\n",
      "[00:00:20] C:\\Users\\Administrator\\Desktop\\xgboost\\src\\tree\\updater_prune.cc:74: tree pruning end, 1 roots, 30 extra nodes, 0 pruned nodes, max_depth=4\n",
      "[00:00:30] C:\\Users\\Administrator\\Desktop\\xgboost\\src\\tree\\updater_prune.cc:74: tree pruning end, 1 roots, 30 extra nodes, 0 pruned nodes, max_depth=4\n",
      "[00:00:40] C:\\Users\\Administrator\\Desktop\\xgboost\\src\\tree\\updater_prune.cc:74: tree pruning end, 1 roots, 30 extra nodes, 0 pruned nodes, max_depth=4\n",
      "[00:00:50] C:\\Users\\Administrator\\Desktop\\xgboost\\src\\tree\\updater_prune.cc:74: tree pruning end, 1 roots, 30 extra nodes, 0 pruned nodes, max_depth=4\n",
      "[00:01:01] C:\\Users\\Administrator\\Desktop\\xgboost\\src\\tree\\updater_prune.cc:74: tree pruning end, 1 roots, 30 extra nodes, 0 pruned nodes, max_depth=4\n",
      "[00:01:11] C:\\Users\\Administrator\\Desktop\\xgboost\\src\\tree\\updater_prune.cc:74: tree pruning end, 1 roots, 30 extra nodes, 0 pruned nodes, max_depth=4\n",
      "[00:01:21] C:\\Users\\Administrator\\Desktop\\xgboost\\src\\tree\\updater_prune.cc:74: tree pruning end, 1 roots, 30 extra nodes, 0 pruned nodes, max_depth=4\n",
      "[00:01:31] C:\\Users\\Administrator\\Desktop\\xgboost\\src\\tree\\updater_prune.cc:74: tree pruning end, 1 roots, 30 extra nodes, 0 pruned nodes, max_depth=4\n",
      "[00:01:42] C:\\Users\\Administrator\\Desktop\\xgboost\\src\\tree\\updater_prune.cc:74: tree pruning end, 1 roots, 30 extra nodes, 0 pruned nodes, max_depth=4\n",
      "[00:01:52] C:\\Users\\Administrator\\Desktop\\xgboost\\src\\tree\\updater_prune.cc:74: tree pruning end, 1 roots, 30 extra nodes, 0 pruned nodes, max_depth=4\n",
      "[00:02:02] C:\\Users\\Administrator\\Desktop\\xgboost\\src\\tree\\updater_prune.cc:74: tree pruning end, 1 roots, 30 extra nodes, 0 pruned nodes, max_depth=4\n",
      "[00:02:12] C:\\Users\\Administrator\\Desktop\\xgboost\\src\\tree\\updater_prune.cc:74: tree pruning end, 1 roots, 30 extra nodes, 0 pruned nodes, max_depth=4\n",
      "[00:02:22] C:\\Users\\Administrator\\Desktop\\xgboost\\src\\tree\\updater_prune.cc:74: tree pruning end, 1 roots, 30 extra nodes, 0 pruned nodes, max_depth=4\n",
      "[00:02:32] C:\\Users\\Administrator\\Desktop\\xgboost\\src\\tree\\updater_prune.cc:74: tree pruning end, 1 roots, 30 extra nodes, 0 pruned nodes, max_depth=4\n",
      "[00:02:42] C:\\Users\\Administrator\\Desktop\\xgboost\\src\\tree\\updater_prune.cc:74: tree pruning end, 1 roots, 30 extra nodes, 0 pruned nodes, max_depth=4\n",
      "[00:02:52] C:\\Users\\Administrator\\Desktop\\xgboost\\src\\tree\\updater_prune.cc:74: tree pruning end, 1 roots, 30 extra nodes, 0 pruned nodes, max_depth=4\n",
      "[00:03:03] C:\\Users\\Administrator\\Desktop\\xgboost\\src\\tree\\updater_prune.cc:74: tree pruning end, 1 roots, 30 extra nodes, 0 pruned nodes, max_depth=4\n",
      "[00:03:13] C:\\Users\\Administrator\\Desktop\\xgboost\\src\\tree\\updater_prune.cc:74: tree pruning end, 1 roots, 30 extra nodes, 0 pruned nodes, max_depth=4\n",
      "[00:03:23] C:\\Users\\Administrator\\Desktop\\xgboost\\src\\tree\\updater_prune.cc:74: tree pruning end, 1 roots, 30 extra nodes, 0 pruned nodes, max_depth=4\n",
      "[00:03:33] C:\\Users\\Administrator\\Desktop\\xgboost\\src\\tree\\updater_prune.cc:74: tree pruning end, 1 roots, 30 extra nodes, 0 pruned nodes, max_depth=4\n",
      "[00:03:43] C:\\Users\\Administrator\\Desktop\\xgboost\\src\\tree\\updater_prune.cc:74: tree pruning end, 1 roots, 30 extra nodes, 0 pruned nodes, max_depth=4\n",
      "[00:03:53] C:\\Users\\Administrator\\Desktop\\xgboost\\src\\tree\\updater_prune.cc:74: tree pruning end, 1 roots, 30 extra nodes, 0 pruned nodes, max_depth=4\n",
      "[00:04:03] C:\\Users\\Administrator\\Desktop\\xgboost\\src\\tree\\updater_prune.cc:74: tree pruning end, 1 roots, 30 extra nodes, 0 pruned nodes, max_depth=4\n",
      "[00:04:13] C:\\Users\\Administrator\\Desktop\\xgboost\\src\\tree\\updater_prune.cc:74: tree pruning end, 1 roots, 30 extra nodes, 0 pruned nodes, max_depth=4\n",
      "[00:04:23] C:\\Users\\Administrator\\Desktop\\xgboost\\src\\tree\\updater_prune.cc:74: tree pruning end, 1 roots, 30 extra nodes, 0 pruned nodes, max_depth=4\n",
      "[00:04:34] C:\\Users\\Administrator\\Desktop\\xgboost\\src\\tree\\updater_prune.cc:74: tree pruning end, 1 roots, 30 extra nodes, 0 pruned nodes, max_depth=4\n",
      "[00:04:44] C:\\Users\\Administrator\\Desktop\\xgboost\\src\\tree\\updater_prune.cc:74: tree pruning end, 1 roots, 30 extra nodes, 0 pruned nodes, max_depth=4\n",
      "[00:04:54] C:\\Users\\Administrator\\Desktop\\xgboost\\src\\tree\\updater_prune.cc:74: tree pruning end, 1 roots, 30 extra nodes, 0 pruned nodes, max_depth=4\n",
      "[00:05:03] C:\\Users\\Administrator\\Desktop\\xgboost\\src\\tree\\updater_prune.cc:74: tree pruning end, 1 roots, 30 extra nodes, 0 pruned nodes, max_depth=4\n",
      "[00:05:15] C:\\Users\\Administrator\\Desktop\\xgboost\\src\\tree\\updater_prune.cc:74: tree pruning end, 1 roots, 28 extra nodes, 0 pruned nodes, max_depth=4\n",
      "[00:05:26] C:\\Users\\Administrator\\Desktop\\xgboost\\src\\tree\\updater_prune.cc:74: tree pruning end, 1 roots, 30 extra nodes, 0 pruned nodes, max_depth=4\n",
      "[00:05:36] C:\\Users\\Administrator\\Desktop\\xgboost\\src\\tree\\updater_prune.cc:74: tree pruning end, 1 roots, 30 extra nodes, 0 pruned nodes, max_depth=4\n",
      "[00:05:45] C:\\Users\\Administrator\\Desktop\\xgboost\\src\\tree\\updater_prune.cc:74: tree pruning end, 1 roots, 30 extra nodes, 0 pruned nodes, max_depth=4\n",
      "[00:05:55] C:\\Users\\Administrator\\Desktop\\xgboost\\src\\tree\\updater_prune.cc:74: tree pruning end, 1 roots, 30 extra nodes, 0 pruned nodes, max_depth=4\n",
      "[00:06:05] C:\\Users\\Administrator\\Desktop\\xgboost\\src\\tree\\updater_prune.cc:74: tree pruning end, 1 roots, 30 extra nodes, 0 pruned nodes, max_depth=4\n",
      "[00:06:14] C:\\Users\\Administrator\\Desktop\\xgboost\\src\\tree\\updater_prune.cc:74: tree pruning end, 1 roots, 30 extra nodes, 0 pruned nodes, max_depth=4\n",
      "[00:06:24] C:\\Users\\Administrator\\Desktop\\xgboost\\src\\tree\\updater_prune.cc:74: tree pruning end, 1 roots, 30 extra nodes, 0 pruned nodes, max_depth=4\n",
      "[00:06:34] C:\\Users\\Administrator\\Desktop\\xgboost\\src\\tree\\updater_prune.cc:74: tree pruning end, 1 roots, 30 extra nodes, 0 pruned nodes, max_depth=4\n",
      "[00:06:43] C:\\Users\\Administrator\\Desktop\\xgboost\\src\\tree\\updater_prune.cc:74: tree pruning end, 1 roots, 30 extra nodes, 0 pruned nodes, max_depth=4\n",
      "[00:06:53] C:\\Users\\Administrator\\Desktop\\xgboost\\src\\tree\\updater_prune.cc:74: tree pruning end, 1 roots, 30 extra nodes, 0 pruned nodes, max_depth=4\n",
      "[00:07:03] C:\\Users\\Administrator\\Desktop\\xgboost\\src\\tree\\updater_prune.cc:74: tree pruning end, 1 roots, 30 extra nodes, 0 pruned nodes, max_depth=4\n",
      "[00:07:13] C:\\Users\\Administrator\\Desktop\\xgboost\\src\\tree\\updater_prune.cc:74: tree pruning end, 1 roots, 30 extra nodes, 0 pruned nodes, max_depth=4\n",
      "[00:07:22] C:\\Users\\Administrator\\Desktop\\xgboost\\src\\tree\\updater_prune.cc:74: tree pruning end, 1 roots, 30 extra nodes, 0 pruned nodes, max_depth=4\n",
      "[00:07:32] C:\\Users\\Administrator\\Desktop\\xgboost\\src\\tree\\updater_prune.cc:74: tree pruning end, 1 roots, 30 extra nodes, 0 pruned nodes, max_depth=4\n",
      "[00:07:42] C:\\Users\\Administrator\\Desktop\\xgboost\\src\\tree\\updater_prune.cc:74: tree pruning end, 1 roots, 30 extra nodes, 0 pruned nodes, max_depth=4\n",
      "[00:07:52] C:\\Users\\Administrator\\Desktop\\xgboost\\src\\tree\\updater_prune.cc:74: tree pruning end, 1 roots, 30 extra nodes, 0 pruned nodes, max_depth=4\n"
     ]
    },
    {
     "name": "stdout",
     "output_type": "stream",
     "text": [
      "[00:08:01] C:\\Users\\Administrator\\Desktop\\xgboost\\src\\tree\\updater_prune.cc:74: tree pruning end, 1 roots, 30 extra nodes, 0 pruned nodes, max_depth=4\n",
      "[00:08:11] C:\\Users\\Administrator\\Desktop\\xgboost\\src\\tree\\updater_prune.cc:74: tree pruning end, 1 roots, 30 extra nodes, 0 pruned nodes, max_depth=4\n",
      "[00:08:21] C:\\Users\\Administrator\\Desktop\\xgboost\\src\\tree\\updater_prune.cc:74: tree pruning end, 1 roots, 30 extra nodes, 0 pruned nodes, max_depth=4\n",
      "[00:08:30] C:\\Users\\Administrator\\Desktop\\xgboost\\src\\tree\\updater_prune.cc:74: tree pruning end, 1 roots, 30 extra nodes, 0 pruned nodes, max_depth=4\n",
      "[00:08:40] C:\\Users\\Administrator\\Desktop\\xgboost\\src\\tree\\updater_prune.cc:74: tree pruning end, 1 roots, 30 extra nodes, 0 pruned nodes, max_depth=4\n",
      "[00:08:50] C:\\Users\\Administrator\\Desktop\\xgboost\\src\\tree\\updater_prune.cc:74: tree pruning end, 1 roots, 30 extra nodes, 0 pruned nodes, max_depth=4\n",
      "[00:09:00] C:\\Users\\Administrator\\Desktop\\xgboost\\src\\tree\\updater_prune.cc:74: tree pruning end, 1 roots, 30 extra nodes, 0 pruned nodes, max_depth=4\n",
      "[00:09:09] C:\\Users\\Administrator\\Desktop\\xgboost\\src\\tree\\updater_prune.cc:74: tree pruning end, 1 roots, 30 extra nodes, 0 pruned nodes, max_depth=4\n",
      "[00:09:19] C:\\Users\\Administrator\\Desktop\\xgboost\\src\\tree\\updater_prune.cc:74: tree pruning end, 1 roots, 30 extra nodes, 0 pruned nodes, max_depth=4\n",
      "[00:09:29] C:\\Users\\Administrator\\Desktop\\xgboost\\src\\tree\\updater_prune.cc:74: tree pruning end, 1 roots, 28 extra nodes, 0 pruned nodes, max_depth=4\n",
      "[00:09:39] C:\\Users\\Administrator\\Desktop\\xgboost\\src\\tree\\updater_prune.cc:74: tree pruning end, 1 roots, 30 extra nodes, 0 pruned nodes, max_depth=4\n",
      "[00:09:49] C:\\Users\\Administrator\\Desktop\\xgboost\\src\\tree\\updater_prune.cc:74: tree pruning end, 1 roots, 30 extra nodes, 0 pruned nodes, max_depth=4\n",
      "[00:09:59] C:\\Users\\Administrator\\Desktop\\xgboost\\src\\tree\\updater_prune.cc:74: tree pruning end, 1 roots, 30 extra nodes, 0 pruned nodes, max_depth=4\n",
      "[00:10:08] C:\\Users\\Administrator\\Desktop\\xgboost\\src\\tree\\updater_prune.cc:74: tree pruning end, 1 roots, 30 extra nodes, 0 pruned nodes, max_depth=4\n",
      "[00:10:18] C:\\Users\\Administrator\\Desktop\\xgboost\\src\\tree\\updater_prune.cc:74: tree pruning end, 1 roots, 30 extra nodes, 0 pruned nodes, max_depth=4\n",
      "[00:10:27] C:\\Users\\Administrator\\Desktop\\xgboost\\src\\tree\\updater_prune.cc:74: tree pruning end, 1 roots, 30 extra nodes, 0 pruned nodes, max_depth=4\n",
      "[00:10:37] C:\\Users\\Administrator\\Desktop\\xgboost\\src\\tree\\updater_prune.cc:74: tree pruning end, 1 roots, 30 extra nodes, 0 pruned nodes, max_depth=4\n",
      "[00:10:47] C:\\Users\\Administrator\\Desktop\\xgboost\\src\\tree\\updater_prune.cc:74: tree pruning end, 1 roots, 30 extra nodes, 0 pruned nodes, max_depth=4\n",
      "[00:10:57] C:\\Users\\Administrator\\Desktop\\xgboost\\src\\tree\\updater_prune.cc:74: tree pruning end, 1 roots, 30 extra nodes, 0 pruned nodes, max_depth=4\n",
      "[00:11:06] C:\\Users\\Administrator\\Desktop\\xgboost\\src\\tree\\updater_prune.cc:74: tree pruning end, 1 roots, 30 extra nodes, 0 pruned nodes, max_depth=4\n",
      "[00:11:16] C:\\Users\\Administrator\\Desktop\\xgboost\\src\\tree\\updater_prune.cc:74: tree pruning end, 1 roots, 30 extra nodes, 0 pruned nodes, max_depth=4\n",
      "[00:11:26] C:\\Users\\Administrator\\Desktop\\xgboost\\src\\tree\\updater_prune.cc:74: tree pruning end, 1 roots, 30 extra nodes, 0 pruned nodes, max_depth=4\n",
      "[00:11:35] C:\\Users\\Administrator\\Desktop\\xgboost\\src\\tree\\updater_prune.cc:74: tree pruning end, 1 roots, 30 extra nodes, 0 pruned nodes, max_depth=4\n",
      "[00:11:45] C:\\Users\\Administrator\\Desktop\\xgboost\\src\\tree\\updater_prune.cc:74: tree pruning end, 1 roots, 30 extra nodes, 0 pruned nodes, max_depth=4\n",
      "[00:11:55] C:\\Users\\Administrator\\Desktop\\xgboost\\src\\tree\\updater_prune.cc:74: tree pruning end, 1 roots, 30 extra nodes, 0 pruned nodes, max_depth=4\n",
      "[00:12:05] C:\\Users\\Administrator\\Desktop\\xgboost\\src\\tree\\updater_prune.cc:74: tree pruning end, 1 roots, 30 extra nodes, 0 pruned nodes, max_depth=4\n",
      "[00:12:15] C:\\Users\\Administrator\\Desktop\\xgboost\\src\\tree\\updater_prune.cc:74: tree pruning end, 1 roots, 30 extra nodes, 0 pruned nodes, max_depth=4\n",
      "[00:12:27] C:\\Users\\Administrator\\Desktop\\xgboost\\src\\tree\\updater_prune.cc:74: tree pruning end, 1 roots, 30 extra nodes, 0 pruned nodes, max_depth=4\n",
      "[00:12:38] C:\\Users\\Administrator\\Desktop\\xgboost\\src\\tree\\updater_prune.cc:74: tree pruning end, 1 roots, 30 extra nodes, 0 pruned nodes, max_depth=4\n",
      "[00:12:49] C:\\Users\\Administrator\\Desktop\\xgboost\\src\\tree\\updater_prune.cc:74: tree pruning end, 1 roots, 30 extra nodes, 0 pruned nodes, max_depth=4\n",
      "[00:13:00] C:\\Users\\Administrator\\Desktop\\xgboost\\src\\tree\\updater_prune.cc:74: tree pruning end, 1 roots, 30 extra nodes, 0 pruned nodes, max_depth=4\n",
      "[00:13:10] C:\\Users\\Administrator\\Desktop\\xgboost\\src\\tree\\updater_prune.cc:74: tree pruning end, 1 roots, 30 extra nodes, 0 pruned nodes, max_depth=4\n",
      "[00:13:21] C:\\Users\\Administrator\\Desktop\\xgboost\\src\\tree\\updater_prune.cc:74: tree pruning end, 1 roots, 30 extra nodes, 0 pruned nodes, max_depth=4\n",
      "[00:13:32] C:\\Users\\Administrator\\Desktop\\xgboost\\src\\tree\\updater_prune.cc:74: tree pruning end, 1 roots, 30 extra nodes, 0 pruned nodes, max_depth=4\n",
      "[00:13:42] C:\\Users\\Administrator\\Desktop\\xgboost\\src\\tree\\updater_prune.cc:74: tree pruning end, 1 roots, 30 extra nodes, 0 pruned nodes, max_depth=4\n",
      "[00:13:53] C:\\Users\\Administrator\\Desktop\\xgboost\\src\\tree\\updater_prune.cc:74: tree pruning end, 1 roots, 30 extra nodes, 0 pruned nodes, max_depth=4\n",
      "[00:14:03] C:\\Users\\Administrator\\Desktop\\xgboost\\src\\tree\\updater_prune.cc:74: tree pruning end, 1 roots, 30 extra nodes, 0 pruned nodes, max_depth=4\n",
      "[00:14:14] C:\\Users\\Administrator\\Desktop\\xgboost\\src\\tree\\updater_prune.cc:74: tree pruning end, 1 roots, 30 extra nodes, 0 pruned nodes, max_depth=4\n",
      "[00:14:25] C:\\Users\\Administrator\\Desktop\\xgboost\\src\\tree\\updater_prune.cc:74: tree pruning end, 1 roots, 30 extra nodes, 0 pruned nodes, max_depth=4\n",
      "[00:14:36] C:\\Users\\Administrator\\Desktop\\xgboost\\src\\tree\\updater_prune.cc:74: tree pruning end, 1 roots, 30 extra nodes, 0 pruned nodes, max_depth=4\n",
      "Wall time: 25min 35s\n"
     ]
    },
    {
     "data": {
      "text/plain": [
       "XGBClassifier(base_score=0.5, booster='gbtree', colsample_bylevel=1,\n",
       "       colsample_bytree=1, gamma=0, learning_rate=0.1, max_delta_step=0,\n",
       "       max_depth=4, min_child_weight=1, missing=None, n_estimators=150,\n",
       "       n_jobs=1, nthread=None, objective='binary:logistic',\n",
       "       random_state=42, reg_alpha=0.3, reg_lambda=0.4, scale_pos_weight=1,\n",
       "       seed=None, silent=False, subsample=1)"
      ]
     },
     "execution_count": 261,
     "metadata": {},
     "output_type": "execute_result"
    }
   ],
   "source": [
    "%%time\n",
    "clf.fit(X_train,y_train)"
   ]
  },
  {
   "cell_type": "code",
   "execution_count": 262,
   "metadata": {},
   "outputs": [
    {
     "name": "stderr",
     "output_type": "stream",
     "text": [
      "C:\\Users\\gandh\\Anaconda3\\lib\\site-packages\\sklearn\\preprocessing\\label.py:151: DeprecationWarning: The truth value of an empty array is ambiguous. Returning False, but in future this will result in an error. Use `array.size > 0` to check that an array is not empty.\n",
      "  if diff:\n"
     ]
    }
   ],
   "source": [
    "predictions=clf.predict(X_test)"
   ]
  },
  {
   "cell_type": "code",
   "execution_count": 263,
   "metadata": {},
   "outputs": [],
   "source": [
    "prediction_scores=clf.predict_proba(X_test)"
   ]
  },
  {
   "cell_type": "code",
   "execution_count": 264,
   "metadata": {},
   "outputs": [
    {
     "name": "stdout",
     "output_type": "stream",
     "text": [
      "Wall time: 279 ms\n"
     ]
    }
   ],
   "source": [
    "%%time\n",
    "scores=[]\n",
    "for score in prediction_scores:\n",
    "    scores.append(score[1])"
   ]
  },
  {
   "cell_type": "code",
   "execution_count": 265,
   "metadata": {},
   "outputs": [
    {
     "name": "stdout",
     "output_type": "stream",
     "text": [
      "Accuracy Score :  0.6454432076388921\n",
      "Precision :  0.650910008555373\n",
      "Recall :  0.6480818727785268\n",
      "ROC AUC score :  0.7061687133317458\n",
      "Confusion Matrix : \n",
      " [[204069 113434]\n",
      " [114852 211508]]\n"
     ]
    }
   ],
   "source": [
    "print(\"Accuracy Score : \",accuracy_score(y_test,predictions))\n",
    "print(\"Precision : \",precision_score(y_test,predictions))\n",
    "print(\"Recall : \",recall_score(y_test,predictions))\n",
    "print(\"ROC AUC score : \",roc_auc_score(y_test,scores))\n",
    "print(\"Confusion Matrix : \"+\"\\n\",confusion_matrix(y_test,predictions))"
   ]
  },
  {
   "cell_type": "code",
   "execution_count": 266,
   "metadata": {},
   "outputs": [
    {
     "data": {
      "image/png": "[encoded data removed]",
      "text/plain": [
       "<Figure size 432x288 with 1 Axes>"
      ]
     },
     "metadata": {},
     "output_type": "display_data"
    }
   ],
   "source": [
    "plt.plot(roc_curve(y_test,scores)[0],roc_curve(y_test,scores)[1])\n",
    "plt.title(\"ROC Curve\")\n",
    "plt.xlabel(\"FPR\")\n",
    "plt.ylabel(\"TPR\")\n",
    "plt.show()"
   ]
  },
  {
   "cell_type": "code",
   "execution_count": 267,
   "metadata": {},
   "outputs": [],
   "source": [
    "from sklearn.metrics import roc_auc_score,roc_curve"
   ]
  },
  {
   "cell_type": "code",
   "execution_count": 270,
   "metadata": {},
   "outputs": [
    {
     "data": {
      "text/plain": [
       "0"
      ]
     },
     "execution_count": 270,
     "metadata": {},
     "output_type": "execute_result"
    }
   ],
   "source": [
    "gc.collect()"
   ]
  },
  {
   "cell_type": "code",
   "execution_count": 271,
   "metadata": {},
   "outputs": [],
   "source": [
    "#Releasing memory\n",
    "del df\n",
    "gc.collect()\n",
    "df=pd.DataFrame()"
   ]
  },
  {
   "cell_type": "code",
   "execution_count": 272,
   "metadata": {},
   "outputs": [
    {
     "name": "stdout",
     "output_type": "stream",
     "text": [
      "Wall time: 2min 25s\n"
     ]
    }
   ],
   "source": [
    "%%time\n",
    "df_test=pd.read_csv(\"test.csv\",dtype={'MachineIdentifier': 'category',\n",
    " 'ProductName': 'category',\n",
    " 'EngineVersion': 'category',\n",
    " 'AppVersion': 'category',\n",
    " 'AvSigVersion': 'category',\n",
    " 'Platform': 'category',\n",
    " 'Processor': 'category',\n",
    " 'OsVer': 'category',\n",
    " 'OsPlatformSubRelease': 'category',\n",
    " 'OsBuildLab': 'category',\n",
    " 'SkuEdition': 'category',\n",
    " 'PuaMode': 'category',\n",
    " 'SmartScreen': 'category',\n",
    " 'Census_MDC2FormFactor': 'category',\n",
    " 'Census_DeviceFamily': 'category',\n",
    " 'Census_ProcessorClass': 'category',\n",
    " 'Census_PrimaryDiskTypeName': 'category',\n",
    " 'Census_ChassisTypeName': 'category',\n",
    " 'Census_PowerPlatformRoleName': 'category',\n",
    " 'Census_InternalBatteryType': 'category',\n",
    " 'Census_OSVersion': 'category',\n",
    " 'Census_OSArchitecture': 'category',\n",
    " 'Census_OSBranch': 'category',\n",
    " 'Census_OSEdition': 'category',\n",
    " 'Census_OSSkuName': 'category',\n",
    " 'Census_OSInstallTypeName': 'category',\n",
    " 'Census_OSWUAutoUpdateOptionsName': 'category',\n",
    " 'Census_GenuineStateName': 'category',\n",
    " 'Census_ActivationChannel': 'category',\n",
    " 'Census_FlightRing': 'category',\n",
    " 'RtpStateBitfield': 'float16',\n",
    " 'DefaultBrowsersIdentifier': 'float16',\n",
    " 'AVProductsInstalled': 'float16',\n",
    " 'AVProductsEnabled': 'float16',\n",
    " 'OrganizationIdentifier': 'float16',\n",
    " 'GeoNameIdentifier': 'float16',\n",
    " 'IsProtected': 'float16',\n",
    " 'SMode': 'float16',\n",
    " 'IeVerIdentifier': 'float16',\n",
    " 'Firewall': 'float16',\n",
    " 'Census_OEMNameIdentifier': 'float16',\n",
    " 'Census_ProcessorCoreCount': 'float16',\n",
    " 'Census_ProcessorManufacturerIdentifier': 'float16',\n",
    " 'Census_ProcessorModelIdentifier': 'float16',\n",
    " 'Census_InternalPrimaryDiagonalDisplaySizeInInches': 'float16',\n",
    " 'Census_InternalPrimaryDisplayResolutionHorizontal': 'float16',\n",
    " 'Census_InternalPrimaryDisplayResolutionVertical': 'float16',\n",
    " 'Census_OSInstallLanguageIdentifier': 'float16',\n",
    " 'Census_IsFlightingInternal': 'float16',\n",
    " 'Census_IsFlightsDisabled': 'float16',\n",
    " 'Census_ThresholdOptIn': 'float16',\n",
    " 'Census_FirmwareManufacturerIdentifier': 'float16',\n",
    " 'Census_IsWIMBootEnabled': 'float16',\n",
    " 'Census_IsVirtualDevice': 'float16',\n",
    " 'Census_IsAlwaysOnAlwaysConnectedCapable': 'float16',\n",
    " 'Wdft_IsGamer': 'float16',\n",
    " 'Wdft_RegionIdentifier': 'float16',\n",
    " 'AVProductStatesIdentifier': 'float32',\n",
    " 'CityIdentifier': 'float32',\n",
    " 'UacLuaenable': 'float32',\n",
    " 'Census_OEMModelIdentifier': 'float32',\n",
    " 'Census_PrimaryDiskTotalCapacity': 'float32',\n",
    " 'Census_SystemVolumeTotalCapacity': 'float32',\n",
    " 'Census_TotalPhysicalRAM': 'float32',\n",
    " 'Census_InternalBatteryNumberOfCharges': 'float32',\n",
    " 'Census_FirmwareVersionIdentifier': 'float32',\n",
    " 'IsBeta': 'int32',\n",
    " 'IsSxsPassiveMode': 'int32',\n",
    " 'HasTpm': 'int32',\n",
    " 'CountryIdentifier': 'int32',\n",
    " 'LocaleEnglishNameIdentifier': 'int32',\n",
    " 'OsBuild': 'int32',\n",
    " 'OsSuite': 'int32',\n",
    " 'AutoSampleOptIn': 'int32',\n",
    " 'Census_HasOpticalDiskDrive': 'int32',\n",
    " 'Census_OSBuildNumber': 'int32',\n",
    " 'Census_OSBuildRevision': 'int32',\n",
    " 'Census_OSUILocaleIdentifier': 'int32',\n",
    " 'Census_IsPortableOperatingSystem': 'int32',\n",
    " 'Census_IsSecureBootEnabled': 'int32',\n",
    " 'Census_IsTouchEnabled': 'int32',\n",
    " 'Census_IsPenCapable': 'int32'})"
   ]
  },
  {
   "cell_type": "code",
   "execution_count": 273,
   "metadata": {},
   "outputs": [],
   "source": [
    "solution=pd.DataFrame(data=df_test['MachineIdentifier'],columns=['MachineIdentifier'])"
   ]
  },
  {
   "cell_type": "code",
   "execution_count": 275,
   "metadata": {},
   "outputs": [
    {
     "data": {
      "text/plain": [
       "Index(['CountryIdentifier_86', 'CountryIdentifier_85', 'CountryIdentifier_84',\n",
       "       'CountryIdentifier_83', 'CountryIdentifier_82', 'CountryIdentifier_63',\n",
       "       'CountryIdentifier_62', 'CountryIdentifier_66', 'CountryIdentifier_61',\n",
       "       'CountryIdentifier_47', 'CountryIdentifier_46', 'CountryIdentifier_44',\n",
       "       'CountryIdentifier_43', 'CountryIdentifier_42', 'CountryIdentifier_41',\n",
       "       'CountryIdentifier_40', 'CountryIdentifier_39', 'CountryIdentifier_48',\n",
       "       'CountryIdentifier_38', 'CountryIdentifier_36', 'CountryIdentifier_35',\n",
       "       'CountryIdentifier_34', 'CountryIdentifier_33', 'CountryIdentifier_32',\n",
       "       'CountryIdentifier_31', 'CountryIdentifier_30', 'CountryIdentifier_29',\n",
       "       'CountryIdentifier_37', 'CountryIdentifier_49', 'CountryIdentifier_45',\n",
       "       'CountryIdentifier_58', 'CountryIdentifier_60', 'CountryIdentifier_59',\n",
       "       'CountryIdentifier_50', 'CountryIdentifier_57', 'CountryIdentifier_56',\n",
       "       'CountryIdentifier_55', 'CountryIdentifier_54', 'CountryIdentifier_53',\n",
       "       'OrganizationIdentifier_51.0', 'CountryIdentifier_52',\n",
       "       'CountryIdentifier_51', 'Census_ChassisTypeName',\n",
       "       'CountryIdentifier_214', 'Census_FlightRing_Unknown',\n",
       "       'Census_GenuineStateName', 'Census_IsAlwaysOnAlwaysConnectedCapable',\n",
       "       'Census_OEMModelIdentifier', 'OsPlatformSubRelease',\n",
       "       'Census_FirmwareVersionIdentifier', 'AVProductsEnabled', 'SMode',\n",
       "       'OsBuildLab_1', 'Wdft_RegionIdentifier_7', 'CityIdentifier',\n",
       "       'Census_IsSecureBootEnabled', 'OsSuite', 'IeVerIdentifier',\n",
       "       'IsSxsPassiveMode', 'CountryIdentifier_207', 'OsBuildLab_3',\n",
       "       'Census_SystemVolumeTotalCapacity', 'Census_PrimaryDiskTypeName',\n",
       "       'Census_InternalBatteryNumberOfCharges', 'Census_IsTouchEnabled',\n",
       "       'Census_HasOpticalDiskDrive', 'Census_OSWUAutoUpdateOptionsName',\n",
       "       'OsBuildLab_4', 'CountryIdentifier_171', 'OsBuildLab',\n",
       "       'AVProductStatesIdentifier', 'Wdft_RegionIdentifier_10',\n",
       "       'Census_OSInstallLanguageIdentifier', 'OsBuild',\n",
       "       'Census_OSBuildRevision', 'Census_ProcessorCoreCount',\n",
       "       'Census_InternalPrimaryDisplayResolutionHorizontal',\n",
       "       'Census_OSUILocaleIdentifier',\n",
       "       'Census_InternalPrimaryDisplayResolutionVertical',\n",
       "       'Wdft_RegionIdentifier_15', 'LocaleEnglishNameIdentifier', 'Processor',\n",
       "       'CountryIdentifier_89', 'Census_IsVirtualDevice',\n",
       "       'Census_ProcessorModelIdentifier', 'Census_OSInstallTypeName',\n",
       "       'IsProtected', 'EngineVersion_2', 'Census_ActivationChannel',\n",
       "       'Wdft_IsGamer', 'Census_PrimaryDiskTotalCapacity',\n",
       "       'Census_TotalPhysicalRAM', 'AppVersion_3', 'AvSigVersion_2',\n",
       "       'RtpStateBitfield', 'AppVersion_2',\n",
       "       'Census_InternalPrimaryDiagonalDisplaySizeInInches', 'AvSigVersion_1',\n",
       "       'AVProductsInstalled', 'SmartScreen'],\n",
       "      dtype='object')"
      ]
     },
     "execution_count": 275,
     "metadata": {},
     "output_type": "execute_result"
    }
   ],
   "source": [
    "X.columns"
   ]
  },
  {
   "cell_type": "code",
   "execution_count": 336,
   "metadata": {},
   "outputs": [],
   "source": [
    "#col_list=['SmartScreen','OrganizationIdentifier','CountryIdentifier','Wdft_RegionIdentifier','Census_IsAlwaysOnAlwaysConnectedCapable','Census_OEMModelIdentifier','Census_IsSecureBootEnabled','IsSxsPassiveMode','IeVerIdentifier','Census_FlightRing','SMode','Census_InternalBatteryNumberOfCharges','Census_PrimaryDiskTypeName','Census_GenuineStateName','Census_IsTouchEnabled','Census_ProcessorModelIdentifier', 'Census_OSInstallLanguageIdentifier','Census_OSInstallTypeName', 'IsProtected','Census_ProcessorCoreCount', 'Census_OSUILocaleIdentifier', 'Processor','LocaleEnglishNameIdentifier', 'Census_IsVirtualDevice','Census_OSWUAutoUpdateOptionsName','Census_SystemVolumeTotalCapacity', 'AVProductsEnabled','Census_HasOpticalDiskDrive', 'AVProductStatesIdentifier','OsPlatformSubRelease','Census_InternalPrimaryDisplayResolutionHorizontal', 'OsSuite','OsBuild', 'Census_InternalPrimaryDisplayResolutionVertical','Census_OSBuildRevision','Census_ChassisTypeName','CityIdentifier', 'Census_FirmwareVersionIdentifier', 'OsBuildLab']"
   ]
  },
  {
   "cell_type": "code",
   "execution_count": 276,
   "metadata": {},
   "outputs": [],
   "source": [
    "col_list=['OrganizationIdentifier', 'CountryIdentifier','Census_ChassisTypeName','Census_FlightRing','Census_GenuineStateName',\n",
    "'Census_IsAlwaysOnAlwaysConnectedCapable','Census_OEMModelIdentifier','OsPlatformSubRelease','Census_FirmwareVersionIdentifier',\n",
    "'AVProductsEnabled', 'SMode','OsBuildLab','Wdft_RegionIdentifier','CityIdentifier','Census_IsSecureBootEnabled','OsSuite', 'IeVerIdentifier',\n",
    "'IsSxsPassiveMode','Census_SystemVolumeTotalCapacity', 'Census_PrimaryDiskTypeName','Census_InternalBatteryNumberOfCharges', 'Census_IsTouchEnabled',\n",
    "'Census_HasOpticalDiskDrive', 'Census_OSWUAutoUpdateOptionsName','AVProductStatesIdentifier','Census_OSInstallLanguageIdentifier', 'OsBuild',\n",
    "'Census_OSBuildRevision', 'Census_ProcessorCoreCount','Census_InternalPrimaryDisplayResolutionHorizontal','Census_OSUILocaleIdentifier',\n",
    "'Census_InternalPrimaryDisplayResolutionVertical','LocaleEnglishNameIdentifier', 'Processor','Census_IsVirtualDevice','Census_ProcessorModelIdentifier', 'Census_OSInstallTypeName',\n",
    "'IsProtected','Census_ActivationChannel','Wdft_IsGamer', 'Census_PrimaryDiskTotalCapacity','Census_TotalPhysicalRAM','RtpStateBitfield',\n",
    "'Census_InternalPrimaryDiagonalDisplaySizeInInches','AVProductsInstalled','SmartScreen','EngineVersion','AppVersion','AvSigVersion']"
   ]
  },
  {
   "cell_type": "code",
   "execution_count": 277,
   "metadata": {},
   "outputs": [
    {
     "data": {
      "text/plain": [
       "49"
      ]
     },
     "execution_count": 277,
     "metadata": {},
     "output_type": "execute_result"
    }
   ],
   "source": [
    "len(col_list)"
   ]
  },
  {
   "cell_type": "code",
   "execution_count": 278,
   "metadata": {},
   "outputs": [],
   "source": [
    "f=[]\n",
    "for col in col_list:\n",
    "    if col not in X.columns:\n",
    "        f.append(col)\n",
    "    else:\n",
    "        continue"
   ]
  },
  {
   "cell_type": "code",
   "execution_count": 279,
   "metadata": {},
   "outputs": [
    {
     "data": {
      "text/plain": [
       "(7853253, 82)"
      ]
     },
     "execution_count": 279,
     "metadata": {},
     "output_type": "execute_result"
    }
   ],
   "source": [
    "df_test.shape"
   ]
  },
  {
   "cell_type": "code",
   "execution_count": 280,
   "metadata": {},
   "outputs": [
    {
     "data": {
      "text/plain": [
       "1890966598"
      ]
     },
     "execution_count": 280,
     "metadata": {},
     "output_type": "execute_result"
    }
   ],
   "source": [
    "df_test.memory_usage().sum()"
   ]
  },
  {
   "cell_type": "code",
   "execution_count": 282,
   "metadata": {},
   "outputs": [
    {
     "data": {
      "text/plain": [
       "['OrganizationIdentifier',\n",
       " 'CountryIdentifier',\n",
       " 'Census_FlightRing',\n",
       " 'Wdft_RegionIdentifier',\n",
       " 'EngineVersion',\n",
       " 'AppVersion',\n",
       " 'AvSigVersion']"
      ]
     },
     "execution_count": 282,
     "metadata": {},
     "output_type": "execute_result"
    }
   ],
   "source": [
    "f"
   ]
  },
  {
   "cell_type": "code",
   "execution_count": 283,
   "metadata": {},
   "outputs": [],
   "source": [
    "d=[]\n",
    "for col in df_test.columns:\n",
    "    if col in col_list:\n",
    "        continue\n",
    "    else:\n",
    "        d.append(col)"
   ]
  },
  {
   "cell_type": "code",
   "execution_count": 284,
   "metadata": {},
   "outputs": [],
   "source": [
    "df_test.drop(columns=d,inplace=True)"
   ]
  },
  {
   "cell_type": "code",
   "execution_count": 285,
   "metadata": {},
   "outputs": [],
   "source": [
    "null_cols=df_test.columns[df_test.isnull().any()]"
   ]
  },
  {
   "cell_type": "code",
   "execution_count": 286,
   "metadata": {},
   "outputs": [
    {
     "data": {
      "text/plain": [
       "Index(['RtpStateBitfield', 'AVProductStatesIdentifier', 'AVProductsInstalled',\n",
       "       'AVProductsEnabled', 'CityIdentifier', 'OrganizationIdentifier',\n",
       "       'OsBuildLab', 'IsProtected', 'SMode', 'IeVerIdentifier', 'SmartScreen',\n",
       "       'Census_OEMModelIdentifier', 'Census_ProcessorCoreCount',\n",
       "       'Census_ProcessorModelIdentifier', 'Census_PrimaryDiskTotalCapacity',\n",
       "       'Census_PrimaryDiskTypeName', 'Census_SystemVolumeTotalCapacity',\n",
       "       'Census_TotalPhysicalRAM', 'Census_ChassisTypeName',\n",
       "       'Census_InternalPrimaryDiagonalDisplaySizeInInches',\n",
       "       'Census_InternalPrimaryDisplayResolutionHorizontal',\n",
       "       'Census_InternalPrimaryDisplayResolutionVertical',\n",
       "       'Census_InternalBatteryNumberOfCharges',\n",
       "       'Census_OSInstallLanguageIdentifier', 'Census_GenuineStateName',\n",
       "       'Census_FirmwareVersionIdentifier', 'Census_IsVirtualDevice',\n",
       "       'Census_IsAlwaysOnAlwaysConnectedCapable', 'Wdft_IsGamer',\n",
       "       'Wdft_RegionIdentifier'],\n",
       "      dtype='object')"
      ]
     },
     "execution_count": 286,
     "metadata": {},
     "output_type": "execute_result"
    }
   ],
   "source": [
    "null_cols"
   ]
  },
  {
   "cell_type": "code",
   "execution_count": null,
   "metadata": {},
   "outputs": [],
   "source": []
  },
  {
   "cell_type": "code",
   "execution_count": 288,
   "metadata": {},
   "outputs": [],
   "source": [
    "#f=[]\n",
    "for col in null_cols:\n",
    "    #if col in X.columns:\n",
    "    df_test[col].fillna(column_value_replacements[col],inplace=True)\n",
    "    #else:\n",
    "    #    f.append(col)"
   ]
  },
  {
   "cell_type": "code",
   "execution_count": 289,
   "metadata": {},
   "outputs": [
    {
     "data": {
      "text/plain": [
       "Index([], dtype='object')"
      ]
     },
     "execution_count": 289,
     "metadata": {},
     "output_type": "execute_result"
    }
   ],
   "source": [
    "df_test.columns[df_test.isnull().any()]"
   ]
  },
  {
   "cell_type": "code",
   "execution_count": 290,
   "metadata": {},
   "outputs": [
    {
     "data": {
      "text/plain": [
       "{'AppVersion_2',\n",
       " 'AppVersion_3',\n",
       " 'AvSigVersion_1',\n",
       " 'AvSigVersion_2',\n",
       " 'Census_FlightRing_Unknown',\n",
       " 'CountryIdentifier_171',\n",
       " 'CountryIdentifier_207',\n",
       " 'CountryIdentifier_214',\n",
       " 'CountryIdentifier_29',\n",
       " 'CountryIdentifier_30',\n",
       " 'CountryIdentifier_31',\n",
       " 'CountryIdentifier_32',\n",
       " 'CountryIdentifier_33',\n",
       " 'CountryIdentifier_34',\n",
       " 'CountryIdentifier_35',\n",
       " 'CountryIdentifier_36',\n",
       " 'CountryIdentifier_37',\n",
       " 'CountryIdentifier_38',\n",
       " 'CountryIdentifier_39',\n",
       " 'CountryIdentifier_40',\n",
       " 'CountryIdentifier_41',\n",
       " 'CountryIdentifier_42',\n",
       " 'CountryIdentifier_43',\n",
       " 'CountryIdentifier_44',\n",
       " 'CountryIdentifier_45',\n",
       " 'CountryIdentifier_46',\n",
       " 'CountryIdentifier_47',\n",
       " 'CountryIdentifier_48',\n",
       " 'CountryIdentifier_49',\n",
       " 'CountryIdentifier_50',\n",
       " 'CountryIdentifier_51',\n",
       " 'CountryIdentifier_52',\n",
       " 'CountryIdentifier_53',\n",
       " 'CountryIdentifier_54',\n",
       " 'CountryIdentifier_55',\n",
       " 'CountryIdentifier_56',\n",
       " 'CountryIdentifier_57',\n",
       " 'CountryIdentifier_58',\n",
       " 'CountryIdentifier_59',\n",
       " 'CountryIdentifier_60',\n",
       " 'CountryIdentifier_61',\n",
       " 'CountryIdentifier_62',\n",
       " 'CountryIdentifier_63',\n",
       " 'CountryIdentifier_66',\n",
       " 'CountryIdentifier_82',\n",
       " 'CountryIdentifier_83',\n",
       " 'CountryIdentifier_84',\n",
       " 'CountryIdentifier_85',\n",
       " 'CountryIdentifier_86',\n",
       " 'CountryIdentifier_89',\n",
       " 'EngineVersion_2',\n",
       " 'OrganizationIdentifier_51.0',\n",
       " 'OsBuildLab_1',\n",
       " 'OsBuildLab_3',\n",
       " 'OsBuildLab_4',\n",
       " 'Wdft_RegionIdentifier_10',\n",
       " 'Wdft_RegionIdentifier_15',\n",
       " 'Wdft_RegionIdentifier_7'}"
      ]
     },
     "execution_count": 290,
     "metadata": {},
     "output_type": "execute_result"
    }
   ],
   "source": [
    "set(X.columns)-set(df_test.columns)"
   ]
  },
  {
   "cell_type": "code",
   "execution_count": 291,
   "metadata": {},
   "outputs": [],
   "source": [
    "df_test['Wdft_RegionIdentifier']=df_test['Wdft_RegionIdentifier'].astype('int32')"
   ]
  },
  {
   "cell_type": "code",
   "execution_count": 292,
   "metadata": {},
   "outputs": [],
   "source": [
    "temp1=df_test.OsBuildLab.str.split(\".\",expand=True,)"
   ]
  },
  {
   "cell_type": "code",
   "execution_count": 293,
   "metadata": {},
   "outputs": [],
   "source": [
    "temp1.drop(columns=[0,2],inplace=True)"
   ]
  },
  {
   "cell_type": "code",
   "execution_count": 294,
   "metadata": {},
   "outputs": [],
   "source": [
    "temp1.rename(columns={1:'OsBuildLab_1',3:'OsBuildLab_3',4:'OsBuildLab_4'},inplace=True)"
   ]
  },
  {
   "cell_type": "code",
   "execution_count": 295,
   "metadata": {},
   "outputs": [],
   "source": [
    "df_test=df_test.merge(temp1,left_index=True,right_index=True)"
   ]
  },
  {
   "cell_type": "code",
   "execution_count": 296,
   "metadata": {},
   "outputs": [
    {
     "data": {
      "text/plain": [
       "Index(['EngineVersion', 'AppVersion', 'AvSigVersion', 'RtpStateBitfield',\n",
       "       'IsSxsPassiveMode', 'AVProductStatesIdentifier', 'AVProductsInstalled',\n",
       "       'AVProductsEnabled', 'CountryIdentifier', 'CityIdentifier',\n",
       "       'OrganizationIdentifier', 'LocaleEnglishNameIdentifier', 'Processor',\n",
       "       'OsBuild', 'OsSuite', 'OsPlatformSubRelease', 'OsBuildLab',\n",
       "       'IsProtected', 'SMode', 'IeVerIdentifier', 'SmartScreen',\n",
       "       'Census_OEMModelIdentifier', 'Census_ProcessorCoreCount',\n",
       "       'Census_ProcessorModelIdentifier', 'Census_PrimaryDiskTotalCapacity',\n",
       "       'Census_PrimaryDiskTypeName', 'Census_SystemVolumeTotalCapacity',\n",
       "       'Census_HasOpticalDiskDrive', 'Census_TotalPhysicalRAM',\n",
       "       'Census_ChassisTypeName',\n",
       "       'Census_InternalPrimaryDiagonalDisplaySizeInInches',\n",
       "       'Census_InternalPrimaryDisplayResolutionHorizontal',\n",
       "       'Census_InternalPrimaryDisplayResolutionVertical',\n",
       "       'Census_InternalBatteryNumberOfCharges', 'Census_OSBuildRevision',\n",
       "       'Census_OSInstallTypeName', 'Census_OSInstallLanguageIdentifier',\n",
       "       'Census_OSUILocaleIdentifier', 'Census_OSWUAutoUpdateOptionsName',\n",
       "       'Census_GenuineStateName', 'Census_ActivationChannel',\n",
       "       'Census_FlightRing', 'Census_FirmwareVersionIdentifier',\n",
       "       'Census_IsSecureBootEnabled', 'Census_IsVirtualDevice',\n",
       "       'Census_IsTouchEnabled', 'Census_IsAlwaysOnAlwaysConnectedCapable',\n",
       "       'Wdft_IsGamer', 'Wdft_RegionIdentifier', 'OsBuildLab_1', 'OsBuildLab_3',\n",
       "       'OsBuildLab_4'],\n",
       "      dtype='object')"
      ]
     },
     "execution_count": 296,
     "metadata": {},
     "output_type": "execute_result"
    }
   ],
   "source": [
    "df_test.columns"
   ]
  },
  {
   "cell_type": "code",
   "execution_count": 297,
   "metadata": {},
   "outputs": [],
   "source": [
    "temp1=df_test.AppVersion.str.split(\".\",expand=True,)"
   ]
  },
  {
   "cell_type": "code",
   "execution_count": 299,
   "metadata": {},
   "outputs": [],
   "source": [
    "temp1.drop(columns=[0,1],inplace=True)"
   ]
  },
  {
   "cell_type": "code",
   "execution_count": 300,
   "metadata": {},
   "outputs": [],
   "source": [
    "temp1.rename(columns={2:'AppVersion_2',3:'AppVersion_3'},inplace=True)"
   ]
  },
  {
   "cell_type": "code",
   "execution_count": 301,
   "metadata": {},
   "outputs": [],
   "source": [
    "df_test=df_test.merge(temp1,left_index=True,right_index=True)"
   ]
  },
  {
   "cell_type": "code",
   "execution_count": 303,
   "metadata": {},
   "outputs": [],
   "source": [
    "temp1=df_test.AvSigVersion.str.split(\".\",expand=True,)"
   ]
  },
  {
   "cell_type": "code",
   "execution_count": 304,
   "metadata": {},
   "outputs": [
    {
     "data": {
      "text/html": [
       "<div>\n",
       "<style scoped>\n",
       "    .dataframe tbody tr th:only-of-type {\n",
       "        vertical-align: middle;\n",
       "    }\n",
       "\n",
       "    .dataframe tbody tr th {\n",
       "        vertical-align: top;\n",
       "    }\n",
       "\n",
       "    .dataframe thead th {\n",
       "        text-align: right;\n",
       "    }\n",
       "</style>\n",
       "<table border=\"1\" class=\"dataframe\">\n",
       "  <thead>\n",
       "    <tr style=\"text-align: right;\">\n",
       "      <th></th>\n",
       "      <th>0</th>\n",
       "      <th>1</th>\n",
       "      <th>2</th>\n",
       "      <th>3</th>\n",
       "    </tr>\n",
       "  </thead>\n",
       "  <tbody>\n",
       "    <tr>\n",
       "      <th>0</th>\n",
       "      <td>1</td>\n",
       "      <td>281</td>\n",
       "      <td>501</td>\n",
       "      <td>0</td>\n",
       "    </tr>\n",
       "    <tr>\n",
       "      <th>1</th>\n",
       "      <td>1</td>\n",
       "      <td>279</td>\n",
       "      <td>301</td>\n",
       "      <td>0</td>\n",
       "    </tr>\n",
       "    <tr>\n",
       "      <th>2</th>\n",
       "      <td>1</td>\n",
       "      <td>277</td>\n",
       "      <td>230</td>\n",
       "      <td>0</td>\n",
       "    </tr>\n",
       "    <tr>\n",
       "      <th>3</th>\n",
       "      <td>1</td>\n",
       "      <td>281</td>\n",
       "      <td>664</td>\n",
       "      <td>0</td>\n",
       "    </tr>\n",
       "    <tr>\n",
       "      <th>4</th>\n",
       "      <td>1</td>\n",
       "      <td>279</td>\n",
       "      <td>236</td>\n",
       "      <td>0</td>\n",
       "    </tr>\n",
       "  </tbody>\n",
       "</table>\n",
       "</div>"
      ],
      "text/plain": [
       "   0    1    2  3\n",
       "0  1  281  501  0\n",
       "1  1  279  301  0\n",
       "2  1  277  230  0\n",
       "3  1  281  664  0\n",
       "4  1  279  236  0"
      ]
     },
     "execution_count": 304,
     "metadata": {},
     "output_type": "execute_result"
    }
   ],
   "source": [
    "temp1.head()"
   ]
  },
  {
   "cell_type": "code",
   "execution_count": 305,
   "metadata": {},
   "outputs": [],
   "source": [
    "temp1.drop(columns=[0,3],inplace=True)"
   ]
  },
  {
   "cell_type": "code",
   "execution_count": 306,
   "metadata": {},
   "outputs": [],
   "source": [
    "temp1.rename(columns={1:'AvSigVersion_1',2:'AvSigVersion_2'},inplace=True)"
   ]
  },
  {
   "cell_type": "code",
   "execution_count": 307,
   "metadata": {},
   "outputs": [],
   "source": [
    "df_test=df_test.merge(temp1,left_index=True,right_index=True)"
   ]
  },
  {
   "cell_type": "code",
   "execution_count": 308,
   "metadata": {},
   "outputs": [],
   "source": [
    "temp1=df_test.EngineVersion.str.split(\".\",expand=True,)"
   ]
  },
  {
   "cell_type": "code",
   "execution_count": 310,
   "metadata": {},
   "outputs": [],
   "source": [
    "temp1.drop(columns=[0,1,3],inplace=True)"
   ]
  },
  {
   "cell_type": "code",
   "execution_count": 312,
   "metadata": {},
   "outputs": [],
   "source": [
    "temp1.rename(columns={2:'EngineVersion_2'},inplace=True)"
   ]
  },
  {
   "cell_type": "code",
   "execution_count": 313,
   "metadata": {},
   "outputs": [],
   "source": [
    "df_test=df_test.merge(temp1,left_index=True,right_index=True)"
   ]
  },
  {
   "cell_type": "code",
   "execution_count": 317,
   "metadata": {},
   "outputs": [
    {
     "name": "stdout",
     "output_type": "stream",
     "text": [
      "Wall time: 26.8 s\n"
     ]
    }
   ],
   "source": [
    "%%time\n",
    "df_test=pd.get_dummies(data=df_test,columns=['CountryIdentifier','OrganizationIdentifier','Wdft_RegionIdentifier','Census_FlightRing'])"
   ]
  },
  {
   "cell_type": "code",
   "execution_count": 319,
   "metadata": {},
   "outputs": [
    {
     "data": {
      "text/plain": [
       "(7853253, 351)"
      ]
     },
     "execution_count": 319,
     "metadata": {},
     "output_type": "execute_result"
    }
   ],
   "source": [
    "df_test.shape"
   ]
  },
  {
   "cell_type": "code",
   "execution_count": 320,
   "metadata": {},
   "outputs": [
    {
     "data": {
      "text/plain": [
       "set()"
      ]
     },
     "execution_count": 320,
     "metadata": {},
     "output_type": "execute_result"
    }
   ],
   "source": [
    "set(X.columns)-set(df_test.columns)"
   ]
  },
  {
   "cell_type": "code",
   "execution_count": 321,
   "metadata": {},
   "outputs": [],
   "source": [
    "d=[]\n",
    "for col in df_test.columns:\n",
    "    if col in X.columns:\n",
    "        continue\n",
    "    else:\n",
    "        d.append(col)"
   ]
  },
  {
   "cell_type": "code",
   "execution_count": null,
   "metadata": {},
   "outputs": [],
   "source": []
  },
  {
   "cell_type": "code",
   "execution_count": 323,
   "metadata": {},
   "outputs": [
    {
     "name": "stdout",
     "output_type": "stream",
     "text": [
      "Wall time: 5.38 s\n"
     ]
    }
   ],
   "source": [
    "%%time\n",
    "df_test.drop(columns=d,inplace=True)"
   ]
  },
  {
   "cell_type": "code",
   "execution_count": 325,
   "metadata": {},
   "outputs": [
    {
     "name": "stdout",
     "output_type": "stream",
     "text": [
      "Shape of Training Data :  (3219314, 100)\n",
      "Shape of test data :  (7853253, 100)\n"
     ]
    }
   ],
   "source": [
    "print(\"Shape of Training Data : \",X.shape)\n",
    "print(\"Shape of test data : \",df_test.shape)"
   ]
  },
  {
   "cell_type": "code",
   "execution_count": 326,
   "metadata": {},
   "outputs": [
    {
     "data": {
      "text/plain": [
       "Index(['Processor', 'OsPlatformSubRelease', 'OsBuildLab', 'SmartScreen',\n",
       "       'Census_PrimaryDiskTypeName', 'Census_ChassisTypeName',\n",
       "       'Census_OSInstallTypeName', 'Census_OSWUAutoUpdateOptionsName',\n",
       "       'Census_GenuineStateName', 'Census_ActivationChannel', 'OsBuildLab_1',\n",
       "       'OsBuildLab_3', 'OsBuildLab_4', 'AppVersion_2', 'AppVersion_3',\n",
       "       'AvSigVersion_1', 'AvSigVersion_2', 'EngineVersion_2'],\n",
       "      dtype='object')"
      ]
     },
     "execution_count": 326,
     "metadata": {},
     "output_type": "execute_result"
    }
   ],
   "source": [
    "df_test.select_dtypes(include=['category','object']).columns"
   ]
  },
  {
   "cell_type": "code",
   "execution_count": 327,
   "metadata": {},
   "outputs": [
    {
     "data": {
      "text/html": [
       "<div>\n",
       "<style scoped>\n",
       "    .dataframe tbody tr th:only-of-type {\n",
       "        vertical-align: middle;\n",
       "    }\n",
       "\n",
       "    .dataframe tbody tr th {\n",
       "        vertical-align: top;\n",
       "    }\n",
       "\n",
       "    .dataframe thead th {\n",
       "        text-align: right;\n",
       "    }\n",
       "</style>\n",
       "<table border=\"1\" class=\"dataframe\">\n",
       "  <thead>\n",
       "    <tr style=\"text-align: right;\">\n",
       "      <th></th>\n",
       "      <th>RtpStateBitfield</th>\n",
       "      <th>IsSxsPassiveMode</th>\n",
       "      <th>AVProductStatesIdentifier</th>\n",
       "      <th>AVProductsInstalled</th>\n",
       "      <th>AVProductsEnabled</th>\n",
       "      <th>CityIdentifier</th>\n",
       "      <th>LocaleEnglishNameIdentifier</th>\n",
       "      <th>Processor</th>\n",
       "      <th>OsBuild</th>\n",
       "      <th>OsSuite</th>\n",
       "      <th>...</th>\n",
       "      <th>CountryIdentifier_86</th>\n",
       "      <th>CountryIdentifier_89</th>\n",
       "      <th>CountryIdentifier_171</th>\n",
       "      <th>CountryIdentifier_207</th>\n",
       "      <th>CountryIdentifier_214</th>\n",
       "      <th>OrganizationIdentifier_51.0</th>\n",
       "      <th>Wdft_RegionIdentifier_7</th>\n",
       "      <th>Wdft_RegionIdentifier_10</th>\n",
       "      <th>Wdft_RegionIdentifier_15</th>\n",
       "      <th>Census_FlightRing_Unknown</th>\n",
       "    </tr>\n",
       "  </thead>\n",
       "  <tbody>\n",
       "    <tr>\n",
       "      <th>6529507</th>\n",
       "      <td>7.0</td>\n",
       "      <td>0</td>\n",
       "      <td>53447.0</td>\n",
       "      <td>1.0</td>\n",
       "      <td>1.0</td>\n",
       "      <td>937.0</td>\n",
       "      <td>58</td>\n",
       "      <td>x64</td>\n",
       "      <td>17134</td>\n",
       "      <td>256</td>\n",
       "      <td>...</td>\n",
       "      <td>0</td>\n",
       "      <td>0</td>\n",
       "      <td>0</td>\n",
       "      <td>0</td>\n",
       "      <td>0</td>\n",
       "      <td>0</td>\n",
       "      <td>0</td>\n",
       "      <td>0</td>\n",
       "      <td>0</td>\n",
       "      <td>0</td>\n",
       "    </tr>\n",
       "  </tbody>\n",
       "</table>\n",
       "<p>1 rows × 100 columns</p>\n",
       "</div>"
      ],
      "text/plain": [
       "         RtpStateBitfield  IsSxsPassiveMode  AVProductStatesIdentifier  \\\n",
       "6529507               7.0                 0                    53447.0   \n",
       "\n",
       "         AVProductsInstalled  AVProductsEnabled  CityIdentifier  \\\n",
       "6529507                  1.0                1.0           937.0   \n",
       "\n",
       "         LocaleEnglishNameIdentifier Processor  OsBuild  OsSuite  \\\n",
       "6529507                           58       x64    17134      256   \n",
       "\n",
       "                   ...             CountryIdentifier_86 CountryIdentifier_89  \\\n",
       "6529507            ...                                0                    0   \n",
       "\n",
       "         CountryIdentifier_171  CountryIdentifier_207  CountryIdentifier_214  \\\n",
       "6529507                      0                      0                      0   \n",
       "\n",
       "        OrganizationIdentifier_51.0  Wdft_RegionIdentifier_7  \\\n",
       "6529507                           0                        0   \n",
       "\n",
       "         Wdft_RegionIdentifier_10  Wdft_RegionIdentifier_15  \\\n",
       "6529507                         0                         0   \n",
       "\n",
       "         Census_FlightRing_Unknown  \n",
       "6529507                          0  \n",
       "\n",
       "[1 rows x 100 columns]"
      ]
     },
     "execution_count": 327,
     "metadata": {},
     "output_type": "execute_result"
    }
   ],
   "source": [
    "df_test[df_test['OsBuildLab_1']=='1*amd64fre']"
   ]
  },
  {
   "cell_type": "code",
   "execution_count": 328,
   "metadata": {},
   "outputs": [
    {
     "data": {
      "text/plain": [
       "OsBuildLab_4                                         1\n",
       "Census_FlightRing_Unknown                            0\n",
       "Census_FirmwareVersionIdentifier                     0\n",
       "Census_InternalPrimaryDisplayResolutionHorizontal    0\n",
       "Census_InternalPrimaryDisplayResolutionVertical      0\n",
       "Census_InternalBatteryNumberOfCharges                0\n",
       "Census_OSBuildRevision                               0\n",
       "Census_OSInstallTypeName                             0\n",
       "Census_OSInstallLanguageIdentifier                   0\n",
       "Census_OSUILocaleIdentifier                          0\n",
       "Census_OSWUAutoUpdateOptionsName                     0\n",
       "Census_GenuineStateName                              0\n",
       "Census_ActivationChannel                             0\n",
       "Census_IsSecureBootEnabled                           0\n",
       "Wdft_RegionIdentifier_15                             0\n",
       "Census_IsVirtualDevice                               0\n",
       "Census_IsTouchEnabled                                0\n",
       "Census_IsAlwaysOnAlwaysConnectedCapable              0\n",
       "Wdft_IsGamer                                         0\n",
       "OsBuildLab_1                                         0\n",
       "OsBuildLab_3                                         0\n",
       "AppVersion_2                                         0\n",
       "AppVersion_3                                         0\n",
       "AvSigVersion_1                                       0\n",
       "Census_InternalPrimaryDiagonalDisplaySizeInInches    0\n",
       "Census_ChassisTypeName                               0\n",
       "Census_TotalPhysicalRAM                              0\n",
       "Census_HasOpticalDiskDrive                           0\n",
       "IsSxsPassiveMode                                     0\n",
       "AVProductStatesIdentifier                            0\n",
       "                                                    ..\n",
       "CountryIdentifier_214                                0\n",
       "OrganizationIdentifier_51.0                          0\n",
       "Wdft_RegionIdentifier_7                              0\n",
       "Wdft_RegionIdentifier_10                             0\n",
       "CountryIdentifier_55                                 0\n",
       "CountryIdentifier_53                                 0\n",
       "CountryIdentifier_30                                 0\n",
       "CountryIdentifier_52                                 0\n",
       "CountryIdentifier_31                                 0\n",
       "CountryIdentifier_32                                 0\n",
       "CountryIdentifier_33                                 0\n",
       "CountryIdentifier_34                                 0\n",
       "CountryIdentifier_35                                 0\n",
       "CountryIdentifier_36                                 0\n",
       "CountryIdentifier_37                                 0\n",
       "CountryIdentifier_38                                 0\n",
       "CountryIdentifier_39                                 0\n",
       "CountryIdentifier_40                                 0\n",
       "CountryIdentifier_41                                 0\n",
       "CountryIdentifier_42                                 0\n",
       "CountryIdentifier_43                                 0\n",
       "CountryIdentifier_44                                 0\n",
       "CountryIdentifier_45                                 0\n",
       "CountryIdentifier_46                                 0\n",
       "CountryIdentifier_47                                 0\n",
       "CountryIdentifier_48                                 0\n",
       "CountryIdentifier_49                                 0\n",
       "CountryIdentifier_50                                 0\n",
       "CountryIdentifier_51                                 0\n",
       "RtpStateBitfield                                     0\n",
       "Length: 100, dtype: int64"
      ]
     },
     "execution_count": 328,
     "metadata": {},
     "output_type": "execute_result"
    }
   ],
   "source": [
    "df_test.isnull().sum().sort_values(ascending=False)"
   ]
  },
  {
   "cell_type": "code",
   "execution_count": 329,
   "metadata": {},
   "outputs": [
    {
     "name": "stdout",
     "output_type": "stream",
     "text": [
      "Wall time: 2min 10s\n"
     ]
    }
   ],
   "source": [
    "%%time\n",
    "for i in range(0,len(df_test)):\n",
    "    if df_test.loc[i,'OsBuildLab_1']=='1*amd64fre':\n",
    "        df_test.loc[i,'OsBuildLab_1']=1\n",
    "        break\n",
    "    else:\n",
    "        continue"
   ]
  },
  {
   "cell_type": "code",
   "execution_count": 330,
   "metadata": {},
   "outputs": [],
   "source": [
    "df_test['OsBuildLab_1']=df_test['OsBuildLab_1'].astype('int32')"
   ]
  },
  {
   "cell_type": "code",
   "execution_count": 331,
   "metadata": {},
   "outputs": [
    {
     "name": "stderr",
     "output_type": "stream",
     "text": [
      "C:\\Users\\gandh\\Anaconda3\\lib\\site-packages\\sklearn\\preprocessing\\label.py:151: DeprecationWarning: The truth value of an empty array is ambiguous. Returning False, but in future this will result in an error. Use `array.size > 0` to check that an array is not empty.\n",
      "  if diff:\n"
     ]
    }
   ],
   "source": [
    "df_test.OsBuildLab_4.fillna(le['OsBuildLab_4'].inverse_transform(statistics.mode(X['OsBuildLab_4'])),inplace=True)"
   ]
  },
  {
   "cell_type": "code",
   "execution_count": 342,
   "metadata": {},
   "outputs": [
    {
     "name": "stdout",
     "output_type": "stream",
     "text": [
      "Wall time: 5.21 s\n"
     ]
    }
   ],
   "source": [
    "%%time\n",
    "for col in df_test.select_dtypes(include=['category','object']).columns:\n",
    "    if col in le.keys():\n",
    "        continue\n",
    "    else:\n",
    "        df_test[col]=df_test[col].astype('int32')"
   ]
  },
  {
   "cell_type": "code",
   "execution_count": 345,
   "metadata": {},
   "outputs": [
    {
     "data": {
      "text/plain": [
       "Index(['Processor', 'OsPlatformSubRelease', 'OsBuildLab', 'SmartScreen',\n",
       "       'Census_PrimaryDiskTypeName', 'Census_ChassisTypeName',\n",
       "       'Census_OSInstallTypeName', 'Census_OSWUAutoUpdateOptionsName',\n",
       "       'Census_GenuineStateName', 'Census_ActivationChannel', 'OsBuildLab_3',\n",
       "       'OsBuildLab_4'],\n",
       "      dtype='object')"
      ]
     },
     "execution_count": 345,
     "metadata": {},
     "output_type": "execute_result"
    }
   ],
   "source": [
    "df_test.select_dtypes(include=['category','object']).columns"
   ]
  },
  {
   "cell_type": "code",
   "execution_count": 346,
   "metadata": {},
   "outputs": [],
   "source": [
    "for col in df_test.select_dtypes(include=['category','object']).columns:\n",
    "    if col in le.keys():\n",
    "        try:\n",
    "            df_test[col]=le[col].fit_transform(df_test[col])\n",
    "        except:\n",
    "            print(\"Exception : \",col)\n",
    "    else:\n",
    "        print(col)"
   ]
  },
  {
   "cell_type": "code",
   "execution_count": 347,
   "metadata": {},
   "outputs": [
    {
     "data": {
      "text/plain": [
       "0    163\n",
       "1    270\n",
       "Name: OsBuildLab_4, dtype: int64"
      ]
     },
     "execution_count": 347,
     "metadata": {},
     "output_type": "execute_result"
    }
   ],
   "source": [
    "df_test['OsBuildLab_4'].head(2)"
   ]
  },
  {
   "cell_type": "code",
   "execution_count": null,
   "metadata": {},
   "outputs": [],
   "source": []
  },
  {
   "cell_type": "code",
   "execution_count": 352,
   "metadata": {},
   "outputs": [],
   "source": [
    "#df_test['OsBuildLab_4']=le['OsBuildLab_4'].fit_transform(df_test['OsBuildLab_4'])"
   ]
  },
  {
   "cell_type": "code",
   "execution_count": 354,
   "metadata": {},
   "outputs": [
    {
     "data": {
      "text/html": [
       "<div>\n",
       "<style scoped>\n",
       "    .dataframe tbody tr th:only-of-type {\n",
       "        vertical-align: middle;\n",
       "    }\n",
       "\n",
       "    .dataframe tbody tr th {\n",
       "        vertical-align: top;\n",
       "    }\n",
       "\n",
       "    .dataframe thead th {\n",
       "        text-align: right;\n",
       "    }\n",
       "</style>\n",
       "<table border=\"1\" class=\"dataframe\">\n",
       "  <thead>\n",
       "    <tr style=\"text-align: right;\">\n",
       "      <th></th>\n",
       "      <th>CountryIdentifier_86</th>\n",
       "      <th>CountryIdentifier_85</th>\n",
       "      <th>CountryIdentifier_84</th>\n",
       "      <th>CountryIdentifier_83</th>\n",
       "      <th>CountryIdentifier_82</th>\n",
       "      <th>CountryIdentifier_63</th>\n",
       "      <th>CountryIdentifier_62</th>\n",
       "      <th>CountryIdentifier_66</th>\n",
       "      <th>CountryIdentifier_61</th>\n",
       "      <th>CountryIdentifier_47</th>\n",
       "      <th>...</th>\n",
       "      <th>Census_PrimaryDiskTotalCapacity</th>\n",
       "      <th>Census_TotalPhysicalRAM</th>\n",
       "      <th>AppVersion_3</th>\n",
       "      <th>AvSigVersion_2</th>\n",
       "      <th>RtpStateBitfield</th>\n",
       "      <th>AppVersion_2</th>\n",
       "      <th>Census_InternalPrimaryDiagonalDisplaySizeInInches</th>\n",
       "      <th>AvSigVersion_1</th>\n",
       "      <th>AVProductsInstalled</th>\n",
       "      <th>SmartScreen</th>\n",
       "    </tr>\n",
       "  </thead>\n",
       "  <tbody>\n",
       "    <tr>\n",
       "      <th>0</th>\n",
       "      <td>0</td>\n",
       "      <td>0</td>\n",
       "      <td>0</td>\n",
       "      <td>0</td>\n",
       "      <td>0</td>\n",
       "      <td>0</td>\n",
       "      <td>0</td>\n",
       "      <td>0</td>\n",
       "      <td>0</td>\n",
       "      <td>0</td>\n",
       "      <td>...</td>\n",
       "      <td>488386.0</td>\n",
       "      <td>8192.0</td>\n",
       "      <td>5</td>\n",
       "      <td>501</td>\n",
       "      <td>7.0</td>\n",
       "      <td>1810</td>\n",
       "      <td>15.500000</td>\n",
       "      <td>281</td>\n",
       "      <td>1.0</td>\n",
       "      <td>13</td>\n",
       "    </tr>\n",
       "    <tr>\n",
       "      <th>1</th>\n",
       "      <td>0</td>\n",
       "      <td>0</td>\n",
       "      <td>0</td>\n",
       "      <td>0</td>\n",
       "      <td>0</td>\n",
       "      <td>0</td>\n",
       "      <td>0</td>\n",
       "      <td>0</td>\n",
       "      <td>0</td>\n",
       "      <td>0</td>\n",
       "      <td>...</td>\n",
       "      <td>1907729.0</td>\n",
       "      <td>8192.0</td>\n",
       "      <td>2</td>\n",
       "      <td>301</td>\n",
       "      <td>7.0</td>\n",
       "      <td>1809</td>\n",
       "      <td>15.500000</td>\n",
       "      <td>279</td>\n",
       "      <td>1.0</td>\n",
       "      <td>13</td>\n",
       "    </tr>\n",
       "    <tr>\n",
       "      <th>2</th>\n",
       "      <td>0</td>\n",
       "      <td>0</td>\n",
       "      <td>0</td>\n",
       "      <td>0</td>\n",
       "      <td>0</td>\n",
       "      <td>0</td>\n",
       "      <td>0</td>\n",
       "      <td>0</td>\n",
       "      <td>0</td>\n",
       "      <td>0</td>\n",
       "      <td>...</td>\n",
       "      <td>29820.0</td>\n",
       "      <td>4096.0</td>\n",
       "      <td>2</td>\n",
       "      <td>230</td>\n",
       "      <td>7.0</td>\n",
       "      <td>1809</td>\n",
       "      <td>13.898438</td>\n",
       "      <td>277</td>\n",
       "      <td>2.0</td>\n",
       "      <td>13</td>\n",
       "    </tr>\n",
       "    <tr>\n",
       "      <th>3</th>\n",
       "      <td>0</td>\n",
       "      <td>0</td>\n",
       "      <td>0</td>\n",
       "      <td>0</td>\n",
       "      <td>0</td>\n",
       "      <td>0</td>\n",
       "      <td>0</td>\n",
       "      <td>0</td>\n",
       "      <td>0</td>\n",
       "      <td>0</td>\n",
       "      <td>...</td>\n",
       "      <td>476940.0</td>\n",
       "      <td>4096.0</td>\n",
       "      <td>5</td>\n",
       "      <td>664</td>\n",
       "      <td>7.0</td>\n",
       "      <td>1810</td>\n",
       "      <td>14.000000</td>\n",
       "      <td>281</td>\n",
       "      <td>2.0</td>\n",
       "      <td>13</td>\n",
       "    </tr>\n",
       "    <tr>\n",
       "      <th>4</th>\n",
       "      <td>0</td>\n",
       "      <td>0</td>\n",
       "      <td>0</td>\n",
       "      <td>0</td>\n",
       "      <td>0</td>\n",
       "      <td>0</td>\n",
       "      <td>0</td>\n",
       "      <td>0</td>\n",
       "      <td>0</td>\n",
       "      <td>0</td>\n",
       "      <td>...</td>\n",
       "      <td>476940.0</td>\n",
       "      <td>2048.0</td>\n",
       "      <td>2</td>\n",
       "      <td>236</td>\n",
       "      <td>7.0</td>\n",
       "      <td>1809</td>\n",
       "      <td>15.500000</td>\n",
       "      <td>279</td>\n",
       "      <td>1.0</td>\n",
       "      <td>13</td>\n",
       "    </tr>\n",
       "  </tbody>\n",
       "</table>\n",
       "<p>5 rows × 100 columns</p>\n",
       "</div>"
      ],
      "text/plain": [
       "   CountryIdentifier_86  CountryIdentifier_85  CountryIdentifier_84  \\\n",
       "0                     0                     0                     0   \n",
       "1                     0                     0                     0   \n",
       "2                     0                     0                     0   \n",
       "3                     0                     0                     0   \n",
       "4                     0                     0                     0   \n",
       "\n",
       "   CountryIdentifier_83  CountryIdentifier_82  CountryIdentifier_63  \\\n",
       "0                     0                     0                     0   \n",
       "1                     0                     0                     0   \n",
       "2                     0                     0                     0   \n",
       "3                     0                     0                     0   \n",
       "4                     0                     0                     0   \n",
       "\n",
       "   CountryIdentifier_62  CountryIdentifier_66  CountryIdentifier_61  \\\n",
       "0                     0                     0                     0   \n",
       "1                     0                     0                     0   \n",
       "2                     0                     0                     0   \n",
       "3                     0                     0                     0   \n",
       "4                     0                     0                     0   \n",
       "\n",
       "   CountryIdentifier_47     ...       Census_PrimaryDiskTotalCapacity  \\\n",
       "0                     0     ...                              488386.0   \n",
       "1                     0     ...                             1907729.0   \n",
       "2                     0     ...                               29820.0   \n",
       "3                     0     ...                              476940.0   \n",
       "4                     0     ...                              476940.0   \n",
       "\n",
       "   Census_TotalPhysicalRAM  AppVersion_3  AvSigVersion_2  RtpStateBitfield  \\\n",
       "0                   8192.0             5             501               7.0   \n",
       "1                   8192.0             2             301               7.0   \n",
       "2                   4096.0             2             230               7.0   \n",
       "3                   4096.0             5             664               7.0   \n",
       "4                   2048.0             2             236               7.0   \n",
       "\n",
       "   AppVersion_2  Census_InternalPrimaryDiagonalDisplaySizeInInches  \\\n",
       "0          1810                                          15.500000   \n",
       "1          1809                                          15.500000   \n",
       "2          1809                                          13.898438   \n",
       "3          1810                                          14.000000   \n",
       "4          1809                                          15.500000   \n",
       "\n",
       "   AvSigVersion_1  AVProductsInstalled  SmartScreen  \n",
       "0             281                  1.0           13  \n",
       "1             279                  1.0           13  \n",
       "2             277                  2.0           13  \n",
       "3             281                  2.0           13  \n",
       "4             279                  1.0           13  \n",
       "\n",
       "[5 rows x 100 columns]"
      ]
     },
     "execution_count": 354,
     "metadata": {},
     "output_type": "execute_result"
    }
   ],
   "source": [
    "df_test[X.columns].head()"
   ]
  },
  {
   "cell_type": "code",
   "execution_count": 359,
   "metadata": {},
   "outputs": [],
   "source": [
    "temp1=X.AVProductStatesIdentifier.value_counts().reset_index()\n",
    "\n",
    "temp1_list=temp1[temp1.AVProductStatesIdentifier>5000]['index'].tolist()\n",
    "\n",
    "#df['AVProductStatesIdentifier']=[1 if x in temp1_list else 0 for x in df['AVProductStatesIdentifier']]"
   ]
  },
  {
   "cell_type": "code",
   "execution_count": 366,
   "metadata": {},
   "outputs": [],
   "source": [
    "#Rectify AVProductStatesIdentifier feature engineering in training data.\n",
    "df_test['AVProductStatesIdentifier']=[1 if x in temp1_list else 0 for x in df_test['AVProductStatesIdentifier']]"
   ]
  },
  {
   "cell_type": "code",
   "execution_count": 363,
   "metadata": {},
   "outputs": [],
   "source": [
    "#df_test.drop(columns=['AVProductStatesIdentifier_dummy'],inplace=True)"
   ]
  },
  {
   "cell_type": "code",
   "execution_count": 384,
   "metadata": {},
   "outputs": [
    {
     "data": {
      "text/plain": [
       "0"
      ]
     },
     "execution_count": 384,
     "metadata": {},
     "output_type": "execute_result"
    }
   ],
   "source": [
    "gc.collect()"
   ]
  },
  {
   "cell_type": "code",
   "execution_count": 377,
   "metadata": {},
   "outputs": [
    {
     "name": "stdout",
     "output_type": "stream",
     "text": [
      "RtpStateBitfield\n",
      "AVProductStatesIdentifier\n",
      "AVProductsInstalled\n",
      "AVProductsEnabled\n",
      "CityIdentifier\n",
      "LocaleEnglishNameIdentifier\n",
      "Processor\n",
      "OsBuild\n",
      "OsSuite\n",
      "OsPlatformSubRelease\n",
      "OsBuildLab\n",
      "IeVerIdentifier\n",
      "SmartScreen\n",
      "Census_OEMModelIdentifier\n",
      "Census_ProcessorCoreCount\n",
      "Census_ProcessorModelIdentifier\n",
      "Census_PrimaryDiskTotalCapacity\n",
      "Census_PrimaryDiskTypeName\n",
      "Census_SystemVolumeTotalCapacity\n",
      "Census_TotalPhysicalRAM\n",
      "Census_ChassisTypeName\n",
      "Census_InternalPrimaryDiagonalDisplaySizeInInches\n",
      "Census_InternalPrimaryDisplayResolutionHorizontal\n",
      "Census_InternalPrimaryDisplayResolutionVertical\n",
      "Census_InternalBatteryNumberOfCharges\n",
      "Census_OSBuildRevision\n",
      "Census_OSInstallTypeName\n",
      "Census_OSInstallLanguageIdentifier\n",
      "Census_OSUILocaleIdentifier\n",
      "Census_OSWUAutoUpdateOptionsName\n",
      "Census_GenuineStateName\n",
      "Census_ActivationChannel\n",
      "Census_FirmwareVersionIdentifier\n",
      "OsBuildLab_1\n",
      "OsBuildLab_3\n",
      "OsBuildLab_4\n",
      "AppVersion_2\n",
      "AppVersion_3\n",
      "AvSigVersion_1\n",
      "AvSigVersion_2\n",
      "EngineVersion_2\n"
     ]
    }
   ],
   "source": [
    "for col in df_test.columns:\n",
    "    if df_test[col].nunique()==2:\n",
    "        df_test[col]=df_test[col].astype('int8')\n",
    "    else:\n",
    "        print(col)\n",
    "        continue"
   ]
  },
  {
   "cell_type": "code",
   "execution_count": 385,
   "metadata": {},
   "outputs": [],
   "source": [
    "#Releasing memory\n",
    "del [t,u,v,w,z,a,b,c,d,e]\n",
    "gc.collect()\n",
    "t=pd.DataFrame()\n",
    "u=pd.DataFrame()\n",
    "v=pd.DataFrame()\n",
    "w=pd.DataFrame()\n",
    "z=pd.DataFrame()\n",
    "a=pd.DataFrame()\n",
    "b=pd.DataFrame()\n",
    "c=pd.DataFrame()\n",
    "d=pd.DataFrame()\n",
    "e=pd.DataFrame()"
   ]
  },
  {
   "cell_type": "code",
   "execution_count": 387,
   "metadata": {},
   "outputs": [
    {
     "data": {
      "text/plain": [
       "0"
      ]
     },
     "execution_count": 387,
     "metadata": {},
     "output_type": "execute_result"
    }
   ],
   "source": [
    "gc.collect()"
   ]
  },
  {
   "cell_type": "code",
   "execution_count": 391,
   "metadata": {},
   "outputs": [
    {
     "data": {
      "text/plain": [
       "array([[7., 0., 0., ..., 0., 0., 0.],\n",
       "       [7., 0., 0., ..., 0., 0., 0.],\n",
       "       [7., 0., 0., ..., 0., 0., 0.],\n",
       "       ...,\n",
       "       [7., 0., 0., ..., 0., 0., 0.],\n",
       "       [7., 0., 0., ..., 0., 0., 0.],\n",
       "       [7., 0., 0., ..., 1., 0., 0.]])"
      ]
     },
     "execution_count": 391,
     "metadata": {},
     "output_type": "execute_result"
    }
   ],
   "source": []
  },
  {
   "cell_type": "code",
   "execution_count": 395,
   "metadata": {},
   "outputs": [
    {
     "ename": "MemoryError",
     "evalue": "",
     "output_type": "error",
     "traceback": [
      "\u001b[1;31m---------------------------------------------------------------------------\u001b[0m",
      "\u001b[1;31mMemoryError\u001b[0m                               Traceback (most recent call last)",
      "\u001b[1;32m<timed exec>\u001b[0m in \u001b[0;36m<module>\u001b[1;34m()\u001b[0m\n",
      "\u001b[1;32m~\\Anaconda3\\lib\\site-packages\\xgboost\\sklearn.py\u001b[0m in \u001b[0;36mpredict_proba\u001b[1;34m(self, data, ntree_limit)\u001b[0m\n\u001b[0;32m    627\u001b[0m             \u001b[0ma\u001b[0m \u001b[0mnumpy\u001b[0m \u001b[0marray\u001b[0m \u001b[1;32mwith\u001b[0m \u001b[0mthe\u001b[0m \u001b[0mprobability\u001b[0m \u001b[0mof\u001b[0m \u001b[0meach\u001b[0m \u001b[0mdata\u001b[0m \u001b[0mexample\u001b[0m \u001b[0mbeing\u001b[0m \u001b[0mof\u001b[0m \u001b[0ma\u001b[0m \u001b[0mgiven\u001b[0m \u001b[1;32mclass\u001b[0m\u001b[1;33m.\u001b[0m\u001b[1;33m\u001b[0m\u001b[0m\n\u001b[0;32m    628\u001b[0m         \"\"\"\n\u001b[1;32m--> 629\u001b[1;33m         \u001b[0mtest_dmatrix\u001b[0m \u001b[1;33m=\u001b[0m \u001b[0mDMatrix\u001b[0m\u001b[1;33m(\u001b[0m\u001b[0mdata\u001b[0m\u001b[1;33m,\u001b[0m \u001b[0mmissing\u001b[0m\u001b[1;33m=\u001b[0m\u001b[0mself\u001b[0m\u001b[1;33m.\u001b[0m\u001b[0mmissing\u001b[0m\u001b[1;33m,\u001b[0m \u001b[0mnthread\u001b[0m\u001b[1;33m=\u001b[0m\u001b[0mself\u001b[0m\u001b[1;33m.\u001b[0m\u001b[0mn_jobs\u001b[0m\u001b[1;33m)\u001b[0m\u001b[1;33m\u001b[0m\u001b[0m\n\u001b[0m\u001b[0;32m    630\u001b[0m         \u001b[1;32mif\u001b[0m \u001b[0mntree_limit\u001b[0m \u001b[1;32mis\u001b[0m \u001b[1;32mNone\u001b[0m\u001b[1;33m:\u001b[0m\u001b[1;33m\u001b[0m\u001b[0m\n\u001b[0;32m    631\u001b[0m             \u001b[0mntree_limit\u001b[0m \u001b[1;33m=\u001b[0m \u001b[0mgetattr\u001b[0m\u001b[1;33m(\u001b[0m\u001b[0mself\u001b[0m\u001b[1;33m,\u001b[0m \u001b[1;34m\"best_ntree_limit\"\u001b[0m\u001b[1;33m,\u001b[0m \u001b[1;36m0\u001b[0m\u001b[1;33m)\u001b[0m\u001b[1;33m\u001b[0m\u001b[0m\n",
      "\u001b[1;32m~\\Anaconda3\\lib\\site-packages\\xgboost\\core.py\u001b[0m in \u001b[0;36m__init__\u001b[1;34m(self, data, label, missing, weight, silent, feature_names, feature_types, nthread)\u001b[0m\n\u001b[0;32m    342\u001b[0m         data, feature_names, feature_types = _maybe_pandas_data(data,\n\u001b[0;32m    343\u001b[0m                                                                 \u001b[0mfeature_names\u001b[0m\u001b[1;33m,\u001b[0m\u001b[1;33m\u001b[0m\u001b[0m\n\u001b[1;32m--> 344\u001b[1;33m                                                                 feature_types)\n\u001b[0m\u001b[0;32m    345\u001b[0m \u001b[1;33m\u001b[0m\u001b[0m\n\u001b[0;32m    346\u001b[0m         data, feature_names, feature_types = _maybe_dt_data(data,\n",
      "\u001b[1;32m~\\Anaconda3\\lib\\site-packages\\xgboost\\core.py\u001b[0m in \u001b[0;36m_maybe_pandas_data\u001b[1;34m(data, feature_names, feature_types)\u001b[0m\n\u001b[0;32m    226\u001b[0m         \u001b[0mfeature_types\u001b[0m \u001b[1;33m=\u001b[0m \u001b[1;33m[\u001b[0m\u001b[0mPANDAS_DTYPE_MAPPER\u001b[0m\u001b[1;33m[\u001b[0m\u001b[0mdtype\u001b[0m\u001b[1;33m.\u001b[0m\u001b[0mname\u001b[0m\u001b[1;33m]\u001b[0m \u001b[1;32mfor\u001b[0m \u001b[0mdtype\u001b[0m \u001b[1;32min\u001b[0m \u001b[0mdata_dtypes\u001b[0m\u001b[1;33m]\u001b[0m\u001b[1;33m\u001b[0m\u001b[0m\n\u001b[0;32m    227\u001b[0m \u001b[1;33m\u001b[0m\u001b[0m\n\u001b[1;32m--> 228\u001b[1;33m     \u001b[0mdata\u001b[0m \u001b[1;33m=\u001b[0m \u001b[0mdata\u001b[0m\u001b[1;33m.\u001b[0m\u001b[0mvalues\u001b[0m\u001b[1;33m.\u001b[0m\u001b[0mastype\u001b[0m\u001b[1;33m(\u001b[0m\u001b[1;34m'float'\u001b[0m\u001b[1;33m)\u001b[0m\u001b[1;33m\u001b[0m\u001b[0m\n\u001b[0m\u001b[0;32m    229\u001b[0m \u001b[1;33m\u001b[0m\u001b[0m\n\u001b[0;32m    230\u001b[0m     \u001b[1;32mreturn\u001b[0m \u001b[0mdata\u001b[0m\u001b[1;33m,\u001b[0m \u001b[0mfeature_names\u001b[0m\u001b[1;33m,\u001b[0m \u001b[0mfeature_types\u001b[0m\u001b[1;33m\u001b[0m\u001b[0m\n",
      "\u001b[1;31mMemoryError\u001b[0m: "
     ]
    }
   ],
   "source": [
    "%%time\n",
    "final_predictions_scores=clf.predict_proba(df_test[X.columns])"
   ]
  },
  {
   "cell_type": "code",
   "execution_count": 408,
   "metadata": {},
   "outputs": [],
   "source": [
    "scores=[]\n",
    "for score in final_predictions_scores:\n",
    "    scores.append(score[1])"
   ]
  },
  {
   "cell_type": "code",
   "execution_count": 409,
   "metadata": {},
   "outputs": [
    {
     "data": {
      "text/plain": [
       "[0.5475711,\n",
       " 0.4981573,\n",
       " 0.4972552,\n",
       " 0.48454648,\n",
       " 0.5603435,\n",
       " 0.49264532,\n",
       " 0.53398114,\n",
       " 0.35467917,\n",
       " 0.48592517,\n",
       " 0.4539983,\n",
       " 0.5710186,\n",
       " 0.43749806,\n",
       " 0.5520055,\n",
       " 0.6815022,\n",
       " 0.47895175,\n",
       " 0.554269,\n",
       " 0.58629984,\n",
       " 0.53492856,\n",
       " 0.56378055,\n",
       " 0.49835852,\n",
       " 0.443027,\n",
       " 0.51818424,\n",
       " 0.5394709,\n",
       " 0.51013637,\n",
       " 0.51416373,\n",
       " 0.56766236,\n",
       " 0.5668039,\n",
       " 0.3861724,\n",
       " 0.42012313,\n",
       " 0.5610944,\n",
       " 0.52976745,\n",
       " 0.5080568,\n",
       " 0.5184186,\n",
       " 0.53770125,\n",
       " 0.501816,\n",
       " 0.53625125,\n",
       " 0.54808336,\n",
       " 0.5353747,\n",
       " 0.5152937,\n",
       " 0.19749905,\n",
       " 0.47328338,\n",
       " 0.49859402,\n",
       " 0.45856813,\n",
       " 0.4671487,\n",
       " 0.51992965,\n",
       " 0.38804615,\n",
       " 0.44505072,\n",
       " 0.5672165,\n",
       " 0.4988023,\n",
       " 0.45240873,\n",
       " 0.5580543,\n",
       " 0.55398357,\n",
       " 0.50560534,\n",
       " 0.5223447,\n",
       " 0.4744181,\n",
       " 0.4992491,\n",
       " 0.31012878,\n",
       " 0.5439581,\n",
       " 0.56122917,\n",
       " 0.49175772,\n",
       " 0.5729203,\n",
       " 0.43800703,\n",
       " 0.546316,\n",
       " 0.45741346,\n",
       " 0.36775932,\n",
       " 0.5246965,\n",
       " 0.48885772,\n",
       " 0.3150565,\n",
       " 0.5696967,\n",
       " 0.5199619,\n",
       " 0.5523198,\n",
       " 0.33364156,\n",
       " 0.46942532,\n",
       " 0.5518357,\n",
       " 0.51998144,\n",
       " 0.5994731,\n",
       " 0.5499743,\n",
       " 0.48502582,\n",
       " 0.4745687,\n",
       " 0.29537773,\n",
       " 0.534023,\n",
       " 0.57065123,\n",
       " 0.5117776,\n",
       " 0.5166602,\n",
       " 0.43116596,\n",
       " 0.3910989,\n",
       " 0.49983358,\n",
       " 0.41812286,\n",
       " 0.56448436,\n",
       " 0.53051203,\n",
       " 0.4746899,\n",
       " 0.5591521,\n",
       " 0.54135096,\n",
       " 0.5235014,\n",
       " 0.4626569,\n",
       " 0.5184372,\n",
       " 0.60218316,\n",
       " 0.5180734,\n",
       " 0.4898655,\n",
       " 0.56304264,\n",
       " 0.5012815,\n",
       " 0.5504327,\n",
       " 0.57312375,\n",
       " 0.46582684,\n",
       " 0.5009407,\n",
       " 0.50874895,\n",
       " 0.4855914,\n",
       " 0.5215897,\n",
       " 0.62241155,\n",
       " 0.5641237,\n",
       " 0.551972,\n",
       " 0.52871853,\n",
       " 0.5914776,\n",
       " 0.43202195,\n",
       " 0.46658435,\n",
       " 0.51697755,\n",
       " 0.5626521,\n",
       " 0.5678407,\n",
       " 0.52300674,\n",
       " 0.545336,\n",
       " 0.5486806,\n",
       " 0.57886744,\n",
       " 0.5345572,\n",
       " 0.24505427,\n",
       " 0.46326208,\n",
       " 0.18596248,\n",
       " 0.5496174,\n",
       " 0.5492756,\n",
       " 0.4778507,\n",
       " 0.57207435,\n",
       " 0.5400661,\n",
       " 0.5634623,\n",
       " 0.54675114,\n",
       " 0.65564513,\n",
       " 0.5460315,\n",
       " 0.568077,\n",
       " 0.4847069,\n",
       " 0.531235,\n",
       " 0.55305904,\n",
       " 0.47998008,\n",
       " 0.32152307,\n",
       " 0.41311064,\n",
       " 0.48821342,\n",
       " 0.31826732,\n",
       " 0.5549648,\n",
       " 0.47615537,\n",
       " 0.44678476,\n",
       " 0.5775691,\n",
       " 0.4184458,\n",
       " 0.52384245,\n",
       " 0.5352363,\n",
       " 0.47338545,\n",
       " 0.49201468,\n",
       " 0.59097755,\n",
       " 0.57106525,\n",
       " 0.5353104,\n",
       " 0.5628262,\n",
       " 0.487051,\n",
       " 0.54464734,\n",
       " 0.54270124,\n",
       " 0.4515278,\n",
       " 0.61130446,\n",
       " 0.5480339,\n",
       " 0.54126585,\n",
       " 0.5401364,\n",
       " 0.5656877,\n",
       " 0.5754928,\n",
       " 0.4315735,\n",
       " 0.52783954,\n",
       " 0.5705269,\n",
       " 0.5465847,\n",
       " 0.3865596,\n",
       " 0.47413614,\n",
       " 0.5725409,\n",
       " 0.386948,\n",
       " 0.5251933,\n",
       " 0.5658164,\n",
       " 0.41329548,\n",
       " 0.31501767,\n",
       " 0.48474246,\n",
       " 0.37543678,\n",
       " 0.4364834,\n",
       " 0.4966785,\n",
       " 0.4659279,\n",
       " 0.51276755,\n",
       " 0.5118633,\n",
       " 0.5082093,\n",
       " 0.13194185,\n",
       " 0.59311074,\n",
       " 0.62108284,\n",
       " 0.554296,\n",
       " 0.5225545,\n",
       " 0.49953386,\n",
       " 0.5425495,\n",
       " 0.5327058,\n",
       " 0.48430443,\n",
       " 0.55666184,\n",
       " 0.51182324,\n",
       " 0.47053334,\n",
       " 0.55309457,\n",
       " 0.5292453,\n",
       " 0.50418454,\n",
       " 0.43079737,\n",
       " 0.559839,\n",
       " 0.55733454,\n",
       " 0.45098364,\n",
       " 0.47004652,\n",
       " 0.46800104,\n",
       " 0.61018497,\n",
       " 0.3377441,\n",
       " 0.54874223,\n",
       " 0.49692747,\n",
       " 0.6040081,\n",
       " 0.3122213,\n",
       " 0.5206571,\n",
       " 0.4822574,\n",
       " 0.56987906,\n",
       " 0.46548244,\n",
       " 0.19466674,\n",
       " 0.55511785,\n",
       " 0.56081665,\n",
       " 0.41414198,\n",
       " 0.51023495,\n",
       " 0.5863457,\n",
       " 0.4970552,\n",
       " 0.6216719,\n",
       " 0.5643144,\n",
       " 0.5172213,\n",
       " 0.5607478,\n",
       " 0.3937547,\n",
       " 0.42130232,\n",
       " 0.5135371,\n",
       " 0.51962554,\n",
       " 0.50922847,\n",
       " 0.5737652,\n",
       " 0.58198625,\n",
       " 0.59197116,\n",
       " 0.50278836,\n",
       " 0.54965556,\n",
       " 0.58031666,\n",
       " 0.32444522,\n",
       " 0.5104555,\n",
       " 0.58545643,\n",
       " 0.6044826,\n",
       " 0.53568137,\n",
       " 0.4743563,\n",
       " 0.51941067,\n",
       " 0.4964993,\n",
       " 0.46849746,\n",
       " 0.4264333,\n",
       " 0.31206435,\n",
       " 0.537416,\n",
       " 0.5090371,\n",
       " 0.5013909,\n",
       " 0.55177516,\n",
       " 0.5532539,\n",
       " 0.51654416,\n",
       " 0.4933918,\n",
       " 0.51640785,\n",
       " 0.49360862,\n",
       " 0.5651927,\n",
       " 0.38551757,\n",
       " 0.46551663,\n",
       " 0.5016638,\n",
       " 0.51967376,\n",
       " 0.52378416,\n",
       " 0.5176717,\n",
       " 0.38547817,\n",
       " 0.5580018,\n",
       " 0.558214,\n",
       " 0.5364324,\n",
       " 0.47217074,\n",
       " 0.56686485,\n",
       " 0.26152828,\n",
       " 0.44070148,\n",
       " 0.54102117,\n",
       " 0.5228109,\n",
       " 0.48804748,\n",
       " 0.52183217,\n",
       " 0.36213562,\n",
       " 0.56236327,\n",
       " 0.5705057,\n",
       " 0.4679956,\n",
       " 0.45446628,\n",
       " 0.54705524,\n",
       " 0.44805214,\n",
       " 0.4679739,\n",
       " 0.4728299,\n",
       " 0.56554705,\n",
       " 0.45102197,\n",
       " 0.5731548,\n",
       " 0.48294467,\n",
       " 0.5331213,\n",
       " 0.5223328,\n",
       " 0.6190925,\n",
       " 0.52244896,\n",
       " 0.40948722,\n",
       " 0.4505553,\n",
       " 0.34482962,\n",
       " 0.5408294,\n",
       " 0.62377006,\n",
       " 0.5515873,\n",
       " 0.47625348,\n",
       " 0.47196326,\n",
       " 0.46564284,\n",
       " 0.4896036,\n",
       " 0.54687107,\n",
       " 0.46745682,\n",
       " 0.60846156,\n",
       " 0.4663423,\n",
       " 0.4952919,\n",
       " 0.4988468,\n",
       " 0.582862,\n",
       " 0.45564625,\n",
       " 0.58720416,\n",
       " 0.45267904,\n",
       " 0.59085774,\n",
       " 0.5193654,\n",
       " 0.48403996,\n",
       " 0.56383365,\n",
       " 0.47438946,\n",
       " 0.5746105,\n",
       " 0.36142713,\n",
       " 0.5264064,\n",
       " 0.53457737,\n",
       " 0.46690202,\n",
       " 0.5654151,\n",
       " 0.49225506,\n",
       " 0.6038669,\n",
       " 0.55884504,\n",
       " 0.53677845,\n",
       " 0.51982576,\n",
       " 0.56216925,\n",
       " 0.5141631,\n",
       " 0.5273524,\n",
       " 0.5130466,\n",
       " 0.4838387,\n",
       " 0.34345028,\n",
       " 0.50534606,\n",
       " 0.1912181,\n",
       " 0.54756206,\n",
       " 0.49069652,\n",
       " 0.32547542,\n",
       " 0.5702537,\n",
       " 0.38798514,\n",
       " 0.5029409,\n",
       " 0.4488575,\n",
       " 0.4745617,\n",
       " 0.13092639,\n",
       " 0.50159204,\n",
       " 0.5827266,\n",
       " 0.4632306,\n",
       " 0.60598034,\n",
       " 0.37580878,\n",
       " 0.44647852,\n",
       " 0.49393448,\n",
       " 0.49778128,\n",
       " 0.54712135,\n",
       " 0.5649226,\n",
       " 0.5326874,\n",
       " 0.54991174,\n",
       " 0.5744652,\n",
       " 0.533251,\n",
       " 0.5702418,\n",
       " 0.49417648,\n",
       " 0.5314477,\n",
       " 0.5851165,\n",
       " 0.43573505,\n",
       " 0.49269226,\n",
       " 0.50557005,\n",
       " 0.4809294,\n",
       " 0.34659705,\n",
       " 0.54912513,\n",
       " 0.54131144,\n",
       " 0.43793362,\n",
       " 0.49937838,\n",
       " 0.6253531,\n",
       " 0.48868793,\n",
       " 0.54697216,\n",
       " 0.5129014,\n",
       " 0.5221479,\n",
       " 0.54133093,\n",
       " 0.4858722,\n",
       " 0.57761323,\n",
       " 0.48124474,\n",
       " 0.5727767,\n",
       " 0.5516475,\n",
       " 0.47658977,\n",
       " 0.27775034,\n",
       " 0.5622033,\n",
       " 0.5023411,\n",
       " 0.49559358,\n",
       " 0.5694595,\n",
       " 0.5455455,\n",
       " 0.5805883,\n",
       " 0.5487436,\n",
       " 0.45192227,\n",
       " 0.5536339,\n",
       " 0.5507494,\n",
       " 0.39238614,\n",
       " 0.51140445,\n",
       " 0.5464246,\n",
       " 0.45385072,\n",
       " 0.4643224,\n",
       " 0.449926,\n",
       " 0.50706154,\n",
       " 0.5405896,\n",
       " 0.14285663,\n",
       " 0.48851308,\n",
       " 0.45057234,\n",
       " 0.5145966,\n",
       " 0.48413393,\n",
       " 0.49153817,\n",
       " 0.6169497,\n",
       " 0.47605884,\n",
       " 0.6092925,\n",
       " 0.56012636,\n",
       " 0.13316058,\n",
       " 0.55333316,\n",
       " 0.54309285,\n",
       " 0.4175202,\n",
       " 0.60984886,\n",
       " 0.43667132,\n",
       " 0.57352406,\n",
       " 0.62729454,\n",
       " 0.2542143,\n",
       " 0.52553594,\n",
       " 0.4754874,\n",
       " 0.5351796,\n",
       " 0.35000113,\n",
       " 0.52417344,\n",
       " 0.52434844,\n",
       " 0.60056645,\n",
       " 0.54274404,\n",
       " 0.5634584,\n",
       " 0.5639541,\n",
       " 0.5649839,\n",
       " 0.56085694,\n",
       " 0.48867825,\n",
       " 0.55854267,\n",
       " 0.55374175,\n",
       " 0.54080665,\n",
       " 0.4653889,\n",
       " 0.49334967,\n",
       " 0.5308422,\n",
       " 0.4801901,\n",
       " 0.4942523,\n",
       " 0.538255,\n",
       " 0.40235138,\n",
       " 0.47462308,\n",
       " 0.50642174,\n",
       " 0.58570766,\n",
       " 0.51999533,\n",
       " 0.56621563,\n",
       " 0.54402274,\n",
       " 0.5071355,\n",
       " 0.31118685,\n",
       " 0.5389288,\n",
       " 0.54929906,\n",
       " 0.4657845,\n",
       " 0.5429061,\n",
       " 0.5308941,\n",
       " 0.4691935,\n",
       " 0.42493054,\n",
       " 0.5866384,\n",
       " 0.5174298,\n",
       " 0.5479991,\n",
       " 0.5581426,\n",
       " 0.47102085,\n",
       " 0.5349207,\n",
       " 0.5520553,\n",
       " 0.56794214,\n",
       " 0.54577607,\n",
       " 0.56321156,\n",
       " 0.5194929,\n",
       " 0.54351306,\n",
       " 0.558776,\n",
       " 0.46021885,\n",
       " 0.51524943,\n",
       " 0.4879985,\n",
       " 0.51555794,\n",
       " 0.3544464,\n",
       " 0.49736336,\n",
       " 0.51310563,\n",
       " 0.2493724,\n",
       " 0.5440731,\n",
       " 0.41232944,\n",
       " 0.46446693,\n",
       " 0.58127946,\n",
       " 0.52077156,\n",
       " 0.5264263,\n",
       " 0.5307391,\n",
       " 0.56349665,\n",
       " 0.3914498,\n",
       " 0.548485,\n",
       " 0.4765113,\n",
       " 0.5167301,\n",
       " 0.52333987,\n",
       " 0.55985934,\n",
       " 0.64250803,\n",
       " 0.409719,\n",
       " 0.60820025,\n",
       " 0.5765208,\n",
       " 0.4655214,\n",
       " 0.5361276,\n",
       " 0.6246741,\n",
       " 0.5378819,\n",
       " 0.4732343,\n",
       " 0.4946814,\n",
       " 0.4737816,\n",
       " 0.5038374,\n",
       " 0.49177498,\n",
       " 0.5351968,\n",
       " 0.5396921,\n",
       " 0.4876524,\n",
       " 0.4691386,\n",
       " 0.5765447,\n",
       " 0.56484467,\n",
       " 0.5024573,\n",
       " 0.5431767,\n",
       " 0.54824126,\n",
       " 0.55011386,\n",
       " 0.49997473,\n",
       " 0.4780771,\n",
       " 0.5379417,\n",
       " 0.55680484,\n",
       " 0.52881104,\n",
       " 0.491448,\n",
       " 0.56340134,\n",
       " 0.57903844,\n",
       " 0.5177753,\n",
       " 0.55203503,\n",
       " 0.5246187,\n",
       " 0.52492166,\n",
       " 0.4265956,\n",
       " 0.4249673,\n",
       " 0.4721481,\n",
       " 0.5129931,\n",
       " 0.489558,\n",
       " 0.40284812,\n",
       " 0.3776183,\n",
       " 0.55963457,\n",
       " 0.15060097,\n",
       " 0.5568771,\n",
       " 0.49730888,\n",
       " 0.4978316,\n",
       " 0.5475485,\n",
       " 0.5285652,\n",
       " 0.48730105,\n",
       " 0.47847387,\n",
       " 0.56512856,\n",
       " 0.57294476,\n",
       " 0.522283,\n",
       " 0.38037074,\n",
       " 0.5229364,\n",
       " 0.516244,\n",
       " 0.4904495,\n",
       " 0.56098557,\n",
       " 0.50121504,\n",
       " 0.4072769,\n",
       " 0.38225627,\n",
       " 0.532742,\n",
       " 0.48501852,\n",
       " 0.4705857,\n",
       " 0.5040754,\n",
       " 0.5237936,\n",
       " 0.541894,\n",
       " 0.53944904,\n",
       " 0.64647907,\n",
       " 0.60160655,\n",
       " 0.5481059,\n",
       " 0.49335825,\n",
       " 0.5203279,\n",
       " 0.49314913,\n",
       " 0.5935226,\n",
       " 0.54847986,\n",
       " 0.49981922,\n",
       " 0.44984308,\n",
       " 0.50622445,\n",
       " 0.44813114,\n",
       " 0.5369733,\n",
       " 0.4327208,\n",
       " 0.4916639,\n",
       " 0.43970215,\n",
       " 0.5286043,\n",
       " 0.52376425,\n",
       " 0.46783897,\n",
       " 0.37142926,\n",
       " 0.4833723,\n",
       " 0.5452766,\n",
       " 0.5157562,\n",
       " 0.59143883,\n",
       " 0.40435147,\n",
       " 0.5709498,\n",
       " 0.45990843,\n",
       " 0.48756272,\n",
       " 0.46630496,\n",
       " 0.55219185,\n",
       " 0.44389373,\n",
       " 0.46781468,\n",
       " 0.5055242,\n",
       " 0.57729733,\n",
       " 0.5089039,\n",
       " 0.623712,\n",
       " 0.4861835,\n",
       " 0.5083186,\n",
       " 0.55546063,\n",
       " 0.53025556,\n",
       " 0.5379548,\n",
       " 0.5342554,\n",
       " 0.48551086,\n",
       " 0.49013054,\n",
       " 0.48846838,\n",
       " 0.34800172,\n",
       " 0.54253334,\n",
       " 0.3500504,\n",
       " 0.53919315,\n",
       " 0.56084543,\n",
       " 0.5061313,\n",
       " 0.5035755,\n",
       " 0.46619737,\n",
       " 0.5291286,\n",
       " 0.41058397,\n",
       " 0.51090115,\n",
       " 0.5209693,\n",
       " 0.4613411,\n",
       " 0.45287505,\n",
       " 0.5743602,\n",
       " 0.558065,\n",
       " 0.4366225,\n",
       " 0.44371092,\n",
       " 0.5485069,\n",
       " 0.548477,\n",
       " 0.5438485,\n",
       " 0.53717655,\n",
       " 0.50063914,\n",
       " 0.4544918,\n",
       " 0.44900838,\n",
       " 0.45940745,\n",
       " 0.45373273,\n",
       " 0.5448386,\n",
       " 0.47096658,\n",
       " 0.45806298,\n",
       " 0.57879835,\n",
       " 0.49999654,\n",
       " 0.54569834,\n",
       " 0.44280884,\n",
       " 0.38472977,\n",
       " 0.6592675,\n",
       " 0.49186316,\n",
       " 0.46658862,\n",
       " 0.54858756,\n",
       " 0.42753118,\n",
       " 0.41412473,\n",
       " 0.39208195,\n",
       " 0.2860141,\n",
       " 0.48080155,\n",
       " 0.58077824,\n",
       " 0.5272618,\n",
       " 0.5799661,\n",
       " 0.48245195,\n",
       " 0.58063763,\n",
       " 0.5825178,\n",
       " 0.5255547,\n",
       " 0.4504577,\n",
       " 0.42675647,\n",
       " 0.53446525,\n",
       " 0.44824824,\n",
       " 0.47782925,\n",
       " 0.51993877,\n",
       " 0.57775027,\n",
       " 0.50778294,\n",
       " 0.48318663,\n",
       " 0.40271187,\n",
       " 0.50025284,\n",
       " 0.5432974,\n",
       " 0.50186086,\n",
       " 0.56436074,\n",
       " 0.45582736,\n",
       " 0.53833413,\n",
       " 0.559649,\n",
       " 0.4753836,\n",
       " 0.5610105,\n",
       " 0.53079563,\n",
       " 0.57949144,\n",
       " 0.4728163,\n",
       " 0.4700983,\n",
       " 0.54245484,\n",
       " 0.35450244,\n",
       " 0.5842378,\n",
       " 0.48220798,\n",
       " 0.50351876,\n",
       " 0.6520673,\n",
       " 0.5636035,\n",
       " 0.47883385,\n",
       " 0.50473505,\n",
       " 0.59049606,\n",
       " 0.5163393,\n",
       " 0.4925977,\n",
       " 0.53844064,\n",
       " 0.54797316,\n",
       " 0.39228022,\n",
       " 0.4805558,\n",
       " 0.5002346,\n",
       " 0.5855667,\n",
       " 0.5315232,\n",
       " 0.38433892,\n",
       " 0.52449477,\n",
       " 0.5136938,\n",
       " 0.45032606,\n",
       " 0.6174002,\n",
       " 0.53295195,\n",
       " 0.46323472,\n",
       " 0.31177193,\n",
       " 0.56351167,\n",
       " 0.5300758,\n",
       " 0.5325981,\n",
       " 0.528135,\n",
       " 0.50719684,\n",
       " 0.4987334,\n",
       " 0.50582474,\n",
       " 0.51616335,\n",
       " 0.4866613,\n",
       " 0.60135156,\n",
       " 0.48539612,\n",
       " 0.51601475,\n",
       " 0.55776364,\n",
       " 0.5920236,\n",
       " 0.53682476,\n",
       " 0.53547233,\n",
       " 0.3096404,\n",
       " 0.5024086,\n",
       " 0.53580314,\n",
       " 0.58032286,\n",
       " 0.4700096,\n",
       " 0.45519805,\n",
       " 0.48238558,\n",
       " 0.54766077,\n",
       " 0.40707278,\n",
       " 0.6016208,\n",
       " 0.48569143,\n",
       " 0.5229427,\n",
       " 0.6057253,\n",
       " 0.49872455,\n",
       " 0.6071428,\n",
       " 0.42300794,\n",
       " 0.5112646,\n",
       " 0.6167149,\n",
       " 0.30843443,\n",
       " 0.6457167,\n",
       " 0.49564692,\n",
       " 0.4436416,\n",
       " 0.53851277,\n",
       " 0.53837526,\n",
       " 0.4498272,\n",
       " 0.58905154,\n",
       " 0.50644076,\n",
       " 0.51449364,\n",
       " 0.5539986,\n",
       " 0.3908643,\n",
       " 0.46705788,\n",
       " 0.26916143,\n",
       " 0.4508295,\n",
       " 0.48049504,\n",
       " 0.50606835,\n",
       " 0.380109,\n",
       " 0.592139,\n",
       " 0.59605384,\n",
       " 0.4980644,\n",
       " 0.404481,\n",
       " 0.2527483,\n",
       " 0.53561574,\n",
       " 0.49115947,\n",
       " 0.5932125,\n",
       " 0.34947863,\n",
       " 0.5763872,\n",
       " 0.52929413,\n",
       " 0.5654501,\n",
       " 0.5598018,\n",
       " 0.43131077,\n",
       " 0.5654654,\n",
       " 0.4930525,\n",
       " 0.59275323,\n",
       " 0.54764354,\n",
       " 0.54813457,\n",
       " 0.2871149,\n",
       " 0.53000313,\n",
       " 0.5103387,\n",
       " 0.5434422,\n",
       " 0.40902737,\n",
       " 0.5933643,\n",
       " 0.4409218,\n",
       " 0.51294017,\n",
       " 0.45965832,\n",
       " 0.57943237,\n",
       " 0.5699932,\n",
       " 0.3711265,\n",
       " 0.587386,\n",
       " 0.48121002,\n",
       " 0.5466331,\n",
       " 0.58514124,\n",
       " 0.57866216,\n",
       " 0.4663063,\n",
       " 0.4948012,\n",
       " 0.3574953,\n",
       " 0.49141273,\n",
       " 0.49719876,\n",
       " 0.50064176,\n",
       " 0.29589948,\n",
       " 0.3484887,\n",
       " 0.49199584,\n",
       " 0.57488865,\n",
       " 0.53112406,\n",
       " 0.5117951,\n",
       " 0.45813906,\n",
       " 0.58310413,\n",
       " 0.56097996,\n",
       " 0.4575324,\n",
       " 0.46602255,\n",
       " 0.5105923,\n",
       " 0.5191338,\n",
       " 0.5446972,\n",
       " 0.51281816,\n",
       " 0.5240537,\n",
       " 0.40510464,\n",
       " 0.47563937,\n",
       " 0.4901396,\n",
       " 0.5537589,\n",
       " 0.5506678,\n",
       " 0.55683887,\n",
       " 0.49500242,\n",
       " 0.59611875,\n",
       " 0.6691593,\n",
       " 0.50037336,\n",
       " 0.46097767,\n",
       " 0.5554111,\n",
       " 0.53942955,\n",
       " 0.4067744,\n",
       " 0.39286754,\n",
       " 0.50028193,\n",
       " 0.5378989,\n",
       " 0.5261137,\n",
       " 0.5005427,\n",
       " 0.5354291,\n",
       " 0.44425553,\n",
       " 0.36534727,\n",
       " 0.47740057,\n",
       " 0.5414986,\n",
       " 0.5634854,\n",
       " 0.51817065,\n",
       " 0.5291469,\n",
       " 0.5721147,\n",
       " 0.46930254,\n",
       " 0.5294487,\n",
       " 0.4965621,\n",
       " 0.56390154,\n",
       " 0.4524153,\n",
       " 0.48951986,\n",
       " 0.57488793,\n",
       " 0.4985162,\n",
       " 0.58986753,\n",
       " 0.60186154,\n",
       " 0.5003185,\n",
       " 0.5544824,\n",
       " 0.52398443,\n",
       " 0.6102241,\n",
       " 0.4828292,\n",
       " 0.4062013,\n",
       " 0.38795736,\n",
       " 0.50771004,\n",
       " 0.55930805,\n",
       " 0.451961,\n",
       " 0.45919997,\n",
       " 0.45371878,\n",
       " 0.5221005,\n",
       " 0.42926565,\n",
       " 0.5517959,\n",
       " 0.53850746,\n",
       " 0.5202743,\n",
       " 0.524939,\n",
       " 0.42366278,\n",
       " 0.37697393,\n",
       " 0.5710673,\n",
       " 0.35119468,\n",
       " 0.484155,\n",
       " 0.4880648,\n",
       " 0.4727885,\n",
       " 0.53421354,\n",
       " 0.397525,\n",
       " 0.400384,\n",
       " 0.5195652,\n",
       " 0.57172126,\n",
       " 0.5535803,\n",
       " 0.5274263,\n",
       " 0.5290653,\n",
       " 0.52844673,\n",
       " 0.54529274,\n",
       " 0.62513036,\n",
       " 0.64485896,\n",
       " 0.47977385,\n",
       " 0.5336429,\n",
       " 0.17122264,\n",
       " 0.41540426,\n",
       " 0.5617646,\n",
       " 0.5049664,\n",
       " 0.49318215,\n",
       " 0.53255594,\n",
       " 0.5419562,\n",
       " 0.5676514,\n",
       " 0.56555796,\n",
       " 0.5817743,\n",
       " 0.317272,\n",
       " 0.49064383,\n",
       " 0.5170019,\n",
       " 0.5609727,\n",
       " 0.5712846,\n",
       " 0.46628442,\n",
       " 0.5332113,\n",
       " 0.55440795,\n",
       " 0.48677686,\n",
       " 0.5699316,\n",
       " 0.5701428,\n",
       " 0.53391975,\n",
       " 0.44374627,\n",
       " 0.49016297,\n",
       " 0.54691106,\n",
       " 0.573087,\n",
       " 0.5626636,\n",
       " 0.57392883,\n",
       " 0.52303237,\n",
       " 0.30471215,\n",
       " 0.5440841,\n",
       " 0.45983315,\n",
       " 0.3563726,\n",
       " 0.4945945,\n",
       " 0.48083478,\n",
       " 0.2389357,\n",
       " 0.51105064,\n",
       " 0.5243969,\n",
       " 0.5032552,\n",
       " 0.573449,\n",
       " 0.56786525,\n",
       " 0.42188552,\n",
       " 0.47854966,\n",
       " 0.50668955,\n",
       " 0.44442138,\n",
       " 0.5975493,\n",
       " 0.5094597,\n",
       " 0.50960755,\n",
       " 0.38143262,\n",
       " 0.5093431,\n",
       " 0.5468242,\n",
       " 0.5577673,\n",
       " 0.5631059,\n",
       " 0.48547855,\n",
       " 0.556361,\n",
       " 0.5818725,\n",
       " 0.3852055,\n",
       " 0.47782582,\n",
       " 0.40105325,\n",
       " 0.52238685,\n",
       " 0.43319345,\n",
       " 0.46135727,\n",
       " 0.54520094,\n",
       " 0.5156012,\n",
       " 0.47583395,\n",
       " 0.54548687,\n",
       " 0.5484274,\n",
       " 0.614171,\n",
       " 0.54152876,\n",
       " 0.4602958,\n",
       " 0.5618933,\n",
       " 0.49744233,\n",
       " 0.50011444,\n",
       " 0.4677284,\n",
       " 0.5234648,\n",
       " 0.50525343,\n",
       " 0.5731101,\n",
       " 0.5110314,\n",
       " 0.4193739,\n",
       " 0.49774453,\n",
       " 0.515574,\n",
       " 0.5637435,\n",
       " 0.40697825,\n",
       " 0.5662437,\n",
       " 0.63751864,\n",
       " 0.5147757,\n",
       " 0.5435011,\n",
       " 0.5301321,\n",
       " 0.14500695,\n",
       " 0.60460544,\n",
       " 0.5021319,\n",
       " 0.55207986,\n",
       " 0.5456799,\n",
       " 0.4727746,\n",
       " 0.5586379,\n",
       " 0.47009188,\n",
       " 0.5179893,\n",
       " 0.5009128,\n",
       " 0.5121255,\n",
       " ...]"
      ]
     },
     "execution_count": 409,
     "metadata": {},
     "output_type": "execute_result"
    }
   ],
   "source": [
    "scores"
   ]
  },
  {
   "cell_type": "code",
   "execution_count": 410,
   "metadata": {},
   "outputs": [],
   "source": [
    "solution['HasDetections']=scores"
   ]
  },
  {
   "cell_type": "code",
   "execution_count": 411,
   "metadata": {},
   "outputs": [],
   "source": [
    "solution.to_csv(\"EDA_v3_FE_V5_solution10.csv\",index=False)"
   ]
  },
  {
   "cell_type": "code",
   "execution_count": 223,
   "metadata": {},
   "outputs": [
    {
     "data": {
      "text/plain": [
       "0"
      ]
     },
     "execution_count": 223,
     "metadata": {},
     "output_type": "execute_result"
    }
   ],
   "source": [
    "gc.collect()"
   ]
  },
  {
   "cell_type": "code",
   "execution_count": 224,
   "metadata": {},
   "outputs": [],
   "source": [
    "from sklearn.naive_bayes import GaussianNB"
   ]
  },
  {
   "cell_type": "code",
   "execution_count": 225,
   "metadata": {},
   "outputs": [],
   "source": [
    "gnb=GaussianNB()"
   ]
  },
  {
   "cell_type": "code",
   "execution_count": 226,
   "metadata": {},
   "outputs": [],
   "source": []
  },
  {
   "cell_type": "code",
   "execution_count": null,
   "metadata": {},
   "outputs": [],
   "source": []
  }
 ],
 "metadata": {
  "kernelspec": {
   "display_name": "Python 3",
   "language": "python",
   "name": "python3"
  },
  "language_info": {
   "codemirror_mode": {
    "name": "ipython",
    "version": 3
   },
   "file_extension": ".py",
   "mimetype": "text/x-python",
   "name": "python",
   "nbconvert_exporter": "python",
   "pygments_lexer": "ipython3",
   "version": "3.6.5"
  }
 },
 "nbformat": 4,
 "nbformat_minor": 2
}
